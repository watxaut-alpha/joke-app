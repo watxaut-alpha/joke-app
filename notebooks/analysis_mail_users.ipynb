{
 "cells": [
  {
   "cell_type": "code",
   "execution_count": 21,
   "metadata": {},
   "outputs": [],
   "source": [
    "# change dir because notebook is in a child directory of the root directory (and does not find my modules)\n",
    "import os\n",
    "import datetime\n",
    "try:\n",
    "    os.chdir(r'/Users/joan/code/python/jokes-app/src/api')\n",
    "    path_to_env = \"/Users/joan/code/python/jokes-app/config/env-api.env\"\n",
    "except FileNotFoundError:\n",
    "    os.chdir(r'/home/repos/joke-app/src/api')\n",
    "    path_to_env = \"/home/repos/joke-app/config/env-api.env\""
   ]
  },
  {
   "cell_type": "code",
   "execution_count": 22,
   "metadata": {},
   "outputs": [],
   "source": [
    "import dotenv\n",
    "dotenv.load_dotenv(dotenv_path=path_to_env)\n",
    "from src.config import HOST as DB_HOST, POSTGRES_USER, POSTGRES_PASSWORD, SCHEMA_NAME\n",
    "DB_HOST = \"watxaut.com\""
   ]
  },
  {
   "cell_type": "code",
   "execution_count": 23,
   "metadata": {},
   "outputs": [],
   "source": [
    "import pandas as pd\n",
    "import matplotlib.pyplot as plt"
   ]
  },
  {
   "cell_type": "code",
   "execution_count": 24,
   "metadata": {},
   "outputs": [],
   "source": [
    "import src.db.core as db"
   ]
  },
  {
   "cell_type": "markdown",
   "metadata": {},
   "source": [
    "### Get connection to Postgres DB"
   ]
  },
  {
   "cell_type": "code",
   "execution_count": 25,
   "metadata": {},
   "outputs": [],
   "source": [
    "conn = db.connect(host=DB_HOST, user=POSTGRES_USER, password=POSTGRES_PASSWORD, schema_name=SCHEMA_NAME)"
   ]
  },
  {
   "cell_type": "markdown",
   "metadata": {},
   "source": [
    "# USERS"
   ]
  },
  {
   "cell_type": "markdown",
   "metadata": {},
   "source": [
    "### Get Number of subscribed users and unsubscribed users"
   ]
  },
  {
   "cell_type": "code",
   "execution_count": 26,
   "metadata": {},
   "outputs": [],
   "source": [
    "df = db.execute_read(conn, \"select * from users_mail\")"
   ]
  },
  {
   "cell_type": "code",
   "execution_count": 27,
   "metadata": {},
   "outputs": [],
   "source": [
    "n_subbed = df[\"deleted_at\"].isna().sum()\n",
    "n_unsubbed = len(df) - n_subbed"
   ]
  },
  {
   "cell_type": "code",
   "execution_count": 28,
   "metadata": {},
   "outputs": [
    {
     "data": {
      "image/png": "[encoded data removed]",
      "text/plain": [
       "<Figure size 432x288 with 1 Axes>"
      ]
     },
     "metadata": {
      "needs_background": "light"
     },
     "output_type": "display_data"
    }
   ],
   "source": [
    "fig = plt.figure()\n",
    "ax = fig.add_axes([0,0,1,1])\n",
    "l_bars = ['Subscribed', 'Unsubscribed']\n",
    "ax.bar(l_bars, [n_subbed, n_unsubbed])\n",
    "plt.show()"
   ]
  },
  {
   "cell_type": "markdown",
   "metadata": {},
   "source": [
    "### Top 10 Joke reviewers"
   ]
  },
  {
   "cell_type": "code",
   "execution_count": 29,
   "metadata": {},
   "outputs": [],
   "source": [
    "df_mean_user = db.execute_read(conn, \"\"\"\n",
    "select \n",
    "\tsplit_part(um.email, '@', 1) as user, avg(r.rating), count(r)\n",
    "from \n",
    "\tratings as r\n",
    "left join users_mail as um\n",
    "on (r.user_id = um.id_hash)\n",
    "where \"source\" = 'mail' and um.email is not null\n",
    "group by um.email\n",
    "order by count(r.rating) desc\n",
    "\"\"\")"
   ]
  },
  {
   "cell_type": "code",
   "execution_count": 30,
   "metadata": {
    "scrolled": false
   },
   "outputs": [
    {
     "data": {
      "text/html": [
       "<div>\n",
       "<style scoped>\n",
       "    .dataframe tbody tr th:only-of-type {\n",
       "        vertical-align: middle;\n",
       "    }\n",
       "\n",
       "    .dataframe tbody tr th {\n",
       "        vertical-align: top;\n",
       "    }\n",
       "\n",
       "    .dataframe thead th {\n",
       "        text-align: right;\n",
       "    }\n",
       "</style>\n",
       "<table border=\"1\" class=\"dataframe\">\n",
       "  <thead>\n",
       "    <tr style=\"text-align: right;\">\n",
       "      <th></th>\n",
       "      <th>user</th>\n",
       "      <th>avg</th>\n",
       "      <th>count</th>\n",
       "    </tr>\n",
       "  </thead>\n",
       "  <tbody>\n",
       "    <tr>\n",
       "      <td>0</td>\n",
       "      <td>watxaut</td>\n",
       "      <td>7.550725</td>\n",
       "      <td>69</td>\n",
       "    </tr>\n",
       "    <tr>\n",
       "      <td>1</td>\n",
       "      <td>jaime.conde</td>\n",
       "      <td>1.741667</td>\n",
       "      <td>60</td>\n",
       "    </tr>\n",
       "    <tr>\n",
       "      <td>2</td>\n",
       "      <td>irene.chausse</td>\n",
       "      <td>4.982143</td>\n",
       "      <td>56</td>\n",
       "    </tr>\n",
       "    <tr>\n",
       "      <td>3</td>\n",
       "      <td>Javier.heras</td>\n",
       "      <td>5.611111</td>\n",
       "      <td>54</td>\n",
       "    </tr>\n",
       "    <tr>\n",
       "      <td>4</td>\n",
       "      <td>Extern.javier.gris</td>\n",
       "      <td>5.075472</td>\n",
       "      <td>53</td>\n",
       "    </tr>\n",
       "    <tr>\n",
       "      <td>5</td>\n",
       "      <td>adria.hr</td>\n",
       "      <td>4.288462</td>\n",
       "      <td>52</td>\n",
       "    </tr>\n",
       "    <tr>\n",
       "      <td>6</td>\n",
       "      <td>antoni.martinezlopez</td>\n",
       "      <td>3.990385</td>\n",
       "      <td>52</td>\n",
       "    </tr>\n",
       "    <tr>\n",
       "      <td>7</td>\n",
       "      <td>guillem.mcid</td>\n",
       "      <td>6.865385</td>\n",
       "      <td>52</td>\n",
       "    </tr>\n",
       "    <tr>\n",
       "      <td>8</td>\n",
       "      <td>ingrid.falguera19</td>\n",
       "      <td>6.888889</td>\n",
       "      <td>45</td>\n",
       "    </tr>\n",
       "    <tr>\n",
       "      <td>9</td>\n",
       "      <td>bcocamarin</td>\n",
       "      <td>7.090909</td>\n",
       "      <td>33</td>\n",
       "    </tr>\n",
       "    <tr>\n",
       "      <td>10</td>\n",
       "      <td>oriol33charles</td>\n",
       "      <td>5.333333</td>\n",
       "      <td>33</td>\n",
       "    </tr>\n",
       "    <tr>\n",
       "      <td>11</td>\n",
       "      <td>leireberrocal6</td>\n",
       "      <td>6.924242</td>\n",
       "      <td>33</td>\n",
       "    </tr>\n",
       "    <tr>\n",
       "      <td>12</td>\n",
       "      <td>cristinacp01</td>\n",
       "      <td>6.032258</td>\n",
       "      <td>31</td>\n",
       "    </tr>\n",
       "    <tr>\n",
       "      <td>13</td>\n",
       "      <td>neuscuadernpuig</td>\n",
       "      <td>8.066667</td>\n",
       "      <td>30</td>\n",
       "    </tr>\n",
       "    <tr>\n",
       "      <td>14</td>\n",
       "      <td>18mariaff</td>\n",
       "      <td>5.625000</td>\n",
       "      <td>28</td>\n",
       "    </tr>\n",
       "    <tr>\n",
       "      <td>15</td>\n",
       "      <td>pmignasi</td>\n",
       "      <td>5.208333</td>\n",
       "      <td>24</td>\n",
       "    </tr>\n",
       "    <tr>\n",
       "      <td>16</td>\n",
       "      <td>ponsmonica95</td>\n",
       "      <td>4.318182</td>\n",
       "      <td>22</td>\n",
       "    </tr>\n",
       "    <tr>\n",
       "      <td>17</td>\n",
       "      <td>marccampmanygarcia</td>\n",
       "      <td>5.047619</td>\n",
       "      <td>21</td>\n",
       "    </tr>\n",
       "    <tr>\n",
       "      <td>18</td>\n",
       "      <td>alex.colomer.puig</td>\n",
       "      <td>4.150000</td>\n",
       "      <td>20</td>\n",
       "    </tr>\n",
       "    <tr>\n",
       "      <td>19</td>\n",
       "      <td>paucharlez1997</td>\n",
       "      <td>6.941176</td>\n",
       "      <td>17</td>\n",
       "    </tr>\n",
       "  </tbody>\n",
       "</table>\n",
       "</div>"
      ],
      "text/plain": [
       "                    user       avg  count\n",
       "0                watxaut  7.550725     69\n",
       "1            jaime.conde  1.741667     60\n",
       "2          irene.chausse  4.982143     56\n",
       "3           Javier.heras  5.611111     54\n",
       "4     Extern.javier.gris  5.075472     53\n",
       "5               adria.hr  4.288462     52\n",
       "6   antoni.martinezlopez  3.990385     52\n",
       "7           guillem.mcid  6.865385     52\n",
       "8      ingrid.falguera19  6.888889     45\n",
       "9             bcocamarin  7.090909     33\n",
       "10        oriol33charles  5.333333     33\n",
       "11        leireberrocal6  6.924242     33\n",
       "12          cristinacp01  6.032258     31\n",
       "13       neuscuadernpuig  8.066667     30\n",
       "14             18mariaff  5.625000     28\n",
       "15              pmignasi  5.208333     24\n",
       "16          ponsmonica95  4.318182     22\n",
       "17    marccampmanygarcia  5.047619     21\n",
       "18     alex.colomer.puig  4.150000     20\n",
       "19        paucharlez1997  6.941176     17"
      ]
     },
     "execution_count": 30,
     "metadata": {},
     "output_type": "execute_result"
    }
   ],
   "source": [
    "df_mean_user.head(20)"
   ]
  },
  {
   "cell_type": "markdown",
   "metadata": {},
   "source": [
    "## TOP 5 Most Haters (min 5 reviews)"
   ]
  },
  {
   "cell_type": "code",
   "execution_count": 31,
   "metadata": {},
   "outputs": [
    {
     "data": {
      "text/html": [
       "<div>\n",
       "<style scoped>\n",
       "    .dataframe tbody tr th:only-of-type {\n",
       "        vertical-align: middle;\n",
       "    }\n",
       "\n",
       "    .dataframe tbody tr th {\n",
       "        vertical-align: top;\n",
       "    }\n",
       "\n",
       "    .dataframe thead th {\n",
       "        text-align: right;\n",
       "    }\n",
       "</style>\n",
       "<table border=\"1\" class=\"dataframe\">\n",
       "  <thead>\n",
       "    <tr style=\"text-align: right;\">\n",
       "      <th></th>\n",
       "      <th>user</th>\n",
       "      <th>avg</th>\n",
       "      <th>count</th>\n",
       "    </tr>\n",
       "  </thead>\n",
       "  <tbody>\n",
       "    <tr>\n",
       "      <td>1</td>\n",
       "      <td>jaime.conde</td>\n",
       "      <td>1.741667</td>\n",
       "      <td>60</td>\n",
       "    </tr>\n",
       "    <tr>\n",
       "      <td>6</td>\n",
       "      <td>antoni.martinezlopez</td>\n",
       "      <td>3.990385</td>\n",
       "      <td>52</td>\n",
       "    </tr>\n",
       "    <tr>\n",
       "      <td>18</td>\n",
       "      <td>alex.colomer.puig</td>\n",
       "      <td>4.150000</td>\n",
       "      <td>20</td>\n",
       "    </tr>\n",
       "    <tr>\n",
       "      <td>5</td>\n",
       "      <td>adria.hr</td>\n",
       "      <td>4.288462</td>\n",
       "      <td>52</td>\n",
       "    </tr>\n",
       "    <tr>\n",
       "      <td>16</td>\n",
       "      <td>ponsmonica95</td>\n",
       "      <td>4.318182</td>\n",
       "      <td>22</td>\n",
       "    </tr>\n",
       "  </tbody>\n",
       "</table>\n",
       "</div>"
      ],
      "text/plain": [
       "                    user       avg  count\n",
       "1            jaime.conde  1.741667     60\n",
       "6   antoni.martinezlopez  3.990385     52\n",
       "18     alex.colomer.puig  4.150000     20\n",
       "5               adria.hr  4.288462     52\n",
       "16          ponsmonica95  4.318182     22"
      ]
     },
     "execution_count": 31,
     "metadata": {},
     "output_type": "execute_result"
    }
   ],
   "source": [
    "df_mean_user_min_count = df_mean_user[df_mean_user[\"count\"] >= 5]\n",
    "df_mean_user_hater = df_mean_user_min_count.sort_values(by=['avg', 'count'])\n",
    "df_mean_user_hater.head(5)"
   ]
  },
  {
   "cell_type": "markdown",
   "metadata": {},
   "source": [
    "## TOP 5 Supporters (min 5 reviews)"
   ]
  },
  {
   "cell_type": "code",
   "execution_count": 32,
   "metadata": {},
   "outputs": [
    {
     "data": {
      "text/html": [
       "<div>\n",
       "<style scoped>\n",
       "    .dataframe tbody tr th:only-of-type {\n",
       "        vertical-align: middle;\n",
       "    }\n",
       "\n",
       "    .dataframe tbody tr th {\n",
       "        vertical-align: top;\n",
       "    }\n",
       "\n",
       "    .dataframe thead th {\n",
       "        text-align: right;\n",
       "    }\n",
       "</style>\n",
       "<table border=\"1\" class=\"dataframe\">\n",
       "  <thead>\n",
       "    <tr style=\"text-align: right;\">\n",
       "      <th></th>\n",
       "      <th>user</th>\n",
       "      <th>avg</th>\n",
       "      <th>count</th>\n",
       "    </tr>\n",
       "  </thead>\n",
       "  <tbody>\n",
       "    <tr>\n",
       "      <td>13</td>\n",
       "      <td>neuscuadernpuig</td>\n",
       "      <td>8.066667</td>\n",
       "      <td>30</td>\n",
       "    </tr>\n",
       "    <tr>\n",
       "      <td>0</td>\n",
       "      <td>watxaut</td>\n",
       "      <td>7.550725</td>\n",
       "      <td>69</td>\n",
       "    </tr>\n",
       "    <tr>\n",
       "      <td>9</td>\n",
       "      <td>bcocamarin</td>\n",
       "      <td>7.090909</td>\n",
       "      <td>33</td>\n",
       "    </tr>\n",
       "    <tr>\n",
       "      <td>19</td>\n",
       "      <td>paucharlez1997</td>\n",
       "      <td>6.941176</td>\n",
       "      <td>17</td>\n",
       "    </tr>\n",
       "    <tr>\n",
       "      <td>11</td>\n",
       "      <td>leireberrocal6</td>\n",
       "      <td>6.924242</td>\n",
       "      <td>33</td>\n",
       "    </tr>\n",
       "  </tbody>\n",
       "</table>\n",
       "</div>"
      ],
      "text/plain": [
       "               user       avg  count\n",
       "13  neuscuadernpuig  8.066667     30\n",
       "0           watxaut  7.550725     69\n",
       "9        bcocamarin  7.090909     33\n",
       "19   paucharlez1997  6.941176     17\n",
       "11   leireberrocal6  6.924242     33"
      ]
     },
     "execution_count": 32,
     "metadata": {},
     "output_type": "execute_result"
    }
   ],
   "source": [
    "df_mean_user_supporter = df_mean_user_min_count.sort_values(by=['avg', 'count'], ascending=False)\n",
    "df_mean_user_supporter.head()"
   ]
  },
  {
   "cell_type": "markdown",
   "metadata": {},
   "source": [
    "## TOP JOKE SENDERS"
   ]
  },
  {
   "cell_type": "code",
   "execution_count": 33,
   "metadata": {},
   "outputs": [
    {
     "data": {
      "text/html": [
       "<div>\n",
       "<style scoped>\n",
       "    .dataframe tbody tr th:only-of-type {\n",
       "        vertical-align: middle;\n",
       "    }\n",
       "\n",
       "    .dataframe tbody tr th {\n",
       "        vertical-align: top;\n",
       "    }\n",
       "\n",
       "    .dataframe thead th {\n",
       "        text-align: right;\n",
       "    }\n",
       "</style>\n",
       "<table border=\"1\" class=\"dataframe\">\n",
       "  <thead>\n",
       "    <tr style=\"text-align: right;\">\n",
       "      <th></th>\n",
       "      <th>user</th>\n",
       "      <th>jokes_sent</th>\n",
       "    </tr>\n",
       "  </thead>\n",
       "  <tbody>\n",
       "    <tr>\n",
       "      <td>0</td>\n",
       "      <td>Javier.heras</td>\n",
       "      <td>31</td>\n",
       "    </tr>\n",
       "    <tr>\n",
       "      <td>1</td>\n",
       "      <td>watxaut</td>\n",
       "      <td>27</td>\n",
       "    </tr>\n",
       "    <tr>\n",
       "      <td>2</td>\n",
       "      <td>jaime.conde</td>\n",
       "      <td>17</td>\n",
       "    </tr>\n",
       "    <tr>\n",
       "      <td>3</td>\n",
       "      <td>alex.colomer.puig</td>\n",
       "      <td>6</td>\n",
       "    </tr>\n",
       "    <tr>\n",
       "      <td>4</td>\n",
       "      <td>Extern.javier.gris</td>\n",
       "      <td>6</td>\n",
       "    </tr>\n",
       "  </tbody>\n",
       "</table>\n",
       "</div>"
      ],
      "text/plain": [
       "                 user  jokes_sent\n",
       "0        Javier.heras          31\n",
       "1             watxaut          27\n",
       "2         jaime.conde          17\n",
       "3   alex.colomer.puig           6\n",
       "4  Extern.javier.gris           6"
      ]
     },
     "execution_count": 33,
     "metadata": {},
     "output_type": "execute_result"
    }
   ],
   "source": [
    "sql = \"\"\"\n",
    "select \n",
    "    split_part(author_email, '@', 1) as user, count(*) as jokes_sent \n",
    "from \n",
    "    public.jokes_to_send \n",
    "where \n",
    "    author is not null and\n",
    "    author_email is not null \n",
    "group by author_email \n",
    "order by jokes_sent desc\n",
    "\"\"\"\n",
    "df_marc_senders = db.execute_read(conn, sql)\n",
    "df_marc_senders.head(5)"
   ]
  },
  {
   "cell_type": "markdown",
   "metadata": {},
   "source": [
    "# USERS"
   ]
  },
  {
   "cell_type": "markdown",
   "metadata": {},
   "source": [
    "## AVG joke rating per user"
   ]
  },
  {
   "cell_type": "code",
   "execution_count": 34,
   "metadata": {},
   "outputs": [
    {
     "data": {
      "text/plain": [
       "<matplotlib.axes._subplots.AxesSubplot at 0x1228c7f90>"
      ]
     },
     "execution_count": 34,
     "metadata": {},
     "output_type": "execute_result"
    },
    {
     "data": {
      "image/png": "[encoded data removed]",
      "text/plain": [
       "<Figure size 1008x432 with 1 Axes>"
      ]
     },
     "metadata": {
      "needs_background": "light"
     },
     "output_type": "display_data"
    }
   ],
   "source": [
    "df_mean_user.sort_values(by=['avg'], ascending=False).plot.bar(x=\"user\", y=\"avg\", figsize=(14, 6))"
   ]
  },
  {
   "cell_type": "markdown",
   "metadata": {},
   "source": [
    "### Rating Statistics"
   ]
  },
  {
   "cell_type": "code",
   "execution_count": 35,
   "metadata": {},
   "outputs": [],
   "source": [
    "sql = \"\"\"\n",
    "select \n",
    "\tsj.joke_id, r.rating, date(sj.created_at) as day, r.created_at as voted_at\n",
    "from\n",
    "\tsent_jokes as sj\n",
    "left join \n",
    "\tratings as r\n",
    "on \n",
    "\t(r.joke_id = sj.joke_id)\n",
    "where \n",
    "\tr.\"source\" = 'mail' and sj.sent_from = 'mail'\n",
    "order by sj.created_at asc\n",
    "\"\"\"\n",
    "df_ratings = db.execute_read(conn, sql)\n",
    "df_sent_mails = db.execute_read(conn, \"select joke_id, date(created_at) as day from sent_jokes where sent_from = 'mail'\")"
   ]
  },
  {
   "cell_type": "markdown",
   "metadata": {},
   "source": [
    "#### Get last 10 ratings"
   ]
  },
  {
   "cell_type": "code",
   "execution_count": 36,
   "metadata": {},
   "outputs": [
    {
     "data": {
      "text/html": [
       "<div>\n",
       "<style scoped>\n",
       "    .dataframe tbody tr th:only-of-type {\n",
       "        vertical-align: middle;\n",
       "    }\n",
       "\n",
       "    .dataframe tbody tr th {\n",
       "        vertical-align: top;\n",
       "    }\n",
       "\n",
       "    .dataframe thead th {\n",
       "        text-align: right;\n",
       "    }\n",
       "</style>\n",
       "<table border=\"1\" class=\"dataframe\">\n",
       "  <thead>\n",
       "    <tr style=\"text-align: right;\">\n",
       "      <th></th>\n",
       "      <th>joke_id</th>\n",
       "      <th>rating</th>\n",
       "      <th>day</th>\n",
       "      <th>voted_at</th>\n",
       "    </tr>\n",
       "  </thead>\n",
       "  <tbody>\n",
       "    <tr>\n",
       "      <td>792</td>\n",
       "      <td>1838</td>\n",
       "      <td>6.0</td>\n",
       "      <td>2020-01-21</td>\n",
       "      <td>2020-01-21 07:41:10.395426</td>\n",
       "    </tr>\n",
       "    <tr>\n",
       "      <td>793</td>\n",
       "      <td>1838</td>\n",
       "      <td>8.0</td>\n",
       "      <td>2020-01-21</td>\n",
       "      <td>2020-01-21 07:45:43.127704</td>\n",
       "    </tr>\n",
       "    <tr>\n",
       "      <td>794</td>\n",
       "      <td>1838</td>\n",
       "      <td>8.0</td>\n",
       "      <td>2020-01-21</td>\n",
       "      <td>2020-01-21 07:46:37.495634</td>\n",
       "    </tr>\n",
       "    <tr>\n",
       "      <td>795</td>\n",
       "      <td>1838</td>\n",
       "      <td>2.0</td>\n",
       "      <td>2020-01-21</td>\n",
       "      <td>2020-01-21 07:47:06.219447</td>\n",
       "    </tr>\n",
       "    <tr>\n",
       "      <td>796</td>\n",
       "      <td>1838</td>\n",
       "      <td>8.0</td>\n",
       "      <td>2020-01-21</td>\n",
       "      <td>2020-01-21 07:51:46.149321</td>\n",
       "    </tr>\n",
       "    <tr>\n",
       "      <td>797</td>\n",
       "      <td>1838</td>\n",
       "      <td>3.0</td>\n",
       "      <td>2020-01-21</td>\n",
       "      <td>2020-01-21 07:53:02.023530</td>\n",
       "    </tr>\n",
       "    <tr>\n",
       "      <td>798</td>\n",
       "      <td>1838</td>\n",
       "      <td>9.0</td>\n",
       "      <td>2020-01-21</td>\n",
       "      <td>2020-01-21 07:57:56.882141</td>\n",
       "    </tr>\n",
       "    <tr>\n",
       "      <td>799</td>\n",
       "      <td>1838</td>\n",
       "      <td>10.0</td>\n",
       "      <td>2020-01-21</td>\n",
       "      <td>2020-01-21 08:15:22.224579</td>\n",
       "    </tr>\n",
       "    <tr>\n",
       "      <td>800</td>\n",
       "      <td>1838</td>\n",
       "      <td>4.0</td>\n",
       "      <td>2020-01-21</td>\n",
       "      <td>2020-01-21 08:17:03.807294</td>\n",
       "    </tr>\n",
       "    <tr>\n",
       "      <td>801</td>\n",
       "      <td>1838</td>\n",
       "      <td>3.0</td>\n",
       "      <td>2020-01-21</td>\n",
       "      <td>2020-01-21 07:30:51.950121</td>\n",
       "    </tr>\n",
       "    <tr>\n",
       "      <td>802</td>\n",
       "      <td>1838</td>\n",
       "      <td>2.0</td>\n",
       "      <td>2020-01-21</td>\n",
       "      <td>2020-01-21 08:31:41.933637</td>\n",
       "    </tr>\n",
       "    <tr>\n",
       "      <td>803</td>\n",
       "      <td>1838</td>\n",
       "      <td>6.0</td>\n",
       "      <td>2020-01-21</td>\n",
       "      <td>2020-01-21 08:31:58.887441</td>\n",
       "    </tr>\n",
       "    <tr>\n",
       "      <td>804</td>\n",
       "      <td>1838</td>\n",
       "      <td>8.0</td>\n",
       "      <td>2020-01-21</td>\n",
       "      <td>2020-01-21 11:22:19.435236</td>\n",
       "    </tr>\n",
       "    <tr>\n",
       "      <td>805</td>\n",
       "      <td>1838</td>\n",
       "      <td>6.0</td>\n",
       "      <td>2020-01-21</td>\n",
       "      <td>2020-01-21 07:30:50.325173</td>\n",
       "    </tr>\n",
       "    <tr>\n",
       "      <td>806</td>\n",
       "      <td>1838</td>\n",
       "      <td>10.0</td>\n",
       "      <td>2020-01-21</td>\n",
       "      <td>2020-01-21 10:04:26.283551</td>\n",
       "    </tr>\n",
       "  </tbody>\n",
       "</table>\n",
       "</div>"
      ],
      "text/plain": [
       "     joke_id  rating         day                   voted_at\n",
       "792     1838     6.0  2020-01-21 2020-01-21 07:41:10.395426\n",
       "793     1838     8.0  2020-01-21 2020-01-21 07:45:43.127704\n",
       "794     1838     8.0  2020-01-21 2020-01-21 07:46:37.495634\n",
       "795     1838     2.0  2020-01-21 2020-01-21 07:47:06.219447\n",
       "796     1838     8.0  2020-01-21 2020-01-21 07:51:46.149321\n",
       "797     1838     3.0  2020-01-21 2020-01-21 07:53:02.023530\n",
       "798     1838     9.0  2020-01-21 2020-01-21 07:57:56.882141\n",
       "799     1838    10.0  2020-01-21 2020-01-21 08:15:22.224579\n",
       "800     1838     4.0  2020-01-21 2020-01-21 08:17:03.807294\n",
       "801     1838     3.0  2020-01-21 2020-01-21 07:30:51.950121\n",
       "802     1838     2.0  2020-01-21 2020-01-21 08:31:41.933637\n",
       "803     1838     6.0  2020-01-21 2020-01-21 08:31:58.887441\n",
       "804     1838     8.0  2020-01-21 2020-01-21 11:22:19.435236\n",
       "805     1838     6.0  2020-01-21 2020-01-21 07:30:50.325173\n",
       "806     1838    10.0  2020-01-21 2020-01-21 10:04:26.283551"
      ]
     },
     "execution_count": 36,
     "metadata": {},
     "output_type": "execute_result"
    }
   ],
   "source": [
    "df_ratings.tail(15)"
   ]
  },
  {
   "cell_type": "markdown",
   "metadata": {},
   "source": [
    "## Get mean of ratings by joke and day (last 40 natural days)"
   ]
  },
  {
   "cell_type": "code",
   "execution_count": 96,
   "metadata": {},
   "outputs": [],
   "source": [
    "sql = \"\"\"\n",
    "select \n",
    "\tsj.joke_id, ra.average, ra.std, date(sj.created_at) as day\n",
    "from \n",
    "\tsent_jokes sj\n",
    "left join\n",
    "\t(\n",
    "\t\tselect \n",
    "\t\t\tr.joke_id, avg(r.rating) as average, stddev(r.rating) as std\n",
    "\t\tfrom\n",
    "\t\t\tratings as r\n",
    "\t\tgroup by r.joke_id\n",
    "        having count(*) > 5\n",
    "\t) as ra\n",
    "on (ra.joke_id = sj.joke_id)\n",
    "where sj.sent_from = 'mail' and ra.average is not null\n",
    "order by ra.average desc\n",
    "\"\"\"\n",
    "df_ratings_new = db.execute_read(conn, sql)"
   ]
  },
  {
   "cell_type": "code",
   "execution_count": 97,
   "metadata": {},
   "outputs": [],
   "source": [
    "df_ratings_new[\"day\"] = df_ratings_new[\"day\"].astype(\"datetime64\")\n",
    "last_joke_day = list(df_ratings_new.sort_values(ascending=False, by='day').head(1).to_dict(orient=\"index\").values())[0][\"day\"]\n",
    "\n",
    "df_ratings_new = df_ratings_new[df_ratings_new[\"day\"] > last_joke_day - pd.Timedelta(days=40)]"
   ]
  },
  {
   "cell_type": "code",
   "execution_count": 98,
   "metadata": {},
   "outputs": [
    {
     "data": {
      "text/plain": [
       "<matplotlib.axes._subplots.AxesSubplot at 0x124870a50>"
      ]
     },
     "execution_count": 98,
     "metadata": {},
     "output_type": "execute_result"
    },
    {
     "data": {
      "image/png": "[encoded data removed]",
      "text/plain": [
       "<Figure size 1008x432 with 1 Axes>"
      ]
     },
     "metadata": {
      "needs_background": "light"
     },
     "output_type": "display_data"
    }
   ],
   "source": [
    "df_ratings_new.sort_values(ascending=True, by='day').plot.bar(x=\"day\", y=\"average\", figsize=(14, 6))"
   ]
  },
  {
   "cell_type": "markdown",
   "metadata": {},
   "source": [
    "## Get Std Deviation of ratings by joke and day (last 40 natural days)"
   ]
  },
  {
   "cell_type": "code",
   "execution_count": 99,
   "metadata": {},
   "outputs": [
    {
     "data": {
      "text/plain": [
       "<matplotlib.axes._subplots.AxesSubplot at 0x124949a10>"
      ]
     },
     "execution_count": 99,
     "metadata": {},
     "output_type": "execute_result"
    },
    {
     "data": {
      "image/png": "[encoded data removed]",
      "text/plain": [
       "<Figure size 1008x432 with 1 Axes>"
      ]
     },
     "metadata": {
      "needs_background": "light"
     },
     "output_type": "display_data"
    }
   ],
   "source": [
    "df_ratings_new.sort_values(ascending=True, by='day').plot.bar(x=\"day\", y=\"std\", figsize=(14, 6))"
   ]
  },
  {
   "cell_type": "code",
   "execution_count": 100,
   "metadata": {},
   "outputs": [
    {
     "name": "stdout",
     "output_type": "stream",
     "text": [
      "{7: {'joke_id': 194, 'average': 6.6, 'std': 2.61315354094845, 'day': Timestamp('2019-12-17 00:00:00')}}\n",
      "{50: {'joke_id': 1808, 'average': 3.15789473684211, 'std': 3.50020884924087, 'day': Timestamp('2019-12-16 00:00:00')}}\n"
     ]
    }
   ],
   "source": [
    "# get worst and best joke from mean - date\n",
    "d_best = df_ratings_new.head(1).to_dict(orient=\"index\")\n",
    "best_joke_id = list(d_best.values())[0][\"joke_id\"]\n",
    "d_worst = df_ratings_new.tail(1).to_dict(orient=\"index\")\n",
    "worst_joke_id = list(d_worst.values())[0][\"joke_id\"]\n",
    "\n",
    "print(d_best)\n",
    "print(d_worst)\n",
    "\n",
    "# get most controversial joke date\n",
    "d_cont = df_ratings_new.sort_values(ascending=False, by='std').head(1).to_dict(orient=\"index\")\n",
    "cont_joke_id = list(d_cont.values())[0][\"joke_id\"]\n",
    "\n",
    "df_best = db.execute_read(conn, f\"select * from jokes_to_send where id = {best_joke_id}\")\n",
    "df_worst = db.execute_read(conn, f\"select * from jokes_to_send where id = {worst_joke_id}\")\n",
    "df_cont = db.execute_read(conn, f\"select * from jokes_to_send where id = {cont_joke_id}\")"
   ]
  },
  {
   "cell_type": "markdown",
   "metadata": {},
   "source": [
    "## Best joke of last month"
   ]
  },
  {
   "cell_type": "code",
   "execution_count": 102,
   "metadata": {},
   "outputs": [
    {
     "name": "stdout",
     "output_type": "stream",
     "text": [
      "Joke:\n",
      "\n",
      "Se abre el telón y aparece un gato que se llama Tido en su cesto.\n",
      "Se cierra el telón.\n",
      "Cuando se vuelve a abrir está el cestito pero no el gato.\n",
      "¿Cómo se llama la película?\n",
      "\n",
      "El cesto sinTido.\n",
      "\n",
      "Author: Jaime Con D y Sin D\n",
      "Rating: 6.6\n"
     ]
    }
   ],
   "source": [
    "print(f\"Joke:\\n\\n{df_best['joke'][0]}\\n\\nAuthor: {df_best['author'][0]}\\nRating: {list(d_best.values())[0]['average']}\")"
   ]
  },
  {
   "cell_type": "markdown",
   "metadata": {},
   "source": [
    "## Worst joke of all time"
   ]
  },
  {
   "cell_type": "code",
   "execution_count": 103,
   "metadata": {},
   "outputs": [
    {
     "name": "stdout",
     "output_type": "stream",
     "text": [
      "Joke:\n",
      "\n",
      "¿Cuál es el pescado que no sabe pescar con caña?\n",
      "\n",
      "El salmonete, porqué dice: 'Sal, monete!'\n",
      "\n",
      "Author: Ingrid Falguera. Que la democracia decida la suerte del chiste.\n",
      "Rating: 3.16\n"
     ]
    }
   ],
   "source": [
    "print(f\"Joke:\\n\\n{df_worst['joke'][0]}\\n\\nAuthor: {df_worst['author'][0]}\\nRating: {round(list(d_worst.values())[0]['average'], 2)}\")"
   ]
  },
  {
   "cell_type": "markdown",
   "metadata": {},
   "source": [
    "## Most controversial of all time"
   ]
  },
  {
   "cell_type": "code",
   "execution_count": 104,
   "metadata": {},
   "outputs": [
    {
     "name": "stdout",
     "output_type": "stream",
     "text": [
      "Joke:\n",
      "\n",
      "¿Cuál es el pescado que no sabe pescar con caña?\n",
      "\n",
      "El salmonete, porqué dice: 'Sal, monete!'\n",
      "\n",
      "Author: Ingrid Falguera. Que la democracia decida la suerte del chiste.\n",
      "Std dev: 3.5\n"
     ]
    }
   ],
   "source": [
    "print(f\"Joke:\\n\\n{df_cont['joke'][0]}\\n\\nAuthor: {df_cont['author'][0]}\\nStd dev: {round(list(d_cont.values())[0]['std'], 2)}\")"
   ]
  },
  {
   "cell_type": "code",
   "execution_count": null,
   "metadata": {},
   "outputs": [],
   "source": []
  }
 ],
 "metadata": {
  "kernelspec": {
   "display_name": "Python 3",
   "language": "python",
   "name": "python3"
  },
  "language_info": {
   "codemirror_mode": {
    "name": "ipython",
    "version": 3
   },
   "file_extension": ".py",
   "mimetype": "text/x-python",
   "name": "python",
   "nbconvert_exporter": "python",
   "pygments_lexer": "ipython3",
   "version": "3.7.4"
  }
 },
 "nbformat": 4,
 "nbformat_minor": 2
}
