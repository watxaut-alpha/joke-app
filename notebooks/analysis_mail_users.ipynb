{
 "cells": [
  {
   "cell_type": "code",
   "execution_count": 1,
   "metadata": {},
   "outputs": [],
   "source": [
    "# change dir because notebook is in a child directory of the root directory (and does not find my modules)\n",
    "import os \n",
    "try:\n",
    "    os.chdir(r'/Users/joan/code/python/jokes-app')\n",
    "except FileNotFoundError:\n",
    "    os.chdir(r'/home/repos/joke-app')"
   ]
  },
  {
   "cell_type": "code",
   "execution_count": 2,
   "metadata": {},
   "outputs": [],
   "source": [
    "import pandas as pd\n",
    "import matplotlib.pyplot as plt"
   ]
  },
  {
   "cell_type": "code",
   "execution_count": 3,
   "metadata": {},
   "outputs": [],
   "source": [
    "import src.api.src.db.core as db\n",
    "try:\n",
    "    from src.api.src.db.secret import (\n",
    "        HOST_OVH as HOST, \n",
    "        POSTGRES_USER, \n",
    "        POSTGRES_PASSWORD_OVH as POSTGRES_PASSWORD, \n",
    "        SCHEMA_NAME\n",
    "    )\n",
    "except ImportError:\n",
    "    from src.api.src.db.secret import HOST, POSTGRES_USER, POSTGRES_PASSWORD, SCHEMA_NAME"
   ]
  },
  {
   "cell_type": "markdown",
   "metadata": {},
   "source": [
    "### Get connection to Postgres DB"
   ]
  },
  {
   "cell_type": "code",
   "execution_count": 4,
   "metadata": {},
   "outputs": [],
   "source": [
    "conn = db.connect(host=HOST, user=POSTGRES_USER, password=POSTGRES_PASSWORD, schema_name=SCHEMA_NAME)"
   ]
  },
  {
   "cell_type": "markdown",
   "metadata": {},
   "source": [
    "### Get Number of subscribed users and unsubscribed users"
   ]
  },
  {
   "cell_type": "code",
   "execution_count": 5,
   "metadata": {},
   "outputs": [],
   "source": [
    "df = db.execute_read(conn, \"select * from users_mail\")"
   ]
  },
  {
   "cell_type": "code",
   "execution_count": 6,
   "metadata": {},
   "outputs": [],
   "source": [
    "n_subbed = df[\"deleted_at\"].isna().sum()\n",
    "n_unsubbed = len(df) - n_subbed"
   ]
  },
  {
   "cell_type": "code",
   "execution_count": 7,
   "metadata": {},
   "outputs": [
    {
     "data": {
      "image/png": "[encoded data removed]",
      "text/plain": [
       "<Figure size 432x288 with 1 Axes>"
      ]
     },
     "metadata": {
      "needs_background": "light"
     },
     "output_type": "display_data"
    }
   ],
   "source": [
    "fig = plt.figure()\n",
    "ax = fig.add_axes([0,0,1,1])\n",
    "l_bars = ['Subscribed', 'Unsubscribed']\n",
    "ax.bar(l_bars, [n_subbed, n_unsubbed])\n",
    "plt.show()"
   ]
  },
  {
   "cell_type": "markdown",
   "metadata": {},
   "source": [
    "### Top 10 Joke reviewers"
   ]
  },
  {
   "cell_type": "code",
   "execution_count": 8,
   "metadata": {},
   "outputs": [],
   "source": [
    "df_mean_user = db.execute_read(conn, \"\"\"\n",
    "select \n",
    "\tum.email, avg(r.rating), count(r)\n",
    "from \n",
    "\tratings as r\n",
    "left join users_mail as um\n",
    "on (r.user_id = um.id_hash)\n",
    "where \"source\" = 'mail' and um.email is not null\n",
    "group by um.email\n",
    "order by count(r.rating) desc\n",
    "\"\"\")"
   ]
  },
  {
   "cell_type": "code",
   "execution_count": 19,
   "metadata": {
    "scrolled": true
   },
   "outputs": [
    {
     "data": {
      "text/html": [
       "<div>\n",
       "<style scoped>\n",
       "    .dataframe tbody tr th:only-of-type {\n",
       "        vertical-align: middle;\n",
       "    }\n",
       "\n",
       "    .dataframe tbody tr th {\n",
       "        vertical-align: top;\n",
       "    }\n",
       "\n",
       "    .dataframe thead th {\n",
       "        text-align: right;\n",
       "    }\n",
       "</style>\n",
       "<table border=\"1\" class=\"dataframe\">\n",
       "  <thead>\n",
       "    <tr style=\"text-align: right;\">\n",
       "      <th></th>\n",
       "      <th>email</th>\n",
       "      <th>avg</th>\n",
       "      <th>count</th>\n",
       "    </tr>\n",
       "  </thead>\n",
       "  <tbody>\n",
       "    <tr>\n",
       "      <th>0</th>\n",
       "      <td>watxaut@gmail.com</td>\n",
       "      <td>6.935484</td>\n",
       "      <td>31</td>\n",
       "    </tr>\n",
       "    <tr>\n",
       "      <th>1</th>\n",
       "      <td>jaime.conde@ficosa.com</td>\n",
       "      <td>1.900000</td>\n",
       "      <td>25</td>\n",
       "    </tr>\n",
       "    <tr>\n",
       "      <th>2</th>\n",
       "      <td>irene.chausse@mosaicfactor.com</td>\n",
       "      <td>5.357143</td>\n",
       "      <td>21</td>\n",
       "    </tr>\n",
       "    <tr>\n",
       "      <th>3</th>\n",
       "      <td>antoni.martinezlopez@ficosa.com</td>\n",
       "      <td>3.125000</td>\n",
       "      <td>20</td>\n",
       "    </tr>\n",
       "    <tr>\n",
       "      <th>4</th>\n",
       "      <td>Extern.javier.gris@seat.es</td>\n",
       "      <td>6.093750</td>\n",
       "      <td>16</td>\n",
       "    </tr>\n",
       "    <tr>\n",
       "      <th>5</th>\n",
       "      <td>adria.hr@gmail.com</td>\n",
       "      <td>3.750000</td>\n",
       "      <td>16</td>\n",
       "    </tr>\n",
       "    <tr>\n",
       "      <th>6</th>\n",
       "      <td>Javier.heras@volkswagen-groupservices.com</td>\n",
       "      <td>4.843750</td>\n",
       "      <td>16</td>\n",
       "    </tr>\n",
       "    <tr>\n",
       "      <th>7</th>\n",
       "      <td>guillem.mcid@gmail.com</td>\n",
       "      <td>6.333333</td>\n",
       "      <td>15</td>\n",
       "    </tr>\n",
       "    <tr>\n",
       "      <th>8</th>\n",
       "      <td>18mariaff@gmail.com</td>\n",
       "      <td>5.892857</td>\n",
       "      <td>14</td>\n",
       "    </tr>\n",
       "    <tr>\n",
       "      <th>9</th>\n",
       "      <td>alex.colomer.puig@gmail.com</td>\n",
       "      <td>3.269231</td>\n",
       "      <td>13</td>\n",
       "    </tr>\n",
       "    <tr>\n",
       "      <th>10</th>\n",
       "      <td>bcocamarin@gmail.com</td>\n",
       "      <td>7.727273</td>\n",
       "      <td>11</td>\n",
       "    </tr>\n",
       "    <tr>\n",
       "      <th>11</th>\n",
       "      <td>neuscuadernpuig@gmail.com</td>\n",
       "      <td>8.636364</td>\n",
       "      <td>11</td>\n",
       "    </tr>\n",
       "    <tr>\n",
       "      <th>12</th>\n",
       "      <td>leireberrocal6@gmail.com</td>\n",
       "      <td>6.388889</td>\n",
       "      <td>9</td>\n",
       "    </tr>\n",
       "    <tr>\n",
       "      <th>13</th>\n",
       "      <td>ingrid.falguera19@gmail.com</td>\n",
       "      <td>8.750000</td>\n",
       "      <td>8</td>\n",
       "    </tr>\n",
       "    <tr>\n",
       "      <th>14</th>\n",
       "      <td>pmignasi@gmail.com</td>\n",
       "      <td>6.250000</td>\n",
       "      <td>6</td>\n",
       "    </tr>\n",
       "    <tr>\n",
       "      <th>15</th>\n",
       "      <td>Miquel.regidor93@gmail.com</td>\n",
       "      <td>8.000000</td>\n",
       "      <td>5</td>\n",
       "    </tr>\n",
       "  </tbody>\n",
       "</table>\n",
       "</div>"
      ],
      "text/plain": [
       "                                        email       avg  count\n",
       "0                           watxaut@gmail.com  6.935484     31\n",
       "1                      jaime.conde@ficosa.com  1.900000     25\n",
       "2              irene.chausse@mosaicfactor.com  5.357143     21\n",
       "3             antoni.martinezlopez@ficosa.com  3.125000     20\n",
       "4                  Extern.javier.gris@seat.es  6.093750     16\n",
       "5                          adria.hr@gmail.com  3.750000     16\n",
       "6   Javier.heras@volkswagen-groupservices.com  4.843750     16\n",
       "7                      guillem.mcid@gmail.com  6.333333     15\n",
       "8                         18mariaff@gmail.com  5.892857     14\n",
       "9                 alex.colomer.puig@gmail.com  3.269231     13\n",
       "10                       bcocamarin@gmail.com  7.727273     11\n",
       "11                  neuscuadernpuig@gmail.com  8.636364     11\n",
       "12                   leireberrocal6@gmail.com  6.388889      9\n",
       "13                ingrid.falguera19@gmail.com  8.750000      8\n",
       "14                         pmignasi@gmail.com  6.250000      6\n",
       "15                 Miquel.regidor93@gmail.com  8.000000      5"
      ]
     },
     "execution_count": 19,
     "metadata": {},
     "output_type": "execute_result"
    }
   ],
   "source": [
    "df_mean_user.head(20)"
   ]
  },
  {
   "cell_type": "markdown",
   "metadata": {},
   "source": [
    "## TOP 5 Most Haters (min 5 reviews)"
   ]
  },
  {
   "cell_type": "code",
   "execution_count": 11,
   "metadata": {},
   "outputs": [
    {
     "data": {
      "text/html": [
       "<div>\n",
       "<style scoped>\n",
       "    .dataframe tbody tr th:only-of-type {\n",
       "        vertical-align: middle;\n",
       "    }\n",
       "\n",
       "    .dataframe tbody tr th {\n",
       "        vertical-align: top;\n",
       "    }\n",
       "\n",
       "    .dataframe thead th {\n",
       "        text-align: right;\n",
       "    }\n",
       "</style>\n",
       "<table border=\"1\" class=\"dataframe\">\n",
       "  <thead>\n",
       "    <tr style=\"text-align: right;\">\n",
       "      <th></th>\n",
       "      <th>email</th>\n",
       "      <th>avg</th>\n",
       "      <th>count</th>\n",
       "    </tr>\n",
       "  </thead>\n",
       "  <tbody>\n",
       "    <tr>\n",
       "      <th>1</th>\n",
       "      <td>jaime.conde@ficosa.com</td>\n",
       "      <td>1.900000</td>\n",
       "      <td>25</td>\n",
       "    </tr>\n",
       "    <tr>\n",
       "      <th>3</th>\n",
       "      <td>antoni.martinezlopez@ficosa.com</td>\n",
       "      <td>3.125000</td>\n",
       "      <td>20</td>\n",
       "    </tr>\n",
       "    <tr>\n",
       "      <th>9</th>\n",
       "      <td>alex.colomer.puig@gmail.com</td>\n",
       "      <td>3.269231</td>\n",
       "      <td>13</td>\n",
       "    </tr>\n",
       "    <tr>\n",
       "      <th>5</th>\n",
       "      <td>adria.hr@gmail.com</td>\n",
       "      <td>3.750000</td>\n",
       "      <td>16</td>\n",
       "    </tr>\n",
       "    <tr>\n",
       "      <th>6</th>\n",
       "      <td>Javier.heras@volkswagen-groupservices.com</td>\n",
       "      <td>4.843750</td>\n",
       "      <td>16</td>\n",
       "    </tr>\n",
       "  </tbody>\n",
       "</table>\n",
       "</div>"
      ],
      "text/plain": [
       "                                       email       avg  count\n",
       "1                     jaime.conde@ficosa.com  1.900000     25\n",
       "3            antoni.martinezlopez@ficosa.com  3.125000     20\n",
       "9                alex.colomer.puig@gmail.com  3.269231     13\n",
       "5                         adria.hr@gmail.com  3.750000     16\n",
       "6  Javier.heras@volkswagen-groupservices.com  4.843750     16"
      ]
     },
     "execution_count": 11,
     "metadata": {},
     "output_type": "execute_result"
    }
   ],
   "source": [
    "df_mean_user = df_mean_user[df_mean_user[\"count\"] >= 5]\n",
    "df_mean_user_hater = df_mean_user.sort_values(by=['avg', 'count'])\n",
    "df_mean_user_hater.head(5)"
   ]
  },
  {
   "cell_type": "markdown",
   "metadata": {},
   "source": [
    "## TOP 5 Supporters (min 5 reviews)"
   ]
  },
  {
   "cell_type": "code",
   "execution_count": 20,
   "metadata": {},
   "outputs": [
    {
     "data": {
      "text/html": [
       "<div>\n",
       "<style scoped>\n",
       "    .dataframe tbody tr th:only-of-type {\n",
       "        vertical-align: middle;\n",
       "    }\n",
       "\n",
       "    .dataframe tbody tr th {\n",
       "        vertical-align: top;\n",
       "    }\n",
       "\n",
       "    .dataframe thead th {\n",
       "        text-align: right;\n",
       "    }\n",
       "</style>\n",
       "<table border=\"1\" class=\"dataframe\">\n",
       "  <thead>\n",
       "    <tr style=\"text-align: right;\">\n",
       "      <th></th>\n",
       "      <th>email</th>\n",
       "      <th>avg</th>\n",
       "      <th>count</th>\n",
       "    </tr>\n",
       "  </thead>\n",
       "  <tbody>\n",
       "    <tr>\n",
       "      <th>13</th>\n",
       "      <td>ingrid.falguera19@gmail.com</td>\n",
       "      <td>8.750000</td>\n",
       "      <td>8</td>\n",
       "    </tr>\n",
       "    <tr>\n",
       "      <th>11</th>\n",
       "      <td>neuscuadernpuig@gmail.com</td>\n",
       "      <td>8.636364</td>\n",
       "      <td>11</td>\n",
       "    </tr>\n",
       "    <tr>\n",
       "      <th>15</th>\n",
       "      <td>Miquel.regidor93@gmail.com</td>\n",
       "      <td>8.000000</td>\n",
       "      <td>5</td>\n",
       "    </tr>\n",
       "    <tr>\n",
       "      <th>10</th>\n",
       "      <td>bcocamarin@gmail.com</td>\n",
       "      <td>7.727273</td>\n",
       "      <td>11</td>\n",
       "    </tr>\n",
       "    <tr>\n",
       "      <th>0</th>\n",
       "      <td>watxaut@gmail.com</td>\n",
       "      <td>6.935484</td>\n",
       "      <td>31</td>\n",
       "    </tr>\n",
       "  </tbody>\n",
       "</table>\n",
       "</div>"
      ],
      "text/plain": [
       "                          email       avg  count\n",
       "13  ingrid.falguera19@gmail.com  8.750000      8\n",
       "11    neuscuadernpuig@gmail.com  8.636364     11\n",
       "15   Miquel.regidor93@gmail.com  8.000000      5\n",
       "10         bcocamarin@gmail.com  7.727273     11\n",
       "0             watxaut@gmail.com  6.935484     31"
      ]
     },
     "execution_count": 20,
     "metadata": {},
     "output_type": "execute_result"
    }
   ],
   "source": [
    "df_mean_user_supporter = df_mean_user.sort_values(by=['avg', 'count'], ascending=False)\n",
    "df_mean_user_supporter.head()"
   ]
  },
  {
   "cell_type": "markdown",
   "metadata": {},
   "source": [
    "## AVG joke rating per user"
   ]
  },
  {
   "cell_type": "code",
   "execution_count": 14,
   "metadata": {},
   "outputs": [
    {
     "data": {
      "text/plain": [
       "<matplotlib.axes._subplots.AxesSubplot at 0x1150f3890>"
      ]
     },
     "execution_count": 14,
     "metadata": {},
     "output_type": "execute_result"
    },
    {
     "data": {
      "image/png": "[encoded data removed]",
      "text/plain": [
       "<Figure size 432x288 with 1 Axes>"
      ]
     },
     "metadata": {
      "needs_background": "light"
     },
     "output_type": "display_data"
    }
   ],
   "source": [
    "df_mean_user.head(20).plot.bar(x=\"email\", y=\"avg\")"
   ]
  },
  {
   "cell_type": "markdown",
   "metadata": {},
   "source": [
    "### Rating Statistics"
   ]
  },
  {
   "cell_type": "code",
   "execution_count": 15,
   "metadata": {},
   "outputs": [],
   "source": [
    "sql = \"\"\"\n",
    "select \n",
    "\tsj.joke_id, r.rating, sj.created_at, r.created_at as voted_at\n",
    "from\n",
    "\tsent_jokes as sj\n",
    "left join \n",
    "\tratings as r\n",
    "on \n",
    "\t(r.joke_id = sj.joke_id)\n",
    "where \n",
    "\tr.\"source\" = 'mail'\n",
    "\"\"\"\n",
    "df_ratings = db.execute_read(conn, sql)"
   ]
  },
  {
   "cell_type": "markdown",
   "metadata": {},
   "source": [
    "#### Get last 10 ratings"
   ]
  },
  {
   "cell_type": "code",
   "execution_count": 16,
   "metadata": {},
   "outputs": [
    {
     "data": {
      "text/html": [
       "<div>\n",
       "<style scoped>\n",
       "    .dataframe tbody tr th:only-of-type {\n",
       "        vertical-align: middle;\n",
       "    }\n",
       "\n",
       "    .dataframe tbody tr th {\n",
       "        vertical-align: top;\n",
       "    }\n",
       "\n",
       "    .dataframe thead th {\n",
       "        text-align: right;\n",
       "    }\n",
       "</style>\n",
       "<table border=\"1\" class=\"dataframe\">\n",
       "  <thead>\n",
       "    <tr style=\"text-align: right;\">\n",
       "      <th></th>\n",
       "      <th>joke_id</th>\n",
       "      <th>rating</th>\n",
       "      <th>created_at</th>\n",
       "      <th>voted_at</th>\n",
       "    </tr>\n",
       "  </thead>\n",
       "  <tbody>\n",
       "    <tr>\n",
       "      <th>225</th>\n",
       "      <td>1799</td>\n",
       "      <td>7.5</td>\n",
       "      <td>2019-11-26 08:30:28.428800</td>\n",
       "      <td>2019-11-26 07:59:38.580484</td>\n",
       "    </tr>\n",
       "    <tr>\n",
       "      <th>226</th>\n",
       "      <td>1799</td>\n",
       "      <td>10.0</td>\n",
       "      <td>2019-11-26 08:30:28.428800</td>\n",
       "      <td>2019-11-26 08:00:41.562224</td>\n",
       "    </tr>\n",
       "    <tr>\n",
       "      <th>227</th>\n",
       "      <td>1799</td>\n",
       "      <td>5.0</td>\n",
       "      <td>2019-11-26 08:30:28.428800</td>\n",
       "      <td>2019-11-26 08:12:55.719301</td>\n",
       "    </tr>\n",
       "    <tr>\n",
       "      <th>228</th>\n",
       "      <td>1799</td>\n",
       "      <td>10.0</td>\n",
       "      <td>2019-11-26 08:30:28.428800</td>\n",
       "      <td>2019-11-26 09:11:25.969538</td>\n",
       "    </tr>\n",
       "    <tr>\n",
       "      <th>229</th>\n",
       "      <td>1799</td>\n",
       "      <td>10.0</td>\n",
       "      <td>2019-11-26 08:30:28.428800</td>\n",
       "      <td>2019-11-26 14:19:59.180856</td>\n",
       "    </tr>\n",
       "    <tr>\n",
       "      <th>230</th>\n",
       "      <td>1800</td>\n",
       "      <td>7.5</td>\n",
       "      <td>2019-11-25 08:30:30.047762</td>\n",
       "      <td>2019-11-26 14:20:11.674667</td>\n",
       "    </tr>\n",
       "    <tr>\n",
       "      <th>231</th>\n",
       "      <td>1798</td>\n",
       "      <td>10.0</td>\n",
       "      <td>2019-11-22 08:30:29.013626</td>\n",
       "      <td>2019-11-26 14:20:29.850137</td>\n",
       "    </tr>\n",
       "    <tr>\n",
       "      <th>232</th>\n",
       "      <td>1801</td>\n",
       "      <td>7.5</td>\n",
       "      <td>2019-11-27 09:08:33.278919</td>\n",
       "      <td>2019-11-27 08:08:52.869278</td>\n",
       "    </tr>\n",
       "    <tr>\n",
       "      <th>233</th>\n",
       "      <td>1801</td>\n",
       "      <td>5.0</td>\n",
       "      <td>2019-11-27 09:08:33.278919</td>\n",
       "      <td>2019-11-27 08:09:20.854791</td>\n",
       "    </tr>\n",
       "    <tr>\n",
       "      <th>234</th>\n",
       "      <td>1801</td>\n",
       "      <td>5.0</td>\n",
       "      <td>2019-11-27 09:08:33.278919</td>\n",
       "      <td>2019-11-27 08:09:39.210540</td>\n",
       "    </tr>\n",
       "    <tr>\n",
       "      <th>235</th>\n",
       "      <td>1801</td>\n",
       "      <td>0.0</td>\n",
       "      <td>2019-11-27 09:08:33.278919</td>\n",
       "      <td>2019-11-27 08:09:33.217440</td>\n",
       "    </tr>\n",
       "    <tr>\n",
       "      <th>236</th>\n",
       "      <td>1801</td>\n",
       "      <td>10.0</td>\n",
       "      <td>2019-11-27 09:08:33.278919</td>\n",
       "      <td>2019-11-27 08:28:21.815445</td>\n",
       "    </tr>\n",
       "    <tr>\n",
       "      <th>237</th>\n",
       "      <td>1801</td>\n",
       "      <td>5.0</td>\n",
       "      <td>2019-11-27 09:08:33.278919</td>\n",
       "      <td>2019-11-27 11:07:10.240112</td>\n",
       "    </tr>\n",
       "    <tr>\n",
       "      <th>238</th>\n",
       "      <td>1801</td>\n",
       "      <td>2.5</td>\n",
       "      <td>2019-11-27 09:08:33.278919</td>\n",
       "      <td>2019-11-27 12:14:39.428842</td>\n",
       "    </tr>\n",
       "    <tr>\n",
       "      <th>239</th>\n",
       "      <td>1799</td>\n",
       "      <td>7.5</td>\n",
       "      <td>2019-11-26 08:30:28.428800</td>\n",
       "      <td>2019-11-27 12:14:54.472287</td>\n",
       "    </tr>\n",
       "  </tbody>\n",
       "</table>\n",
       "</div>"
      ],
      "text/plain": [
       "     joke_id  rating                 created_at                   voted_at\n",
       "225     1799     7.5 2019-11-26 08:30:28.428800 2019-11-26 07:59:38.580484\n",
       "226     1799    10.0 2019-11-26 08:30:28.428800 2019-11-26 08:00:41.562224\n",
       "227     1799     5.0 2019-11-26 08:30:28.428800 2019-11-26 08:12:55.719301\n",
       "228     1799    10.0 2019-11-26 08:30:28.428800 2019-11-26 09:11:25.969538\n",
       "229     1799    10.0 2019-11-26 08:30:28.428800 2019-11-26 14:19:59.180856\n",
       "230     1800     7.5 2019-11-25 08:30:30.047762 2019-11-26 14:20:11.674667\n",
       "231     1798    10.0 2019-11-22 08:30:29.013626 2019-11-26 14:20:29.850137\n",
       "232     1801     7.5 2019-11-27 09:08:33.278919 2019-11-27 08:08:52.869278\n",
       "233     1801     5.0 2019-11-27 09:08:33.278919 2019-11-27 08:09:20.854791\n",
       "234     1801     5.0 2019-11-27 09:08:33.278919 2019-11-27 08:09:39.210540\n",
       "235     1801     0.0 2019-11-27 09:08:33.278919 2019-11-27 08:09:33.217440\n",
       "236     1801    10.0 2019-11-27 09:08:33.278919 2019-11-27 08:28:21.815445\n",
       "237     1801     5.0 2019-11-27 09:08:33.278919 2019-11-27 11:07:10.240112\n",
       "238     1801     2.5 2019-11-27 09:08:33.278919 2019-11-27 12:14:39.428842\n",
       "239     1799     7.5 2019-11-26 08:30:28.428800 2019-11-27 12:14:54.472287"
      ]
     },
     "execution_count": 16,
     "metadata": {},
     "output_type": "execute_result"
    }
   ],
   "source": [
    "df_ratings.tail(15)"
   ]
  },
  {
   "cell_type": "markdown",
   "metadata": {},
   "source": [
    "## Get mean of ratings by joke and day"
   ]
  },
  {
   "cell_type": "code",
   "execution_count": 17,
   "metadata": {},
   "outputs": [
    {
     "data": {
      "text/plain": [
       "<matplotlib.axes._subplots.AxesSubplot at 0x11526c990>"
      ]
     },
     "execution_count": 17,
     "metadata": {},
     "output_type": "execute_result"
    },
    {
     "data": {
      "image/png": "[encoded data removed]",
      "text/plain": [
       "<Figure size 432x288 with 1 Axes>"
      ]
     },
     "metadata": {
      "needs_background": "light"
     },
     "output_type": "display_data"
    }
   ],
   "source": [
    "df_ratings[\"day\"] = df_ratings[\"created_at\"].dt.strftime('%Y-%m-%d')\n",
    "df_ratings.groupby([\"day\", \"joke_id\"])[\"rating\"].mean().plot.bar(x=\"day\", y=\"rating\")"
   ]
  },
  {
   "cell_type": "markdown",
   "metadata": {},
   "source": [
    "## Get Std Deviation of ratings by joke and day"
   ]
  },
  {
   "cell_type": "code",
   "execution_count": 18,
   "metadata": {},
   "outputs": [
    {
     "data": {
      "text/plain": [
       "<matplotlib.axes._subplots.AxesSubplot at 0x1154c4050>"
      ]
     },
     "execution_count": 18,
     "metadata": {},
     "output_type": "execute_result"
    },
    {
     "data": {
      "image/png": "[encoded data removed]",
      "text/plain": [
       "<Figure size 432x288 with 1 Axes>"
      ]
     },
     "metadata": {
      "needs_background": "light"
     },
     "output_type": "display_data"
    }
   ],
   "source": [
    "df_ratings.groupby([\"day\", \"joke_id\"])[\"rating\"].std().plot.bar(x=\"day\", y=\"rating\")"
   ]
  }
 ],
 "metadata": {
  "kernelspec": {
   "display_name": "Python 3",
   "language": "python",
   "name": "python3"
  },
  "language_info": {
   "codemirror_mode": {
    "name": "ipython",
    "version": 3
   },
   "file_extension": ".py",
   "mimetype": "text/x-python",
   "name": "python",
   "nbconvert_exporter": "python",
   "pygments_lexer": "ipython3",
   "version": "3.7.4"
  }
 },
 "nbformat": 4,
 "nbformat_minor": 2
}
