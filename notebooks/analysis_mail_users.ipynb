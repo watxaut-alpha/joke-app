{
 "cells": [
  {
   "cell_type": "code",
   "execution_count": 1,
   "metadata": {},
   "outputs": [],
   "source": [
    "# change dir because notebook is in a child directory of the root directory (and does not find my modules)\n",
    "import os \n",
    "try:\n",
    "    os.chdir(r'/Users/joan/code/python/jokes-app')\n",
    "except FileNotFoundError:\n",
    "    os.chdir(r'/home/repos/joke-app')\n",
    "    DB_HOST = \"watxaut.com\""
   ]
  },
  {
   "cell_type": "code",
   "execution_count": 2,
   "metadata": {},
   "outputs": [],
   "source": [
    "import pandas as pd\n",
    "import matplotlib.pyplot as plt"
   ]
  },
  {
   "cell_type": "code",
   "execution_count": 3,
   "metadata": {},
   "outputs": [],
   "source": [
    "import src.api.src.db.core as db\n",
    "try:\n",
    "    from src.api.src.db.secret import (\n",
    "        HOST_OVH as DB_HOST, \n",
    "        POSTGRES_USER, \n",
    "        POSTGRES_PASSWORD_OVH as POSTGRES_PASSWORD, \n",
    "        SCHEMA_NAME\n",
    "    )\n",
    "except ImportError:\n",
    "    from src.api.src.db.secret import POSTGRES_USER, POSTGRES_PASSWORD, SCHEMA_NAME"
   ]
  },
  {
   "cell_type": "markdown",
   "metadata": {},
   "source": [
    "### Get connection to Postgres DB"
   ]
  },
  {
   "cell_type": "code",
   "execution_count": 4,
   "metadata": {},
   "outputs": [],
   "source": [
    "conn = db.connect(host=DB_HOST, user=POSTGRES_USER, password=POSTGRES_PASSWORD, schema_name=SCHEMA_NAME)"
   ]
  },
  {
   "cell_type": "markdown",
   "metadata": {},
   "source": [
    "# USERS"
   ]
  },
  {
   "cell_type": "markdown",
   "metadata": {},
   "source": [
    "### Get Number of subscribed users and unsubscribed users"
   ]
  },
  {
   "cell_type": "code",
   "execution_count": 5,
   "metadata": {},
   "outputs": [],
   "source": [
    "df = db.execute_read(conn, \"select * from users_mail\")"
   ]
  },
  {
   "cell_type": "code",
   "execution_count": 6,
   "metadata": {},
   "outputs": [],
   "source": [
    "n_subbed = df[\"deleted_at\"].isna().sum()\n",
    "n_unsubbed = len(df) - n_subbed"
   ]
  },
  {
   "cell_type": "code",
   "execution_count": 7,
   "metadata": {},
   "outputs": [
    {
     "data": {
      "image/png": "[encoded data removed]",
      "text/plain": [
       "<Figure size 432x288 with 1 Axes>"
      ]
     },
     "metadata": {
      "needs_background": "light"
     },
     "output_type": "display_data"
    }
   ],
   "source": [
    "fig = plt.figure()\n",
    "ax = fig.add_axes([0,0,1,1])\n",
    "l_bars = ['Subscribed', 'Unsubscribed']\n",
    "ax.bar(l_bars, [n_subbed, n_unsubbed])\n",
    "plt.show()"
   ]
  },
  {
   "cell_type": "markdown",
   "metadata": {},
   "source": [
    "### Top 10 Joke reviewers"
   ]
  },
  {
   "cell_type": "code",
   "execution_count": 15,
   "metadata": {},
   "outputs": [],
   "source": [
    "df_mean_user = db.execute_read(conn, \"\"\"\n",
    "select \n",
    "\tum.email, avg(r.rating), count(r)\n",
    "from \n",
    "\tratings as r\n",
    "left join users_mail as um\n",
    "on (r.user_id = um.id_hash)\n",
    "where \"source\" = 'mail' and um.email is not null\n",
    "group by um.email\n",
    "order by count(r.rating) desc\n",
    "\"\"\")"
   ]
  },
  {
   "cell_type": "code",
   "execution_count": 16,
   "metadata": {
    "scrolled": false
   },
   "outputs": [
    {
     "data": {
      "text/html": [
       "<div>\n",
       "<style scoped>\n",
       "    .dataframe tbody tr th:only-of-type {\n",
       "        vertical-align: middle;\n",
       "    }\n",
       "\n",
       "    .dataframe tbody tr th {\n",
       "        vertical-align: top;\n",
       "    }\n",
       "\n",
       "    .dataframe thead th {\n",
       "        text-align: right;\n",
       "    }\n",
       "</style>\n",
       "<table border=\"1\" class=\"dataframe\">\n",
       "  <thead>\n",
       "    <tr style=\"text-align: right;\">\n",
       "      <th></th>\n",
       "      <th>email</th>\n",
       "      <th>avg</th>\n",
       "      <th>count</th>\n",
       "    </tr>\n",
       "  </thead>\n",
       "  <tbody>\n",
       "    <tr>\n",
       "      <td>0</td>\n",
       "      <td>watxaut@gmail.com</td>\n",
       "      <td>7.590909</td>\n",
       "      <td>66</td>\n",
       "    </tr>\n",
       "    <tr>\n",
       "      <td>1</td>\n",
       "      <td>jaime.conde@ficosa.com</td>\n",
       "      <td>1.784483</td>\n",
       "      <td>58</td>\n",
       "    </tr>\n",
       "    <tr>\n",
       "      <td>2</td>\n",
       "      <td>irene.chausse@mosaicfactor.com</td>\n",
       "      <td>4.925926</td>\n",
       "      <td>54</td>\n",
       "    </tr>\n",
       "    <tr>\n",
       "      <td>3</td>\n",
       "      <td>Javier.heras@volkswagen-groupservices.com</td>\n",
       "      <td>5.807692</td>\n",
       "      <td>52</td>\n",
       "    </tr>\n",
       "    <tr>\n",
       "      <td>4</td>\n",
       "      <td>Extern.javier.gris@seat.es</td>\n",
       "      <td>5.098039</td>\n",
       "      <td>51</td>\n",
       "    </tr>\n",
       "    <tr>\n",
       "      <td>5</td>\n",
       "      <td>antoni.martinezlopez@ficosa.com</td>\n",
       "      <td>3.930000</td>\n",
       "      <td>50</td>\n",
       "    </tr>\n",
       "    <tr>\n",
       "      <td>6</td>\n",
       "      <td>guillem.mcid@gmail.com</td>\n",
       "      <td>6.860000</td>\n",
       "      <td>50</td>\n",
       "    </tr>\n",
       "    <tr>\n",
       "      <td>7</td>\n",
       "      <td>adria.hr@gmail.com</td>\n",
       "      <td>4.204082</td>\n",
       "      <td>49</td>\n",
       "    </tr>\n",
       "    <tr>\n",
       "      <td>8</td>\n",
       "      <td>ingrid.falguera19@gmail.com</td>\n",
       "      <td>6.860465</td>\n",
       "      <td>43</td>\n",
       "    </tr>\n",
       "    <tr>\n",
       "      <td>9</td>\n",
       "      <td>bcocamarin@gmail.com</td>\n",
       "      <td>7.419355</td>\n",
       "      <td>31</td>\n",
       "    </tr>\n",
       "    <tr>\n",
       "      <td>10</td>\n",
       "      <td>oriol33charles@gmail.com</td>\n",
       "      <td>5.161290</td>\n",
       "      <td>31</td>\n",
       "    </tr>\n",
       "    <tr>\n",
       "      <td>11</td>\n",
       "      <td>leireberrocal6@gmail.com</td>\n",
       "      <td>6.887097</td>\n",
       "      <td>31</td>\n",
       "    </tr>\n",
       "    <tr>\n",
       "      <td>12</td>\n",
       "      <td>neuscuadernpuig@gmail.com</td>\n",
       "      <td>8.000000</td>\n",
       "      <td>29</td>\n",
       "    </tr>\n",
       "    <tr>\n",
       "      <td>13</td>\n",
       "      <td>cristinacp01@gmail.com</td>\n",
       "      <td>5.964286</td>\n",
       "      <td>28</td>\n",
       "    </tr>\n",
       "    <tr>\n",
       "      <td>14</td>\n",
       "      <td>18mariaff@gmail.com</td>\n",
       "      <td>5.611111</td>\n",
       "      <td>27</td>\n",
       "    </tr>\n",
       "    <tr>\n",
       "      <td>15</td>\n",
       "      <td>pmignasi@gmail.com</td>\n",
       "      <td>5.086957</td>\n",
       "      <td>23</td>\n",
       "    </tr>\n",
       "    <tr>\n",
       "      <td>16</td>\n",
       "      <td>alex.colomer.puig@gmail.com</td>\n",
       "      <td>4.150000</td>\n",
       "      <td>20</td>\n",
       "    </tr>\n",
       "    <tr>\n",
       "      <td>17</td>\n",
       "      <td>ponsmonica95@gmail.com</td>\n",
       "      <td>4.550000</td>\n",
       "      <td>20</td>\n",
       "    </tr>\n",
       "    <tr>\n",
       "      <td>18</td>\n",
       "      <td>marccampmanygarcia@gmail.com</td>\n",
       "      <td>5.105263</td>\n",
       "      <td>19</td>\n",
       "    </tr>\n",
       "    <tr>\n",
       "      <td>19</td>\n",
       "      <td>paucharlez1997@gmail.com</td>\n",
       "      <td>6.875000</td>\n",
       "      <td>16</td>\n",
       "    </tr>\n",
       "  </tbody>\n",
       "</table>\n",
       "</div>"
      ],
      "text/plain": [
       "                                        email       avg  count\n",
       "0                           watxaut@gmail.com  7.590909     66\n",
       "1                      jaime.conde@ficosa.com  1.784483     58\n",
       "2              irene.chausse@mosaicfactor.com  4.925926     54\n",
       "3   Javier.heras@volkswagen-groupservices.com  5.807692     52\n",
       "4                  Extern.javier.gris@seat.es  5.098039     51\n",
       "5             antoni.martinezlopez@ficosa.com  3.930000     50\n",
       "6                      guillem.mcid@gmail.com  6.860000     50\n",
       "7                          adria.hr@gmail.com  4.204082     49\n",
       "8                 ingrid.falguera19@gmail.com  6.860465     43\n",
       "9                        bcocamarin@gmail.com  7.419355     31\n",
       "10                   oriol33charles@gmail.com  5.161290     31\n",
       "11                   leireberrocal6@gmail.com  6.887097     31\n",
       "12                  neuscuadernpuig@gmail.com  8.000000     29\n",
       "13                     cristinacp01@gmail.com  5.964286     28\n",
       "14                        18mariaff@gmail.com  5.611111     27\n",
       "15                         pmignasi@gmail.com  5.086957     23\n",
       "16                alex.colomer.puig@gmail.com  4.150000     20\n",
       "17                     ponsmonica95@gmail.com  4.550000     20\n",
       "18               marccampmanygarcia@gmail.com  5.105263     19\n",
       "19                   paucharlez1997@gmail.com  6.875000     16"
      ]
     },
     "execution_count": 16,
     "metadata": {},
     "output_type": "execute_result"
    }
   ],
   "source": [
    "df_mean_user.head(20)"
   ]
  },
  {
   "cell_type": "markdown",
   "metadata": {},
   "source": [
    "## TOP 5 Most Haters (min 5 reviews)"
   ]
  },
  {
   "cell_type": "code",
   "execution_count": 17,
   "metadata": {},
   "outputs": [
    {
     "data": {
      "text/html": [
       "<div>\n",
       "<style scoped>\n",
       "    .dataframe tbody tr th:only-of-type {\n",
       "        vertical-align: middle;\n",
       "    }\n",
       "\n",
       "    .dataframe tbody tr th {\n",
       "        vertical-align: top;\n",
       "    }\n",
       "\n",
       "    .dataframe thead th {\n",
       "        text-align: right;\n",
       "    }\n",
       "</style>\n",
       "<table border=\"1\" class=\"dataframe\">\n",
       "  <thead>\n",
       "    <tr style=\"text-align: right;\">\n",
       "      <th></th>\n",
       "      <th>email</th>\n",
       "      <th>avg</th>\n",
       "      <th>count</th>\n",
       "    </tr>\n",
       "  </thead>\n",
       "  <tbody>\n",
       "    <tr>\n",
       "      <td>1</td>\n",
       "      <td>jaime.conde@ficosa.com</td>\n",
       "      <td>1.784483</td>\n",
       "      <td>58</td>\n",
       "    </tr>\n",
       "    <tr>\n",
       "      <td>5</td>\n",
       "      <td>antoni.martinezlopez@ficosa.com</td>\n",
       "      <td>3.930000</td>\n",
       "      <td>50</td>\n",
       "    </tr>\n",
       "    <tr>\n",
       "      <td>16</td>\n",
       "      <td>alex.colomer.puig@gmail.com</td>\n",
       "      <td>4.150000</td>\n",
       "      <td>20</td>\n",
       "    </tr>\n",
       "    <tr>\n",
       "      <td>7</td>\n",
       "      <td>adria.hr@gmail.com</td>\n",
       "      <td>4.204082</td>\n",
       "      <td>49</td>\n",
       "    </tr>\n",
       "    <tr>\n",
       "      <td>17</td>\n",
       "      <td>ponsmonica95@gmail.com</td>\n",
       "      <td>4.550000</td>\n",
       "      <td>20</td>\n",
       "    </tr>\n",
       "  </tbody>\n",
       "</table>\n",
       "</div>"
      ],
      "text/plain": [
       "                              email       avg  count\n",
       "1            jaime.conde@ficosa.com  1.784483     58\n",
       "5   antoni.martinezlopez@ficosa.com  3.930000     50\n",
       "16      alex.colomer.puig@gmail.com  4.150000     20\n",
       "7                adria.hr@gmail.com  4.204082     49\n",
       "17           ponsmonica95@gmail.com  4.550000     20"
      ]
     },
     "execution_count": 17,
     "metadata": {},
     "output_type": "execute_result"
    }
   ],
   "source": [
    "df_mean_user_min_count = df_mean_user[df_mean_user[\"count\"] >= 5]\n",
    "df_mean_user_hater = df_mean_user_min_count.sort_values(by=['avg', 'count'])\n",
    "df_mean_user_hater.head(5)"
   ]
  },
  {
   "cell_type": "markdown",
   "metadata": {},
   "source": [
    "## TOP 5 Supporters (min 5 reviews)"
   ]
  },
  {
   "cell_type": "code",
   "execution_count": 18,
   "metadata": {},
   "outputs": [
    {
     "data": {
      "text/html": [
       "<div>\n",
       "<style scoped>\n",
       "    .dataframe tbody tr th:only-of-type {\n",
       "        vertical-align: middle;\n",
       "    }\n",
       "\n",
       "    .dataframe tbody tr th {\n",
       "        vertical-align: top;\n",
       "    }\n",
       "\n",
       "    .dataframe thead th {\n",
       "        text-align: right;\n",
       "    }\n",
       "</style>\n",
       "<table border=\"1\" class=\"dataframe\">\n",
       "  <thead>\n",
       "    <tr style=\"text-align: right;\">\n",
       "      <th></th>\n",
       "      <th>email</th>\n",
       "      <th>avg</th>\n",
       "      <th>count</th>\n",
       "    </tr>\n",
       "  </thead>\n",
       "  <tbody>\n",
       "    <tr>\n",
       "      <td>12</td>\n",
       "      <td>neuscuadernpuig@gmail.com</td>\n",
       "      <td>8.000000</td>\n",
       "      <td>29</td>\n",
       "    </tr>\n",
       "    <tr>\n",
       "      <td>0</td>\n",
       "      <td>watxaut@gmail.com</td>\n",
       "      <td>7.590909</td>\n",
       "      <td>66</td>\n",
       "    </tr>\n",
       "    <tr>\n",
       "      <td>9</td>\n",
       "      <td>bcocamarin@gmail.com</td>\n",
       "      <td>7.419355</td>\n",
       "      <td>31</td>\n",
       "    </tr>\n",
       "    <tr>\n",
       "      <td>11</td>\n",
       "      <td>leireberrocal6@gmail.com</td>\n",
       "      <td>6.887097</td>\n",
       "      <td>31</td>\n",
       "    </tr>\n",
       "    <tr>\n",
       "      <td>19</td>\n",
       "      <td>paucharlez1997@gmail.com</td>\n",
       "      <td>6.875000</td>\n",
       "      <td>16</td>\n",
       "    </tr>\n",
       "  </tbody>\n",
       "</table>\n",
       "</div>"
      ],
      "text/plain": [
       "                        email       avg  count\n",
       "12  neuscuadernpuig@gmail.com  8.000000     29\n",
       "0           watxaut@gmail.com  7.590909     66\n",
       "9        bcocamarin@gmail.com  7.419355     31\n",
       "11   leireberrocal6@gmail.com  6.887097     31\n",
       "19   paucharlez1997@gmail.com  6.875000     16"
      ]
     },
     "execution_count": 18,
     "metadata": {},
     "output_type": "execute_result"
    }
   ],
   "source": [
    "df_mean_user_supporter = df_mean_user_min_count.sort_values(by=['avg', 'count'], ascending=False)\n",
    "df_mean_user_supporter.head()"
   ]
  },
  {
   "cell_type": "markdown",
   "metadata": {},
   "source": [
    "## TOP JOKE SENDERS"
   ]
  },
  {
   "cell_type": "code",
   "execution_count": 19,
   "metadata": {},
   "outputs": [
    {
     "data": {
      "text/html": [
       "<div>\n",
       "<style scoped>\n",
       "    .dataframe tbody tr th:only-of-type {\n",
       "        vertical-align: middle;\n",
       "    }\n",
       "\n",
       "    .dataframe tbody tr th {\n",
       "        vertical-align: top;\n",
       "    }\n",
       "\n",
       "    .dataframe thead th {\n",
       "        text-align: right;\n",
       "    }\n",
       "</style>\n",
       "<table border=\"1\" class=\"dataframe\">\n",
       "  <thead>\n",
       "    <tr style=\"text-align: right;\">\n",
       "      <th></th>\n",
       "      <th>split_part</th>\n",
       "      <th>chistes_sent</th>\n",
       "    </tr>\n",
       "  </thead>\n",
       "  <tbody>\n",
       "    <tr>\n",
       "      <td>0</td>\n",
       "      <td>Javier.heras</td>\n",
       "      <td>31</td>\n",
       "    </tr>\n",
       "    <tr>\n",
       "      <td>1</td>\n",
       "      <td>watxaut</td>\n",
       "      <td>27</td>\n",
       "    </tr>\n",
       "    <tr>\n",
       "      <td>2</td>\n",
       "      <td>jaime.conde</td>\n",
       "      <td>17</td>\n",
       "    </tr>\n",
       "    <tr>\n",
       "      <td>3</td>\n",
       "      <td>Extern.javier.gris</td>\n",
       "      <td>6</td>\n",
       "    </tr>\n",
       "    <tr>\n",
       "      <td>4</td>\n",
       "      <td>alex.colomer.puig</td>\n",
       "      <td>6</td>\n",
       "    </tr>\n",
       "  </tbody>\n",
       "</table>\n",
       "</div>"
      ],
      "text/plain": [
       "           split_part  chistes_sent\n",
       "0        Javier.heras            31\n",
       "1             watxaut            27\n",
       "2         jaime.conde            17\n",
       "3  Extern.javier.gris             6\n",
       "4   alex.colomer.puig             6"
      ]
     },
     "execution_count": 19,
     "metadata": {},
     "output_type": "execute_result"
    }
   ],
   "source": [
    "sql = \"\"\"\n",
    "select \n",
    "    split_part(author_email, '@', 1), count(*) as chistes_sent \n",
    "from \n",
    "    public.jokes_to_send \n",
    "where \n",
    "    author is not null and\n",
    "    author_email is not null \n",
    "group by author_email \n",
    "order by chistes_sent desc\n",
    "\"\"\"\n",
    "df_marc_senders = db.execute_read(conn, sql)\n",
    "df_marc_senders.head(5)"
   ]
  },
  {
   "cell_type": "markdown",
   "metadata": {},
   "source": [
    "# USERS"
   ]
  },
  {
   "cell_type": "markdown",
   "metadata": {},
   "source": [
    "## AVG joke rating per user"
   ]
  },
  {
   "cell_type": "code",
   "execution_count": 29,
   "metadata": {},
   "outputs": [
    {
     "data": {
      "text/plain": [
       "<matplotlib.axes._subplots.AxesSubplot at 0x120a4b790>"
      ]
     },
     "execution_count": 29,
     "metadata": {},
     "output_type": "execute_result"
    },
    {
     "data": {
      "image/png": "[encoded data removed]",
      "text/plain": [
       "<Figure size 1008x432 with 1 Axes>"
      ]
     },
     "metadata": {
      "needs_background": "light"
     },
     "output_type": "display_data"
    }
   ],
   "source": [
    "df_mean_user.sort_values(by=['avg'], ascending=False).plot.bar(x=\"email\", y=\"avg\", figsize=(14, 6))"
   ]
  },
  {
   "cell_type": "markdown",
   "metadata": {},
   "source": [
    "### Rating Statistics"
   ]
  },
  {
   "cell_type": "code",
   "execution_count": 26,
   "metadata": {},
   "outputs": [],
   "source": [
    "sql = \"\"\"\n",
    "select \n",
    "\tsj.joke_id, r.rating, date(sj.created_at) as day, r.created_at as voted_at\n",
    "from\n",
    "\tsent_jokes as sj\n",
    "left join \n",
    "\tratings as r\n",
    "on \n",
    "\t(r.joke_id = sj.joke_id)\n",
    "where \n",
    "\tr.\"source\" = 'mail' and sj.sent_from = 'mail'\n",
    "order by sj.created_at asc\n",
    "\"\"\"\n",
    "df_ratings = db.execute_read(conn, sql)\n",
    "df_sent_mails = db.execute_read(conn, \"select joke_id, date(created_at) as day from sent_jokes where sent_from = 'mail'\")"
   ]
  },
  {
   "cell_type": "markdown",
   "metadata": {},
   "source": [
    "#### Get last 10 ratings"
   ]
  },
  {
   "cell_type": "code",
   "execution_count": 27,
   "metadata": {},
   "outputs": [
    {
     "data": {
      "text/html": [
       "<div>\n",
       "<style scoped>\n",
       "    .dataframe tbody tr th:only-of-type {\n",
       "        vertical-align: middle;\n",
       "    }\n",
       "\n",
       "    .dataframe tbody tr th {\n",
       "        vertical-align: top;\n",
       "    }\n",
       "\n",
       "    .dataframe thead th {\n",
       "        text-align: right;\n",
       "    }\n",
       "</style>\n",
       "<table border=\"1\" class=\"dataframe\">\n",
       "  <thead>\n",
       "    <tr style=\"text-align: right;\">\n",
       "      <th></th>\n",
       "      <th>joke_id</th>\n",
       "      <th>rating</th>\n",
       "      <th>day</th>\n",
       "      <th>voted_at</th>\n",
       "    </tr>\n",
       "  </thead>\n",
       "  <tbody>\n",
       "    <tr>\n",
       "      <td>749</td>\n",
       "      <td>1830</td>\n",
       "      <td>10.0</td>\n",
       "      <td>2020-01-17</td>\n",
       "      <td>2020-01-17 07:31:53.478665</td>\n",
       "    </tr>\n",
       "    <tr>\n",
       "      <td>750</td>\n",
       "      <td>1830</td>\n",
       "      <td>0.0</td>\n",
       "      <td>2020-01-17</td>\n",
       "      <td>2020-01-17 07:30:25.875198</td>\n",
       "    </tr>\n",
       "    <tr>\n",
       "      <td>751</td>\n",
       "      <td>1830</td>\n",
       "      <td>10.0</td>\n",
       "      <td>2020-01-17</td>\n",
       "      <td>2020-01-17 07:30:31.185863</td>\n",
       "    </tr>\n",
       "    <tr>\n",
       "      <td>752</td>\n",
       "      <td>1830</td>\n",
       "      <td>0.0</td>\n",
       "      <td>2020-01-17</td>\n",
       "      <td>2020-01-17 08:48:35.049835</td>\n",
       "    </tr>\n",
       "    <tr>\n",
       "      <td>753</td>\n",
       "      <td>1830</td>\n",
       "      <td>6.0</td>\n",
       "      <td>2020-01-17</td>\n",
       "      <td>2020-01-17 08:39:36.172635</td>\n",
       "    </tr>\n",
       "    <tr>\n",
       "      <td>754</td>\n",
       "      <td>1830</td>\n",
       "      <td>2.0</td>\n",
       "      <td>2020-01-17</td>\n",
       "      <td>2020-01-17 07:31:47.692359</td>\n",
       "    </tr>\n",
       "    <tr>\n",
       "      <td>755</td>\n",
       "      <td>1830</td>\n",
       "      <td>8.0</td>\n",
       "      <td>2020-01-17</td>\n",
       "      <td>2020-01-17 07:31:44.230047</td>\n",
       "    </tr>\n",
       "    <tr>\n",
       "      <td>756</td>\n",
       "      <td>1830</td>\n",
       "      <td>7.0</td>\n",
       "      <td>2020-01-17</td>\n",
       "      <td>2020-01-17 07:31:24.552564</td>\n",
       "    </tr>\n",
       "    <tr>\n",
       "      <td>757</td>\n",
       "      <td>1830</td>\n",
       "      <td>7.0</td>\n",
       "      <td>2020-01-17</td>\n",
       "      <td>2020-01-17 07:30:54.808807</td>\n",
       "    </tr>\n",
       "    <tr>\n",
       "      <td>758</td>\n",
       "      <td>1830</td>\n",
       "      <td>8.0</td>\n",
       "      <td>2020-01-17</td>\n",
       "      <td>2020-01-17 07:39:02.124086</td>\n",
       "    </tr>\n",
       "    <tr>\n",
       "      <td>759</td>\n",
       "      <td>1830</td>\n",
       "      <td>5.0</td>\n",
       "      <td>2020-01-17</td>\n",
       "      <td>2020-01-17 07:40:41.241446</td>\n",
       "    </tr>\n",
       "    <tr>\n",
       "      <td>760</td>\n",
       "      <td>1830</td>\n",
       "      <td>0.0</td>\n",
       "      <td>2020-01-17</td>\n",
       "      <td>2020-01-17 07:44:29.230726</td>\n",
       "    </tr>\n",
       "    <tr>\n",
       "      <td>761</td>\n",
       "      <td>1830</td>\n",
       "      <td>6.0</td>\n",
       "      <td>2020-01-17</td>\n",
       "      <td>2020-01-17 07:44:57.505856</td>\n",
       "    </tr>\n",
       "    <tr>\n",
       "      <td>762</td>\n",
       "      <td>1830</td>\n",
       "      <td>5.0</td>\n",
       "      <td>2020-01-17</td>\n",
       "      <td>2020-01-17 07:58:32.571896</td>\n",
       "    </tr>\n",
       "    <tr>\n",
       "      <td>763</td>\n",
       "      <td>1830</td>\n",
       "      <td>8.0</td>\n",
       "      <td>2020-01-17</td>\n",
       "      <td>2020-01-17 08:03:42.916939</td>\n",
       "    </tr>\n",
       "  </tbody>\n",
       "</table>\n",
       "</div>"
      ],
      "text/plain": [
       "     joke_id  rating         day                   voted_at\n",
       "749     1830    10.0  2020-01-17 2020-01-17 07:31:53.478665\n",
       "750     1830     0.0  2020-01-17 2020-01-17 07:30:25.875198\n",
       "751     1830    10.0  2020-01-17 2020-01-17 07:30:31.185863\n",
       "752     1830     0.0  2020-01-17 2020-01-17 08:48:35.049835\n",
       "753     1830     6.0  2020-01-17 2020-01-17 08:39:36.172635\n",
       "754     1830     2.0  2020-01-17 2020-01-17 07:31:47.692359\n",
       "755     1830     8.0  2020-01-17 2020-01-17 07:31:44.230047\n",
       "756     1830     7.0  2020-01-17 2020-01-17 07:31:24.552564\n",
       "757     1830     7.0  2020-01-17 2020-01-17 07:30:54.808807\n",
       "758     1830     8.0  2020-01-17 2020-01-17 07:39:02.124086\n",
       "759     1830     5.0  2020-01-17 2020-01-17 07:40:41.241446\n",
       "760     1830     0.0  2020-01-17 2020-01-17 07:44:29.230726\n",
       "761     1830     6.0  2020-01-17 2020-01-17 07:44:57.505856\n",
       "762     1830     5.0  2020-01-17 2020-01-17 07:58:32.571896\n",
       "763     1830     8.0  2020-01-17 2020-01-17 08:03:42.916939"
      ]
     },
     "execution_count": 27,
     "metadata": {},
     "output_type": "execute_result"
    }
   ],
   "source": [
    "df_ratings.tail(15)"
   ]
  },
  {
   "cell_type": "markdown",
   "metadata": {},
   "source": [
    "## Get mean of ratings by joke and day"
   ]
  },
  {
   "cell_type": "code",
   "execution_count": 31,
   "metadata": {},
   "outputs": [
    {
     "data": {
      "text/plain": [
       "<matplotlib.axes._subplots.AxesSubplot at 0x120c29550>"
      ]
     },
     "execution_count": 31,
     "metadata": {},
     "output_type": "execute_result"
    },
    {
     "data": {
      "image/png": "[encoded data removed]",
      "text/plain": [
       "<Figure size 1008x432 with 1 Axes>"
      ]
     },
     "metadata": {
      "needs_background": "light"
     },
     "output_type": "display_data"
    }
   ],
   "source": [
    "mean_ratings = df_ratings.groupby([\"day\"])[\"rating\"].mean()\n",
    "mean_ratings.tail(40).plot.bar(x=\"day\", y=\"rating\", figsize=(14, 6))"
   ]
  },
  {
   "cell_type": "markdown",
   "metadata": {},
   "source": [
    "## Get Std Deviation of ratings by joke and day"
   ]
  },
  {
   "cell_type": "code",
   "execution_count": 32,
   "metadata": {},
   "outputs": [
    {
     "data": {
      "text/plain": [
       "<matplotlib.axes._subplots.AxesSubplot at 0x1210f61d0>"
      ]
     },
     "execution_count": 32,
     "metadata": {},
     "output_type": "execute_result"
    },
    {
     "data": {
      "image/png": "[encoded data removed]",
      "text/plain": [
       "<Figure size 1008x432 with 1 Axes>"
      ]
     },
     "metadata": {
      "needs_background": "light"
     },
     "output_type": "display_data"
    }
   ],
   "source": [
    "std_ratings = df_ratings.groupby([\"day\"])[\"rating\"].std()\n",
    "std_ratings.tail(40).plot.bar(x=\"day\", y=\"rating\", figsize=(14, 6))"
   ]
  },
  {
   "cell_type": "code",
   "execution_count": 93,
   "metadata": {},
   "outputs": [],
   "source": [
    "df_count_ratings = df_ratings.rename(columns={\"rating\": \"count\"}).groupby([\"day\"])[\"count\"].count()\n",
    "mean_ratings = pd.concat([mean_ratings, df_count_ratings], axis=1)\n",
    "mean_ratings = mean_ratings[mean_ratings[\"count\"] > 5]\n",
    "\n",
    "std_ratings = pd.concat([std_ratings, df_count_ratings], axis=1)\n",
    "std_ratings = std_ratings[std_ratings[\"count\"] > 5]"
   ]
  },
  {
   "cell_type": "code",
   "execution_count": 94,
   "metadata": {},
   "outputs": [],
   "source": [
    "# add again joke id to table\n",
    "mean_ratings = mean_ratings.merge(df_sent_mails, on='day')\n",
    "std_ratings = std_ratings.merge(df_sent_mails, on='day')"
   ]
  },
  {
   "cell_type": "code",
   "execution_count": 96,
   "metadata": {},
   "outputs": [],
   "source": [
    "# get worst and best joke from mean - date\n",
    "d_best = mean_ratings.sort_values(ascending=False, by='rating').head(1).to_dict(orient=\"index\")\n",
    "best_joke_id = list(d_best.values())[0][\"joke_id\"]\n",
    "d_worst = mean_ratings.sort_values(ascending=False, by='rating').tail(1).to_dict(orient=\"index\")\n",
    "worst_joke_id = list(d_worst.values())[0][\"joke_id\"]\n",
    "\n",
    "# get most controversial joke date\n",
    "d_cont = std_ratings.sort_values(ascending=False, by='rating').head(1).to_dict(orient=\"index\")\n",
    "cont_joke_id = list(d_cont.values())[0][\"joke_id\"]\n",
    "\n",
    "df_best = db.execute_read(conn, f\"select * from jokes_to_send where id = {best_joke_id}\")\n",
    "df_worst = db.execute_read(conn, f\"select * from jokes_to_send where id = {worst_joke_id}\")\n",
    "df_cont = db.execute_read(conn, f\"select * from jokes_to_send where id = {cont_joke_id}\")"
   ]
  },
  {
   "cell_type": "markdown",
   "metadata": {},
   "source": [
    "## Best joke of all time"
   ]
  },
  {
   "cell_type": "code",
   "execution_count": 97,
   "metadata": {},
   "outputs": [
    {
     "name": "stdout",
     "output_type": "stream",
     "text": [
      "Joke:\n",
      "— ¿Qué es un pez en un cine?\n",
      "\n",
      "— Un mero espectador\n",
      "Author: Jokenasi\n"
     ]
    }
   ],
   "source": [
    "print(f\"Joke:\\n{df_best['joke'][0]}\\nAuthor: {df_best['author'][0]}\")"
   ]
  },
  {
   "cell_type": "markdown",
   "metadata": {},
   "source": [
    "## Worst joke of all time"
   ]
  },
  {
   "cell_type": "code",
   "execution_count": 98,
   "metadata": {},
   "outputs": [
    {
     "name": "stdout",
     "output_type": "stream",
     "text": [
      "Joke:\n",
      "Estos son Zidane i Nhug, nuestros perros de caza... \n",
      ".... de caza nueztra.\n",
      "Author: None\n"
     ]
    }
   ],
   "source": [
    "print(f\"Joke:\\n{df_worst['joke'][0]}\\nAuthor: {df_worst['author'][0]}\")"
   ]
  },
  {
   "cell_type": "markdown",
   "metadata": {},
   "source": [
    "## Most controversial of all time"
   ]
  },
  {
   "cell_type": "code",
   "execution_count": 99,
   "metadata": {},
   "outputs": [
    {
     "name": "stdout",
     "output_type": "stream",
     "text": [
      "Joke:\n",
      "¿En qué se parecen un gato, un perro y un hombre ahogado?\n",
      "En que el gato dice miau, el perro dice guau y el hombre dice: miauguau\n",
      "Author: The Manlleus\n"
     ]
    }
   ],
   "source": [
    "print(f\"Joke:\\n{df_cont['joke'][0]}\\nAuthor: {df_cont['author'][0]}\")"
   ]
  },
  {
   "cell_type": "code",
   "execution_count": null,
   "metadata": {},
   "outputs": [],
   "source": []
  }
 ],
 "metadata": {
  "kernelspec": {
   "display_name": "Python 3",
   "language": "python",
   "name": "python3"
  },
  "language_info": {
   "codemirror_mode": {
    "name": "ipython",
    "version": 3
   },
   "file_extension": ".py",
   "mimetype": "text/x-python",
   "name": "python",
   "nbconvert_exporter": "python",
   "pygments_lexer": "ipython3",
   "version": "3.7.4"
  }
 },
 "nbformat": 4,
 "nbformat_minor": 2
}
