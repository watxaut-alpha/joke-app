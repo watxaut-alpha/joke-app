{
 "cells": [
  {
   "cell_type": "code",
   "execution_count": 77,
   "metadata": {},
   "outputs": [],
   "source": [
    "# change dir because notebook is in a child directory of the root directory (and does not find my modules)\n",
    "import os \n",
    "try:\n",
    "    os.chdir(r'/Users/joan/code/python/jokes-app')\n",
    "except FileNotFoundError:\n",
    "    os.chdir(r'/home/repos/joke-app')"
   ]
  },
  {
   "cell_type": "code",
   "execution_count": 78,
   "metadata": {},
   "outputs": [],
   "source": [
    "import pandas as pd\n",
    "import matplotlib.pyplot as plt"
   ]
  },
  {
   "cell_type": "code",
   "execution_count": 79,
   "metadata": {},
   "outputs": [],
   "source": [
    "import src.api.src.db.core as db\n",
    "try:\n",
    "    from src.api.src.db.secret import (\n",
    "        HOST_OVH as HOST, \n",
    "        POSTGRES_USER, \n",
    "        POSTGRES_PASSWORD_OVH as POSTGRES_PASSWORD, \n",
    "        SCHEMA_NAME\n",
    "    )\n",
    "except ImportError:\n",
    "    from src.api.src.db.secret import DB_HOST, POSTGRES_USER, POSTGRES_PASSWORD, SCHEMA_NAME"
   ]
  },
  {
   "cell_type": "markdown",
   "metadata": {},
   "source": [
    "### Get connection to Postgres DB"
   ]
  },
  {
   "cell_type": "code",
   "execution_count": 80,
   "metadata": {},
   "outputs": [],
   "source": [
    "conn = db.connect(host=HOST, user=POSTGRES_USER, password=POSTGRES_PASSWORD, schema_name=SCHEMA_NAME)"
   ]
  },
  {
   "cell_type": "markdown",
   "metadata": {},
   "source": [
    "### Get Number of subscribed users and unsubscribed users"
   ]
  },
  {
   "cell_type": "code",
   "execution_count": 81,
   "metadata": {},
   "outputs": [],
   "source": [
    "df = db.execute_read(conn, \"select * from users_mail\")"
   ]
  },
  {
   "cell_type": "code",
   "execution_count": 82,
   "metadata": {},
   "outputs": [],
   "source": [
    "n_subbed = df[\"deleted_at\"].isna().sum()\n",
    "n_unsubbed = len(df) - n_subbed"
   ]
  },
  {
   "cell_type": "code",
   "execution_count": 83,
   "metadata": {},
   "outputs": [
    {
     "data": {
      "image/png": "[encoded data removed]",
      "text/plain": [
       "<Figure size 432x288 with 1 Axes>"
      ]
     },
     "metadata": {
      "needs_background": "light"
     },
     "output_type": "display_data"
    }
   ],
   "source": [
    "fig = plt.figure()\n",
    "ax = fig.add_axes([0,0,1,1])\n",
    "l_bars = ['Subscribed', 'Unsubscribed']\n",
    "ax.bar(l_bars, [n_subbed, n_unsubbed])\n",
    "plt.show()"
   ]
  },
  {
   "cell_type": "markdown",
   "metadata": {},
   "source": [
    "### Top 10 Joke reviewers"
   ]
  },
  {
   "cell_type": "code",
   "execution_count": 84,
   "metadata": {},
   "outputs": [],
   "source": [
    "df_mean_user = db.execute_read(conn, \"\"\"\n",
    "select \n",
    "\tum.email, avg(r.rating), count(r)\n",
    "from \n",
    "\tratings as r\n",
    "left join users_mail as um\n",
    "on (r.user_id = um.id_hash)\n",
    "where \"source\" = 'mail' and um.email is not null\n",
    "group by um.email\n",
    "order by count(r.rating) desc\n",
    "\"\"\")"
   ]
  },
  {
   "cell_type": "code",
   "execution_count": 85,
   "metadata": {
    "scrolled": false
   },
   "outputs": [
    {
     "data": {
      "text/html": [
       "<div>\n",
       "<style scoped>\n",
       "    .dataframe tbody tr th:only-of-type {\n",
       "        vertical-align: middle;\n",
       "    }\n",
       "\n",
       "    .dataframe tbody tr th {\n",
       "        vertical-align: top;\n",
       "    }\n",
       "\n",
       "    .dataframe thead th {\n",
       "        text-align: right;\n",
       "    }\n",
       "</style>\n",
       "<table border=\"1\" class=\"dataframe\">\n",
       "  <thead>\n",
       "    <tr style=\"text-align: right;\">\n",
       "      <th></th>\n",
       "      <th>email</th>\n",
       "      <th>avg</th>\n",
       "      <th>count</th>\n",
       "    </tr>\n",
       "  </thead>\n",
       "  <tbody>\n",
       "    <tr>\n",
       "      <th>0</th>\n",
       "      <td>watxaut@gmail.com</td>\n",
       "      <td>7.000000</td>\n",
       "      <td>35</td>\n",
       "    </tr>\n",
       "    <tr>\n",
       "      <th>1</th>\n",
       "      <td>jaime.conde@ficosa.com</td>\n",
       "      <td>1.944444</td>\n",
       "      <td>27</td>\n",
       "    </tr>\n",
       "    <tr>\n",
       "      <th>2</th>\n",
       "      <td>irene.chausse@mosaicfactor.com</td>\n",
       "      <td>5.400000</td>\n",
       "      <td>25</td>\n",
       "    </tr>\n",
       "    <tr>\n",
       "      <th>3</th>\n",
       "      <td>antoni.martinezlopez@ficosa.com</td>\n",
       "      <td>3.068182</td>\n",
       "      <td>22</td>\n",
       "    </tr>\n",
       "    <tr>\n",
       "      <th>4</th>\n",
       "      <td>Javier.heras@volkswagen-groupservices.com</td>\n",
       "      <td>5.250000</td>\n",
       "      <td>20</td>\n",
       "    </tr>\n",
       "    <tr>\n",
       "      <th>5</th>\n",
       "      <td>Extern.javier.gris@seat.es</td>\n",
       "      <td>5.750000</td>\n",
       "      <td>20</td>\n",
       "    </tr>\n",
       "    <tr>\n",
       "      <th>6</th>\n",
       "      <td>alex.colomer.puig@gmail.com</td>\n",
       "      <td>3.947368</td>\n",
       "      <td>19</td>\n",
       "    </tr>\n",
       "    <tr>\n",
       "      <th>7</th>\n",
       "      <td>guillem.mcid@gmail.com</td>\n",
       "      <td>6.315789</td>\n",
       "      <td>19</td>\n",
       "    </tr>\n",
       "    <tr>\n",
       "      <th>8</th>\n",
       "      <td>adria.hr@gmail.com</td>\n",
       "      <td>3.684211</td>\n",
       "      <td>19</td>\n",
       "    </tr>\n",
       "    <tr>\n",
       "      <th>9</th>\n",
       "      <td>18mariaff@gmail.com</td>\n",
       "      <td>6.166667</td>\n",
       "      <td>15</td>\n",
       "    </tr>\n",
       "    <tr>\n",
       "      <th>10</th>\n",
       "      <td>neuscuadernpuig@gmail.com</td>\n",
       "      <td>8.571429</td>\n",
       "      <td>14</td>\n",
       "    </tr>\n",
       "    <tr>\n",
       "      <th>11</th>\n",
       "      <td>leireberrocal6@gmail.com</td>\n",
       "      <td>6.730769</td>\n",
       "      <td>13</td>\n",
       "    </tr>\n",
       "    <tr>\n",
       "      <th>12</th>\n",
       "      <td>ingrid.falguera19@gmail.com</td>\n",
       "      <td>7.916667</td>\n",
       "      <td>12</td>\n",
       "    </tr>\n",
       "    <tr>\n",
       "      <th>13</th>\n",
       "      <td>bcocamarin@gmail.com</td>\n",
       "      <td>7.727273</td>\n",
       "      <td>11</td>\n",
       "    </tr>\n",
       "    <tr>\n",
       "      <th>14</th>\n",
       "      <td>pmignasi@gmail.com</td>\n",
       "      <td>4.444444</td>\n",
       "      <td>9</td>\n",
       "    </tr>\n",
       "    <tr>\n",
       "      <th>15</th>\n",
       "      <td>Miquel.regidor93@gmail.com</td>\n",
       "      <td>8.333333</td>\n",
       "      <td>6</td>\n",
       "    </tr>\n",
       "    <tr>\n",
       "      <th>16</th>\n",
       "      <td>marccampmanygarcia@gmail.com</td>\n",
       "      <td>4.000000</td>\n",
       "      <td>5</td>\n",
       "    </tr>\n",
       "    <tr>\n",
       "      <th>17</th>\n",
       "      <td>oriol33charles@gmail.com</td>\n",
       "      <td>1.250000</td>\n",
       "      <td>4</td>\n",
       "    </tr>\n",
       "    <tr>\n",
       "      <th>18</th>\n",
       "      <td>cristinacp01@gmail.com</td>\n",
       "      <td>5.000000</td>\n",
       "      <td>3</td>\n",
       "    </tr>\n",
       "  </tbody>\n",
       "</table>\n",
       "</div>"
      ],
      "text/plain": [
       "                                        email       avg  count\n",
       "0                           watxaut@gmail.com  7.000000     35\n",
       "1                      jaime.conde@ficosa.com  1.944444     27\n",
       "2              irene.chausse@mosaicfactor.com  5.400000     25\n",
       "3             antoni.martinezlopez@ficosa.com  3.068182     22\n",
       "4   Javier.heras@volkswagen-groupservices.com  5.250000     20\n",
       "5                  Extern.javier.gris@seat.es  5.750000     20\n",
       "6                 alex.colomer.puig@gmail.com  3.947368     19\n",
       "7                      guillem.mcid@gmail.com  6.315789     19\n",
       "8                          adria.hr@gmail.com  3.684211     19\n",
       "9                         18mariaff@gmail.com  6.166667     15\n",
       "10                  neuscuadernpuig@gmail.com  8.571429     14\n",
       "11                   leireberrocal6@gmail.com  6.730769     13\n",
       "12                ingrid.falguera19@gmail.com  7.916667     12\n",
       "13                       bcocamarin@gmail.com  7.727273     11\n",
       "14                         pmignasi@gmail.com  4.444444      9\n",
       "15                 Miquel.regidor93@gmail.com  8.333333      6\n",
       "16               marccampmanygarcia@gmail.com  4.000000      5\n",
       "17                   oriol33charles@gmail.com  1.250000      4\n",
       "18                     cristinacp01@gmail.com  5.000000      3"
      ]
     },
     "execution_count": 85,
     "metadata": {},
     "output_type": "execute_result"
    }
   ],
   "source": [
    "df_mean_user.head(20)"
   ]
  },
  {
   "cell_type": "markdown",
   "metadata": {},
   "source": [
    "## TOP 5 Most Haters (min 5 reviews)"
   ]
  },
  {
   "cell_type": "code",
   "execution_count": 86,
   "metadata": {},
   "outputs": [
    {
     "data": {
      "text/html": [
       "<div>\n",
       "<style scoped>\n",
       "    .dataframe tbody tr th:only-of-type {\n",
       "        vertical-align: middle;\n",
       "    }\n",
       "\n",
       "    .dataframe tbody tr th {\n",
       "        vertical-align: top;\n",
       "    }\n",
       "\n",
       "    .dataframe thead th {\n",
       "        text-align: right;\n",
       "    }\n",
       "</style>\n",
       "<table border=\"1\" class=\"dataframe\">\n",
       "  <thead>\n",
       "    <tr style=\"text-align: right;\">\n",
       "      <th></th>\n",
       "      <th>email</th>\n",
       "      <th>avg</th>\n",
       "      <th>count</th>\n",
       "    </tr>\n",
       "  </thead>\n",
       "  <tbody>\n",
       "    <tr>\n",
       "      <th>1</th>\n",
       "      <td>jaime.conde@ficosa.com</td>\n",
       "      <td>1.944444</td>\n",
       "      <td>27</td>\n",
       "    </tr>\n",
       "    <tr>\n",
       "      <th>3</th>\n",
       "      <td>antoni.martinezlopez@ficosa.com</td>\n",
       "      <td>3.068182</td>\n",
       "      <td>22</td>\n",
       "    </tr>\n",
       "    <tr>\n",
       "      <th>8</th>\n",
       "      <td>adria.hr@gmail.com</td>\n",
       "      <td>3.684211</td>\n",
       "      <td>19</td>\n",
       "    </tr>\n",
       "    <tr>\n",
       "      <th>6</th>\n",
       "      <td>alex.colomer.puig@gmail.com</td>\n",
       "      <td>3.947368</td>\n",
       "      <td>19</td>\n",
       "    </tr>\n",
       "    <tr>\n",
       "      <th>16</th>\n",
       "      <td>marccampmanygarcia@gmail.com</td>\n",
       "      <td>4.000000</td>\n",
       "      <td>5</td>\n",
       "    </tr>\n",
       "  </tbody>\n",
       "</table>\n",
       "</div>"
      ],
      "text/plain": [
       "                              email       avg  count\n",
       "1            jaime.conde@ficosa.com  1.944444     27\n",
       "3   antoni.martinezlopez@ficosa.com  3.068182     22\n",
       "8                adria.hr@gmail.com  3.684211     19\n",
       "6       alex.colomer.puig@gmail.com  3.947368     19\n",
       "16     marccampmanygarcia@gmail.com  4.000000      5"
      ]
     },
     "execution_count": 86,
     "metadata": {},
     "output_type": "execute_result"
    }
   ],
   "source": [
    "df_mean_user = df_mean_user[df_mean_user[\"count\"] >= 5]\n",
    "df_mean_user_hater = df_mean_user.sort_values(by=['avg', 'count'])\n",
    "df_mean_user_hater.head(5)"
   ]
  },
  {
   "cell_type": "markdown",
   "metadata": {},
   "source": [
    "## TOP 5 Supporters (min 5 reviews)"
   ]
  },
  {
   "cell_type": "code",
   "execution_count": 87,
   "metadata": {},
   "outputs": [
    {
     "data": {
      "text/html": [
       "<div>\n",
       "<style scoped>\n",
       "    .dataframe tbody tr th:only-of-type {\n",
       "        vertical-align: middle;\n",
       "    }\n",
       "\n",
       "    .dataframe tbody tr th {\n",
       "        vertical-align: top;\n",
       "    }\n",
       "\n",
       "    .dataframe thead th {\n",
       "        text-align: right;\n",
       "    }\n",
       "</style>\n",
       "<table border=\"1\" class=\"dataframe\">\n",
       "  <thead>\n",
       "    <tr style=\"text-align: right;\">\n",
       "      <th></th>\n",
       "      <th>email</th>\n",
       "      <th>avg</th>\n",
       "      <th>count</th>\n",
       "    </tr>\n",
       "  </thead>\n",
       "  <tbody>\n",
       "    <tr>\n",
       "      <th>10</th>\n",
       "      <td>neuscuadernpuig@gmail.com</td>\n",
       "      <td>8.571429</td>\n",
       "      <td>14</td>\n",
       "    </tr>\n",
       "    <tr>\n",
       "      <th>15</th>\n",
       "      <td>Miquel.regidor93@gmail.com</td>\n",
       "      <td>8.333333</td>\n",
       "      <td>6</td>\n",
       "    </tr>\n",
       "    <tr>\n",
       "      <th>12</th>\n",
       "      <td>ingrid.falguera19@gmail.com</td>\n",
       "      <td>7.916667</td>\n",
       "      <td>12</td>\n",
       "    </tr>\n",
       "    <tr>\n",
       "      <th>13</th>\n",
       "      <td>bcocamarin@gmail.com</td>\n",
       "      <td>7.727273</td>\n",
       "      <td>11</td>\n",
       "    </tr>\n",
       "    <tr>\n",
       "      <th>0</th>\n",
       "      <td>watxaut@gmail.com</td>\n",
       "      <td>7.000000</td>\n",
       "      <td>35</td>\n",
       "    </tr>\n",
       "  </tbody>\n",
       "</table>\n",
       "</div>"
      ],
      "text/plain": [
       "                          email       avg  count\n",
       "10    neuscuadernpuig@gmail.com  8.571429     14\n",
       "15   Miquel.regidor93@gmail.com  8.333333      6\n",
       "12  ingrid.falguera19@gmail.com  7.916667     12\n",
       "13         bcocamarin@gmail.com  7.727273     11\n",
       "0             watxaut@gmail.com  7.000000     35"
      ]
     },
     "execution_count": 87,
     "metadata": {},
     "output_type": "execute_result"
    }
   ],
   "source": [
    "df_mean_user_supporter = df_mean_user.sort_values(by=['avg', 'count'], ascending=False)\n",
    "df_mean_user_supporter.head()"
   ]
  },
  {
   "cell_type": "markdown",
   "metadata": {},
   "source": [
    "## AVG joke rating per user"
   ]
  },
  {
   "cell_type": "code",
   "execution_count": 88,
   "metadata": {},
   "outputs": [
    {
     "data": {
      "text/plain": [
       "<matplotlib.axes._subplots.AxesSubplot at 0x11e2bfa50>"
      ]
     },
     "execution_count": 88,
     "metadata": {},
     "output_type": "execute_result"
    },
    {
     "data": {
      "image/png": "[encoded data removed]",
      "text/plain": [
       "<Figure size 432x288 with 1 Axes>"
      ]
     },
     "metadata": {
      "needs_background": "light"
     },
     "output_type": "display_data"
    }
   ],
   "source": [
    "df_mean_user.head(20).plot.bar(x=\"email\", y=\"avg\")"
   ]
  },
  {
   "cell_type": "markdown",
   "metadata": {},
   "source": [
    "### Rating Statistics"
   ]
  },
  {
   "cell_type": "code",
   "execution_count": 100,
   "metadata": {},
   "outputs": [],
   "source": [
    "sql = \"\"\"\n",
    "select \n",
    "\tsj.joke_id, r.rating, date(sj.created_at) as day, r.created_at as voted_at\n",
    "from\n",
    "\tsent_jokes as sj\n",
    "left join \n",
    "\tratings as r\n",
    "on \n",
    "\t(r.joke_id = sj.joke_id)\n",
    "where \n",
    "\tr.\"source\" = 'mail' and sj.sent_from = 'mail'\n",
    "order by sj.created_at asc\n",
    "\"\"\"\n",
    "df_ratings = db.execute_read(conn, sql)\n",
    "df_sent_mails = db.execute_read(conn, \"select joke_id, date(created_at) as day from sent_jokes where sent_from = 'mail'\")"
   ]
  },
  {
   "cell_type": "markdown",
   "metadata": {},
   "source": [
    "#### Get last 10 ratings"
   ]
  },
  {
   "cell_type": "code",
   "execution_count": 90,
   "metadata": {},
   "outputs": [
    {
     "data": {
      "text/html": [
       "<div>\n",
       "<style scoped>\n",
       "    .dataframe tbody tr th:only-of-type {\n",
       "        vertical-align: middle;\n",
       "    }\n",
       "\n",
       "    .dataframe tbody tr th {\n",
       "        vertical-align: top;\n",
       "    }\n",
       "\n",
       "    .dataframe thead th {\n",
       "        text-align: right;\n",
       "    }\n",
       "</style>\n",
       "<table border=\"1\" class=\"dataframe\">\n",
       "  <thead>\n",
       "    <tr style=\"text-align: right;\">\n",
       "      <th></th>\n",
       "      <th>joke_id</th>\n",
       "      <th>rating</th>\n",
       "      <th>day</th>\n",
       "      <th>voted_at</th>\n",
       "    </tr>\n",
       "  </thead>\n",
       "  <tbody>\n",
       "    <tr>\n",
       "      <th>283</th>\n",
       "      <td>340</td>\n",
       "      <td>5.0</td>\n",
       "      <td>2019-12-03</td>\n",
       "      <td>2019-12-03 07:47:24.847790</td>\n",
       "    </tr>\n",
       "    <tr>\n",
       "      <th>284</th>\n",
       "      <td>340</td>\n",
       "      <td>7.5</td>\n",
       "      <td>2019-12-03</td>\n",
       "      <td>2019-12-03 07:49:33.474096</td>\n",
       "    </tr>\n",
       "    <tr>\n",
       "      <th>285</th>\n",
       "      <td>340</td>\n",
       "      <td>2.5</td>\n",
       "      <td>2019-12-03</td>\n",
       "      <td>2019-12-03 07:54:36.681430</td>\n",
       "    </tr>\n",
       "    <tr>\n",
       "      <th>286</th>\n",
       "      <td>340</td>\n",
       "      <td>5.0</td>\n",
       "      <td>2019-12-03</td>\n",
       "      <td>2019-12-03 07:30:28.601946</td>\n",
       "    </tr>\n",
       "    <tr>\n",
       "      <th>287</th>\n",
       "      <td>340</td>\n",
       "      <td>7.5</td>\n",
       "      <td>2019-12-03</td>\n",
       "      <td>2019-12-03 07:56:23.636738</td>\n",
       "    </tr>\n",
       "    <tr>\n",
       "      <th>288</th>\n",
       "      <td>340</td>\n",
       "      <td>10.0</td>\n",
       "      <td>2019-12-03</td>\n",
       "      <td>2019-12-03 08:06:32.545569</td>\n",
       "    </tr>\n",
       "    <tr>\n",
       "      <th>289</th>\n",
       "      <td>340</td>\n",
       "      <td>7.5</td>\n",
       "      <td>2019-12-03</td>\n",
       "      <td>2019-12-03 08:11:02.463984</td>\n",
       "    </tr>\n",
       "    <tr>\n",
       "      <th>290</th>\n",
       "      <td>340</td>\n",
       "      <td>10.0</td>\n",
       "      <td>2019-12-03</td>\n",
       "      <td>2019-12-03 08:19:51.862172</td>\n",
       "    </tr>\n",
       "    <tr>\n",
       "      <th>291</th>\n",
       "      <td>340</td>\n",
       "      <td>5.0</td>\n",
       "      <td>2019-12-03</td>\n",
       "      <td>2019-12-03 08:37:08.780931</td>\n",
       "    </tr>\n",
       "    <tr>\n",
       "      <th>292</th>\n",
       "      <td>340</td>\n",
       "      <td>7.5</td>\n",
       "      <td>2019-12-03</td>\n",
       "      <td>2019-12-03 08:41:42.662004</td>\n",
       "    </tr>\n",
       "    <tr>\n",
       "      <th>293</th>\n",
       "      <td>340</td>\n",
       "      <td>7.5</td>\n",
       "      <td>2019-12-03</td>\n",
       "      <td>2019-12-03 08:51:46.788226</td>\n",
       "    </tr>\n",
       "    <tr>\n",
       "      <th>294</th>\n",
       "      <td>340</td>\n",
       "      <td>0.0</td>\n",
       "      <td>2019-12-03</td>\n",
       "      <td>2019-12-03 08:51:05.796414</td>\n",
       "    </tr>\n",
       "    <tr>\n",
       "      <th>295</th>\n",
       "      <td>340</td>\n",
       "      <td>7.5</td>\n",
       "      <td>2019-12-03</td>\n",
       "      <td>2019-12-03 14:19:22.707467</td>\n",
       "    </tr>\n",
       "    <tr>\n",
       "      <th>296</th>\n",
       "      <td>340</td>\n",
       "      <td>0.0</td>\n",
       "      <td>2019-12-03</td>\n",
       "      <td>2019-12-03 07:31:58.412574</td>\n",
       "    </tr>\n",
       "    <tr>\n",
       "      <th>297</th>\n",
       "      <td>340</td>\n",
       "      <td>10.0</td>\n",
       "      <td>2019-12-03</td>\n",
       "      <td>2019-12-03 07:30:24.845175</td>\n",
       "    </tr>\n",
       "  </tbody>\n",
       "</table>\n",
       "</div>"
      ],
      "text/plain": [
       "     joke_id  rating         day                   voted_at\n",
       "283      340     5.0  2019-12-03 2019-12-03 07:47:24.847790\n",
       "284      340     7.5  2019-12-03 2019-12-03 07:49:33.474096\n",
       "285      340     2.5  2019-12-03 2019-12-03 07:54:36.681430\n",
       "286      340     5.0  2019-12-03 2019-12-03 07:30:28.601946\n",
       "287      340     7.5  2019-12-03 2019-12-03 07:56:23.636738\n",
       "288      340    10.0  2019-12-03 2019-12-03 08:06:32.545569\n",
       "289      340     7.5  2019-12-03 2019-12-03 08:11:02.463984\n",
       "290      340    10.0  2019-12-03 2019-12-03 08:19:51.862172\n",
       "291      340     5.0  2019-12-03 2019-12-03 08:37:08.780931\n",
       "292      340     7.5  2019-12-03 2019-12-03 08:41:42.662004\n",
       "293      340     7.5  2019-12-03 2019-12-03 08:51:46.788226\n",
       "294      340     0.0  2019-12-03 2019-12-03 08:51:05.796414\n",
       "295      340     7.5  2019-12-03 2019-12-03 14:19:22.707467\n",
       "296      340     0.0  2019-12-03 2019-12-03 07:31:58.412574\n",
       "297      340    10.0  2019-12-03 2019-12-03 07:30:24.845175"
      ]
     },
     "execution_count": 90,
     "metadata": {},
     "output_type": "execute_result"
    }
   ],
   "source": [
    "df_ratings.tail(15)"
   ]
  },
  {
   "cell_type": "markdown",
   "metadata": {},
   "source": [
    "## Get mean of ratings by joke and day"
   ]
  },
  {
   "cell_type": "code",
   "execution_count": 101,
   "metadata": {},
   "outputs": [
    {
     "data": {
      "text/plain": [
       "<matplotlib.axes._subplots.AxesSubplot at 0x11af71050>"
      ]
     },
     "execution_count": 101,
     "metadata": {},
     "output_type": "execute_result"
    },
    {
     "data": {
      "image/png": "[encoded data removed]",
      "text/plain": [
       "<Figure size 432x288 with 1 Axes>"
      ]
     },
     "metadata": {
      "needs_background": "light"
     },
     "output_type": "display_data"
    }
   ],
   "source": [
    "mean_ratings = df_ratings.groupby([\"day\"])[\"rating\"].mean()\n",
    "mean_ratings.tail(20).plot.bar(x=\"day\", y=\"rating\")"
   ]
  },
  {
   "cell_type": "markdown",
   "metadata": {},
   "source": [
    "## Get Std Deviation of ratings by joke and day"
   ]
  },
  {
   "cell_type": "code",
   "execution_count": 92,
   "metadata": {},
   "outputs": [
    {
     "data": {
      "text/plain": [
       "<matplotlib.axes._subplots.AxesSubplot at 0x12083fc10>"
      ]
     },
     "execution_count": 92,
     "metadata": {},
     "output_type": "execute_result"
    },
    {
     "data": {
      "image/png": "[encoded data removed]",
      "text/plain": [
       "<Figure size 432x288 with 1 Axes>"
      ]
     },
     "metadata": {
      "needs_background": "light"
     },
     "output_type": "display_data"
    }
   ],
   "source": [
    "std_ratings = df_ratings.groupby([\"day\"])[\"rating\"].std()\n",
    "std_ratings.tail(20).plot.bar(x=\"day\", y=\"rating\")"
   ]
  },
  {
   "cell_type": "code",
   "execution_count": 93,
   "metadata": {},
   "outputs": [],
   "source": [
    "df_count_ratings = df_ratings.rename(columns={\"rating\": \"count\"}).groupby([\"day\"])[\"count\"].count()\n",
    "mean_ratings = pd.concat([mean_ratings, df_count_ratings], axis=1)\n",
    "mean_ratings = mean_ratings[mean_ratings[\"count\"] > 5]\n",
    "\n",
    "std_ratings = pd.concat([std_ratings, df_count_ratings], axis=1)\n",
    "std_ratings = std_ratings[std_ratings[\"count\"] > 5]"
   ]
  },
  {
   "cell_type": "code",
   "execution_count": 94,
   "metadata": {},
   "outputs": [],
   "source": [
    "# add again joke id to table\n",
    "mean_ratings = mean_ratings.merge(df_sent_mails, on='day')\n",
    "std_ratings = std_ratings.merge(df_sent_mails, on='day')"
   ]
  },
  {
   "cell_type": "code",
   "execution_count": 96,
   "metadata": {},
   "outputs": [],
   "source": [
    "# get worst and best joke from mean - date\n",
    "d_best = mean_ratings.sort_values(ascending=False, by='rating').head(1).to_dict(orient=\"index\")\n",
    "best_joke_id = list(d_best.values())[0][\"joke_id\"]\n",
    "d_worst = mean_ratings.sort_values(ascending=False, by='rating').tail(1).to_dict(orient=\"index\")\n",
    "worst_joke_id = list(d_worst.values())[0][\"joke_id\"]\n",
    "\n",
    "# get most controversial joke date\n",
    "d_cont = std_ratings.sort_values(ascending=False, by='rating').head(1).to_dict(orient=\"index\")\n",
    "cont_joke_id = list(d_cont.values())[0][\"joke_id\"]\n",
    "\n",
    "df_best = db.execute_read(conn, f\"select * from jokes_to_send where id = {best_joke_id}\")\n",
    "df_worst = db.execute_read(conn, f\"select * from jokes_to_send where id = {worst_joke_id}\")\n",
    "df_cont = db.execute_read(conn, f\"select * from jokes_to_send where id = {cont_joke_id}\")"
   ]
  },
  {
   "cell_type": "markdown",
   "metadata": {},
   "source": [
    "## Best joke of all time"
   ]
  },
  {
   "cell_type": "code",
   "execution_count": 97,
   "metadata": {},
   "outputs": [
    {
     "name": "stdout",
     "output_type": "stream",
     "text": [
      "Joke:\n",
      "— ¿Qué es un pez en un cine?\n",
      "\n",
      "— Un mero espectador\n",
      "Author: Jokenasi\n"
     ]
    }
   ],
   "source": [
    "print(f\"Joke:\\n{df_best['joke'][0]}\\nAuthor: {df_best['author'][0]}\")"
   ]
  },
  {
   "cell_type": "markdown",
   "metadata": {},
   "source": [
    "## Worst joke of all time"
   ]
  },
  {
   "cell_type": "code",
   "execution_count": 98,
   "metadata": {},
   "outputs": [
    {
     "name": "stdout",
     "output_type": "stream",
     "text": [
      "Joke:\n",
      "Estos son Zidane i Nhug, nuestros perros de caza... \n",
      ".... de caza nueztra.\n",
      "Author: None\n"
     ]
    }
   ],
   "source": [
    "print(f\"Joke:\\n{df_worst['joke'][0]}\\nAuthor: {df_worst['author'][0]}\")"
   ]
  },
  {
   "cell_type": "markdown",
   "metadata": {},
   "source": [
    "## Most controversial of all time"
   ]
  },
  {
   "cell_type": "code",
   "execution_count": 99,
   "metadata": {},
   "outputs": [
    {
     "name": "stdout",
     "output_type": "stream",
     "text": [
      "Joke:\n",
      "¿En qué se parecen un gato, un perro y un hombre ahogado?\n",
      "En que el gato dice miau, el perro dice guau y el hombre dice: miauguau\n",
      "Author: The Manlleus\n"
     ]
    }
   ],
   "source": [
    "print(f\"Joke:\\n{df_cont['joke'][0]}\\nAuthor: {df_cont['author'][0]}\")"
   ]
  },
  {
   "cell_type": "code",
   "execution_count": null,
   "metadata": {},
   "outputs": [],
   "source": []
  }
 ],
 "metadata": {
  "kernelspec": {
   "display_name": "Python 3",
   "language": "python",
   "name": "python3"
  },
  "language_info": {
   "codemirror_mode": {
    "name": "ipython",
    "version": 3
   },
   "file_extension": ".py",
   "mimetype": "text/x-python",
   "name": "python",
   "nbconvert_exporter": "python",
   "pygments_lexer": "ipython3",
   "version": "3.7.4"
  }
 },
 "nbformat": 4,
 "nbformat_minor": 2
}
