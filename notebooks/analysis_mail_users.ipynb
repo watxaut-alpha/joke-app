{
 "cells": [
  {
   "cell_type": "code",
   "execution_count": 151,
   "metadata": {},
   "outputs": [],
   "source": [
    "# change dir because notebook is in a child directory of the root directory (and does not find my modules)\n",
    "import os \n",
    "try:\n",
    "    os.chdir(r'/Users/joan/code/python/jokes-app')\n",
    "except FileNotFoundError:\n",
    "    os.chdir(r'/home/repos/joke-app')"
   ]
  },
  {
   "cell_type": "code",
   "execution_count": 152,
   "metadata": {},
   "outputs": [],
   "source": [
    "import pandas as pd\n",
    "import matplotlib.pyplot as plt"
   ]
  },
  {
   "cell_type": "code",
   "execution_count": 153,
   "metadata": {},
   "outputs": [],
   "source": [
    "import src.api.src.db.core as db\n",
    "try:\n",
    "    from src.api.src.db.secret import (\n",
    "        HOST_OVH as HOST, \n",
    "        POSTGRES_USER, \n",
    "        POSTGRES_PASSWORD_OVH as POSTGRES_PASSWORD, \n",
    "        SCHEMA_NAME\n",
    "    )\n",
    "except ImportError:\n",
    "    from src.api.src.db.secret import HOST, POSTGRES_USER, POSTGRES_PASSWORD, SCHEMA_NAME"
   ]
  },
  {
   "cell_type": "markdown",
   "metadata": {},
   "source": [
    "### Get connection to Postgres DB"
   ]
  },
  {
   "cell_type": "code",
   "execution_count": 154,
   "metadata": {},
   "outputs": [],
   "source": [
    "conn = db.connect(host=HOST, user=POSTGRES_USER, password=POSTGRES_PASSWORD, schema_name=SCHEMA_NAME)"
   ]
  },
  {
   "cell_type": "markdown",
   "metadata": {},
   "source": [
    "### Get Number of subscribed users and unsubscribed users"
   ]
  },
  {
   "cell_type": "code",
   "execution_count": 155,
   "metadata": {},
   "outputs": [],
   "source": [
    "df = db.execute_read(conn, \"select * from users_mail\")"
   ]
  },
  {
   "cell_type": "code",
   "execution_count": 156,
   "metadata": {},
   "outputs": [],
   "source": [
    "n_subbed = df[\"deleted_at\"].isna().sum()\n",
    "n_unsubbed = len(df) - n_subbed"
   ]
  },
  {
   "cell_type": "code",
   "execution_count": 157,
   "metadata": {},
   "outputs": [
    {
     "data": {
      "image/png": "[encoded data removed]",
      "text/plain": [
       "<Figure size 432x288 with 1 Axes>"
      ]
     },
     "metadata": {
      "needs_background": "light"
     },
     "output_type": "display_data"
    }
   ],
   "source": [
    "fig = plt.figure()\n",
    "ax = fig.add_axes([0,0,1,1])\n",
    "l_bars = ['Subscribed', 'Unsubscribed']\n",
    "ax.bar(l_bars, [n_subbed, n_unsubbed])\n",
    "plt.show()"
   ]
  },
  {
   "cell_type": "markdown",
   "metadata": {},
   "source": [
    "### Top 10 Joke reviewers"
   ]
  },
  {
   "cell_type": "code",
   "execution_count": 158,
   "metadata": {},
   "outputs": [],
   "source": [
    "df_mean_user = db.execute_read(conn, \"\"\"\n",
    "select \n",
    "\tum.email, avg(r.rating), count(r)\n",
    "from \n",
    "\tratings as r\n",
    "left join users_mail as um\n",
    "on (r.user_id = um.id_hash)\n",
    "where \"source\" = 'mail' and um.email is not null\n",
    "group by um.email\n",
    "order by count(r.rating) desc\n",
    "\"\"\")"
   ]
  },
  {
   "cell_type": "code",
   "execution_count": 159,
   "metadata": {
    "scrolled": true
   },
   "outputs": [
    {
     "data": {
      "text/html": [
       "<div>\n",
       "<style scoped>\n",
       "    .dataframe tbody tr th:only-of-type {\n",
       "        vertical-align: middle;\n",
       "    }\n",
       "\n",
       "    .dataframe tbody tr th {\n",
       "        vertical-align: top;\n",
       "    }\n",
       "\n",
       "    .dataframe thead th {\n",
       "        text-align: right;\n",
       "    }\n",
       "</style>\n",
       "<table border=\"1\" class=\"dataframe\">\n",
       "  <thead>\n",
       "    <tr style=\"text-align: right;\">\n",
       "      <th></th>\n",
       "      <th>email</th>\n",
       "      <th>avg</th>\n",
       "      <th>count</th>\n",
       "    </tr>\n",
       "  </thead>\n",
       "  <tbody>\n",
       "    <tr>\n",
       "      <th>0</th>\n",
       "      <td>watxaut@gmail.com</td>\n",
       "      <td>6.985294</td>\n",
       "      <td>34</td>\n",
       "    </tr>\n",
       "    <tr>\n",
       "      <th>1</th>\n",
       "      <td>jaime.conde@ficosa.com</td>\n",
       "      <td>2.019231</td>\n",
       "      <td>26</td>\n",
       "    </tr>\n",
       "    <tr>\n",
       "      <th>2</th>\n",
       "      <td>irene.chausse@mosaicfactor.com</td>\n",
       "      <td>5.312500</td>\n",
       "      <td>24</td>\n",
       "    </tr>\n",
       "    <tr>\n",
       "      <th>3</th>\n",
       "      <td>antoni.martinezlopez@ficosa.com</td>\n",
       "      <td>2.976190</td>\n",
       "      <td>21</td>\n",
       "    </tr>\n",
       "    <tr>\n",
       "      <th>4</th>\n",
       "      <td>Javier.heras@volkswagen-groupservices.com</td>\n",
       "      <td>5.000000</td>\n",
       "      <td>19</td>\n",
       "    </tr>\n",
       "    <tr>\n",
       "      <th>5</th>\n",
       "      <td>Extern.javier.gris@seat.es</td>\n",
       "      <td>5.789474</td>\n",
       "      <td>19</td>\n",
       "    </tr>\n",
       "    <tr>\n",
       "      <th>6</th>\n",
       "      <td>alex.colomer.puig@gmail.com</td>\n",
       "      <td>3.750000</td>\n",
       "      <td>18</td>\n",
       "    </tr>\n",
       "    <tr>\n",
       "      <th>7</th>\n",
       "      <td>guillem.mcid@gmail.com</td>\n",
       "      <td>6.388889</td>\n",
       "      <td>18</td>\n",
       "    </tr>\n",
       "    <tr>\n",
       "      <th>8</th>\n",
       "      <td>adria.hr@gmail.com</td>\n",
       "      <td>3.611111</td>\n",
       "      <td>18</td>\n",
       "    </tr>\n",
       "    <tr>\n",
       "      <th>9</th>\n",
       "      <td>18mariaff@gmail.com</td>\n",
       "      <td>5.892857</td>\n",
       "      <td>14</td>\n",
       "    </tr>\n",
       "    <tr>\n",
       "      <th>10</th>\n",
       "      <td>neuscuadernpuig@gmail.com</td>\n",
       "      <td>8.461538</td>\n",
       "      <td>13</td>\n",
       "    </tr>\n",
       "    <tr>\n",
       "      <th>11</th>\n",
       "      <td>leireberrocal6@gmail.com</td>\n",
       "      <td>6.666667</td>\n",
       "      <td>12</td>\n",
       "    </tr>\n",
       "    <tr>\n",
       "      <th>12</th>\n",
       "      <td>ingrid.falguera19@gmail.com</td>\n",
       "      <td>7.954545</td>\n",
       "      <td>11</td>\n",
       "    </tr>\n",
       "    <tr>\n",
       "      <th>13</th>\n",
       "      <td>bcocamarin@gmail.com</td>\n",
       "      <td>7.727273</td>\n",
       "      <td>11</td>\n",
       "    </tr>\n",
       "    <tr>\n",
       "      <th>14</th>\n",
       "      <td>pmignasi@gmail.com</td>\n",
       "      <td>5.357143</td>\n",
       "      <td>7</td>\n",
       "    </tr>\n",
       "    <tr>\n",
       "      <th>15</th>\n",
       "      <td>Miquel.regidor93@gmail.com</td>\n",
       "      <td>8.333333</td>\n",
       "      <td>6</td>\n",
       "    </tr>\n",
       "    <tr>\n",
       "      <th>16</th>\n",
       "      <td>marccampmanygarcia@gmail.com</td>\n",
       "      <td>4.000000</td>\n",
       "      <td>5</td>\n",
       "    </tr>\n",
       "    <tr>\n",
       "      <th>17</th>\n",
       "      <td>oriol33charles@gmail.com</td>\n",
       "      <td>2.500000</td>\n",
       "      <td>2</td>\n",
       "    </tr>\n",
       "    <tr>\n",
       "      <th>18</th>\n",
       "      <td>cristinacp01@gmail.com</td>\n",
       "      <td>3.750000</td>\n",
       "      <td>2</td>\n",
       "    </tr>\n",
       "  </tbody>\n",
       "</table>\n",
       "</div>"
      ],
      "text/plain": [
       "                                        email       avg  count\n",
       "0                           watxaut@gmail.com  6.985294     34\n",
       "1                      jaime.conde@ficosa.com  2.019231     26\n",
       "2              irene.chausse@mosaicfactor.com  5.312500     24\n",
       "3             antoni.martinezlopez@ficosa.com  2.976190     21\n",
       "4   Javier.heras@volkswagen-groupservices.com  5.000000     19\n",
       "5                  Extern.javier.gris@seat.es  5.789474     19\n",
       "6                 alex.colomer.puig@gmail.com  3.750000     18\n",
       "7                      guillem.mcid@gmail.com  6.388889     18\n",
       "8                          adria.hr@gmail.com  3.611111     18\n",
       "9                         18mariaff@gmail.com  5.892857     14\n",
       "10                  neuscuadernpuig@gmail.com  8.461538     13\n",
       "11                   leireberrocal6@gmail.com  6.666667     12\n",
       "12                ingrid.falguera19@gmail.com  7.954545     11\n",
       "13                       bcocamarin@gmail.com  7.727273     11\n",
       "14                         pmignasi@gmail.com  5.357143      7\n",
       "15                 Miquel.regidor93@gmail.com  8.333333      6\n",
       "16               marccampmanygarcia@gmail.com  4.000000      5\n",
       "17                   oriol33charles@gmail.com  2.500000      2\n",
       "18                     cristinacp01@gmail.com  3.750000      2"
      ]
     },
     "execution_count": 159,
     "metadata": {},
     "output_type": "execute_result"
    }
   ],
   "source": [
    "df_mean_user.head(20)"
   ]
  },
  {
   "cell_type": "markdown",
   "metadata": {},
   "source": [
    "## TOP 5 Most Haters (min 5 reviews)"
   ]
  },
  {
   "cell_type": "code",
   "execution_count": 160,
   "metadata": {},
   "outputs": [
    {
     "data": {
      "text/html": [
       "<div>\n",
       "<style scoped>\n",
       "    .dataframe tbody tr th:only-of-type {\n",
       "        vertical-align: middle;\n",
       "    }\n",
       "\n",
       "    .dataframe tbody tr th {\n",
       "        vertical-align: top;\n",
       "    }\n",
       "\n",
       "    .dataframe thead th {\n",
       "        text-align: right;\n",
       "    }\n",
       "</style>\n",
       "<table border=\"1\" class=\"dataframe\">\n",
       "  <thead>\n",
       "    <tr style=\"text-align: right;\">\n",
       "      <th></th>\n",
       "      <th>email</th>\n",
       "      <th>avg</th>\n",
       "      <th>count</th>\n",
       "    </tr>\n",
       "  </thead>\n",
       "  <tbody>\n",
       "    <tr>\n",
       "      <th>1</th>\n",
       "      <td>jaime.conde@ficosa.com</td>\n",
       "      <td>2.019231</td>\n",
       "      <td>26</td>\n",
       "    </tr>\n",
       "    <tr>\n",
       "      <th>3</th>\n",
       "      <td>antoni.martinezlopez@ficosa.com</td>\n",
       "      <td>2.976190</td>\n",
       "      <td>21</td>\n",
       "    </tr>\n",
       "    <tr>\n",
       "      <th>8</th>\n",
       "      <td>adria.hr@gmail.com</td>\n",
       "      <td>3.611111</td>\n",
       "      <td>18</td>\n",
       "    </tr>\n",
       "    <tr>\n",
       "      <th>6</th>\n",
       "      <td>alex.colomer.puig@gmail.com</td>\n",
       "      <td>3.750000</td>\n",
       "      <td>18</td>\n",
       "    </tr>\n",
       "    <tr>\n",
       "      <th>16</th>\n",
       "      <td>marccampmanygarcia@gmail.com</td>\n",
       "      <td>4.000000</td>\n",
       "      <td>5</td>\n",
       "    </tr>\n",
       "  </tbody>\n",
       "</table>\n",
       "</div>"
      ],
      "text/plain": [
       "                              email       avg  count\n",
       "1            jaime.conde@ficosa.com  2.019231     26\n",
       "3   antoni.martinezlopez@ficosa.com  2.976190     21\n",
       "8                adria.hr@gmail.com  3.611111     18\n",
       "6       alex.colomer.puig@gmail.com  3.750000     18\n",
       "16     marccampmanygarcia@gmail.com  4.000000      5"
      ]
     },
     "execution_count": 160,
     "metadata": {},
     "output_type": "execute_result"
    }
   ],
   "source": [
    "df_mean_user = df_mean_user[df_mean_user[\"count\"] >= 5]\n",
    "df_mean_user_hater = df_mean_user.sort_values(by=['avg', 'count'])\n",
    "df_mean_user_hater.head(5)"
   ]
  },
  {
   "cell_type": "markdown",
   "metadata": {},
   "source": [
    "## TOP 5 Supporters (min 5 reviews)"
   ]
  },
  {
   "cell_type": "code",
   "execution_count": 161,
   "metadata": {},
   "outputs": [
    {
     "data": {
      "text/html": [
       "<div>\n",
       "<style scoped>\n",
       "    .dataframe tbody tr th:only-of-type {\n",
       "        vertical-align: middle;\n",
       "    }\n",
       "\n",
       "    .dataframe tbody tr th {\n",
       "        vertical-align: top;\n",
       "    }\n",
       "\n",
       "    .dataframe thead th {\n",
       "        text-align: right;\n",
       "    }\n",
       "</style>\n",
       "<table border=\"1\" class=\"dataframe\">\n",
       "  <thead>\n",
       "    <tr style=\"text-align: right;\">\n",
       "      <th></th>\n",
       "      <th>email</th>\n",
       "      <th>avg</th>\n",
       "      <th>count</th>\n",
       "    </tr>\n",
       "  </thead>\n",
       "  <tbody>\n",
       "    <tr>\n",
       "      <th>10</th>\n",
       "      <td>neuscuadernpuig@gmail.com</td>\n",
       "      <td>8.461538</td>\n",
       "      <td>13</td>\n",
       "    </tr>\n",
       "    <tr>\n",
       "      <th>15</th>\n",
       "      <td>Miquel.regidor93@gmail.com</td>\n",
       "      <td>8.333333</td>\n",
       "      <td>6</td>\n",
       "    </tr>\n",
       "    <tr>\n",
       "      <th>12</th>\n",
       "      <td>ingrid.falguera19@gmail.com</td>\n",
       "      <td>7.954545</td>\n",
       "      <td>11</td>\n",
       "    </tr>\n",
       "    <tr>\n",
       "      <th>13</th>\n",
       "      <td>bcocamarin@gmail.com</td>\n",
       "      <td>7.727273</td>\n",
       "      <td>11</td>\n",
       "    </tr>\n",
       "    <tr>\n",
       "      <th>0</th>\n",
       "      <td>watxaut@gmail.com</td>\n",
       "      <td>6.985294</td>\n",
       "      <td>34</td>\n",
       "    </tr>\n",
       "  </tbody>\n",
       "</table>\n",
       "</div>"
      ],
      "text/plain": [
       "                          email       avg  count\n",
       "10    neuscuadernpuig@gmail.com  8.461538     13\n",
       "15   Miquel.regidor93@gmail.com  8.333333      6\n",
       "12  ingrid.falguera19@gmail.com  7.954545     11\n",
       "13         bcocamarin@gmail.com  7.727273     11\n",
       "0             watxaut@gmail.com  6.985294     34"
      ]
     },
     "execution_count": 161,
     "metadata": {},
     "output_type": "execute_result"
    }
   ],
   "source": [
    "df_mean_user_supporter = df_mean_user.sort_values(by=['avg', 'count'], ascending=False)\n",
    "df_mean_user_supporter.head()"
   ]
  },
  {
   "cell_type": "markdown",
   "metadata": {},
   "source": [
    "## AVG joke rating per user"
   ]
  },
  {
   "cell_type": "code",
   "execution_count": 162,
   "metadata": {},
   "outputs": [
    {
     "data": {
      "text/plain": [
       "<matplotlib.axes._subplots.AxesSubplot at 0x1222edb50>"
      ]
     },
     "execution_count": 162,
     "metadata": {},
     "output_type": "execute_result"
    },
    {
     "data": {
      "image/png": "[encoded data removed]",
      "text/plain": [
       "<Figure size 432x288 with 1 Axes>"
      ]
     },
     "metadata": {
      "needs_background": "light"
     },
     "output_type": "display_data"
    }
   ],
   "source": [
    "df_mean_user.head(20).plot.bar(x=\"email\", y=\"avg\")"
   ]
  },
  {
   "cell_type": "markdown",
   "metadata": {},
   "source": [
    "### Rating Statistics"
   ]
  },
  {
   "cell_type": "code",
   "execution_count": 163,
   "metadata": {},
   "outputs": [],
   "source": [
    "sql = \"\"\"\n",
    "select \n",
    "\tsj.joke_id, r.rating, sj.created_at, r.created_at as voted_at\n",
    "from\n",
    "\tsent_jokes as sj\n",
    "left join \n",
    "\tratings as r\n",
    "on \n",
    "\t(r.joke_id = sj.joke_id)\n",
    "where \n",
    "\tr.\"source\" = 'mail'\n",
    "\"\"\"\n",
    "df_ratings = db.execute_read(conn, sql)"
   ]
  },
  {
   "cell_type": "markdown",
   "metadata": {},
   "source": [
    "#### Get last 10 ratings"
   ]
  },
  {
   "cell_type": "code",
   "execution_count": 164,
   "metadata": {},
   "outputs": [
    {
     "data": {
      "text/html": [
       "<div>\n",
       "<style scoped>\n",
       "    .dataframe tbody tr th:only-of-type {\n",
       "        vertical-align: middle;\n",
       "    }\n",
       "\n",
       "    .dataframe tbody tr th {\n",
       "        vertical-align: top;\n",
       "    }\n",
       "\n",
       "    .dataframe thead th {\n",
       "        text-align: right;\n",
       "    }\n",
       "</style>\n",
       "<table border=\"1\" class=\"dataframe\">\n",
       "  <thead>\n",
       "    <tr style=\"text-align: right;\">\n",
       "      <th></th>\n",
       "      <th>joke_id</th>\n",
       "      <th>rating</th>\n",
       "      <th>created_at</th>\n",
       "      <th>voted_at</th>\n",
       "    </tr>\n",
       "  </thead>\n",
       "  <tbody>\n",
       "    <tr>\n",
       "      <th>328</th>\n",
       "      <td>1802</td>\n",
       "      <td>5.0</td>\n",
       "      <td>2019-12-01 19:00:05.986648</td>\n",
       "      <td>2019-12-02 07:42:50.697837</td>\n",
       "    </tr>\n",
       "    <tr>\n",
       "      <th>329</th>\n",
       "      <td>1802</td>\n",
       "      <td>5.0</td>\n",
       "      <td>2019-12-02 08:30:30.240028</td>\n",
       "      <td>2019-12-02 07:52:58.788852</td>\n",
       "    </tr>\n",
       "    <tr>\n",
       "      <th>330</th>\n",
       "      <td>1802</td>\n",
       "      <td>5.0</td>\n",
       "      <td>2019-12-01 19:00:05.986648</td>\n",
       "      <td>2019-12-02 07:52:58.788852</td>\n",
       "    </tr>\n",
       "    <tr>\n",
       "      <th>331</th>\n",
       "      <td>1802</td>\n",
       "      <td>7.5</td>\n",
       "      <td>2019-12-02 08:30:30.240028</td>\n",
       "      <td>2019-12-02 07:59:26.836706</td>\n",
       "    </tr>\n",
       "    <tr>\n",
       "      <th>332</th>\n",
       "      <td>1802</td>\n",
       "      <td>7.5</td>\n",
       "      <td>2019-12-01 19:00:05.986648</td>\n",
       "      <td>2019-12-02 07:59:26.836706</td>\n",
       "    </tr>\n",
       "    <tr>\n",
       "      <th>333</th>\n",
       "      <td>1802</td>\n",
       "      <td>2.5</td>\n",
       "      <td>2019-12-02 08:30:30.240028</td>\n",
       "      <td>2019-12-02 08:00:02.818146</td>\n",
       "    </tr>\n",
       "    <tr>\n",
       "      <th>334</th>\n",
       "      <td>1802</td>\n",
       "      <td>2.5</td>\n",
       "      <td>2019-12-01 19:00:05.986648</td>\n",
       "      <td>2019-12-02 08:00:02.818146</td>\n",
       "    </tr>\n",
       "    <tr>\n",
       "      <th>335</th>\n",
       "      <td>1802</td>\n",
       "      <td>5.0</td>\n",
       "      <td>2019-12-02 08:30:30.240028</td>\n",
       "      <td>2019-12-02 08:09:06.808938</td>\n",
       "    </tr>\n",
       "    <tr>\n",
       "      <th>336</th>\n",
       "      <td>1802</td>\n",
       "      <td>5.0</td>\n",
       "      <td>2019-12-01 19:00:05.986648</td>\n",
       "      <td>2019-12-02 08:09:06.808938</td>\n",
       "    </tr>\n",
       "    <tr>\n",
       "      <th>337</th>\n",
       "      <td>1802</td>\n",
       "      <td>5.0</td>\n",
       "      <td>2019-12-02 08:30:30.240028</td>\n",
       "      <td>2019-12-02 08:14:31.636476</td>\n",
       "    </tr>\n",
       "    <tr>\n",
       "      <th>338</th>\n",
       "      <td>1802</td>\n",
       "      <td>5.0</td>\n",
       "      <td>2019-12-01 19:00:05.986648</td>\n",
       "      <td>2019-12-02 08:14:31.636476</td>\n",
       "    </tr>\n",
       "    <tr>\n",
       "      <th>339</th>\n",
       "      <td>1802</td>\n",
       "      <td>7.5</td>\n",
       "      <td>2019-12-02 08:30:30.240028</td>\n",
       "      <td>2019-12-02 09:39:05.299977</td>\n",
       "    </tr>\n",
       "    <tr>\n",
       "      <th>340</th>\n",
       "      <td>1802</td>\n",
       "      <td>7.5</td>\n",
       "      <td>2019-12-01 19:00:05.986648</td>\n",
       "      <td>2019-12-02 09:39:05.299977</td>\n",
       "    </tr>\n",
       "    <tr>\n",
       "      <th>341</th>\n",
       "      <td>1802</td>\n",
       "      <td>2.5</td>\n",
       "      <td>2019-12-02 08:30:30.240028</td>\n",
       "      <td>2019-12-02 10:43:57.141198</td>\n",
       "    </tr>\n",
       "    <tr>\n",
       "      <th>342</th>\n",
       "      <td>1802</td>\n",
       "      <td>2.5</td>\n",
       "      <td>2019-12-01 19:00:05.986648</td>\n",
       "      <td>2019-12-02 10:43:57.141198</td>\n",
       "    </tr>\n",
       "  </tbody>\n",
       "</table>\n",
       "</div>"
      ],
      "text/plain": [
       "     joke_id  rating                 created_at                   voted_at\n",
       "328     1802     5.0 2019-12-01 19:00:05.986648 2019-12-02 07:42:50.697837\n",
       "329     1802     5.0 2019-12-02 08:30:30.240028 2019-12-02 07:52:58.788852\n",
       "330     1802     5.0 2019-12-01 19:00:05.986648 2019-12-02 07:52:58.788852\n",
       "331     1802     7.5 2019-12-02 08:30:30.240028 2019-12-02 07:59:26.836706\n",
       "332     1802     7.5 2019-12-01 19:00:05.986648 2019-12-02 07:59:26.836706\n",
       "333     1802     2.5 2019-12-02 08:30:30.240028 2019-12-02 08:00:02.818146\n",
       "334     1802     2.5 2019-12-01 19:00:05.986648 2019-12-02 08:00:02.818146\n",
       "335     1802     5.0 2019-12-02 08:30:30.240028 2019-12-02 08:09:06.808938\n",
       "336     1802     5.0 2019-12-01 19:00:05.986648 2019-12-02 08:09:06.808938\n",
       "337     1802     5.0 2019-12-02 08:30:30.240028 2019-12-02 08:14:31.636476\n",
       "338     1802     5.0 2019-12-01 19:00:05.986648 2019-12-02 08:14:31.636476\n",
       "339     1802     7.5 2019-12-02 08:30:30.240028 2019-12-02 09:39:05.299977\n",
       "340     1802     7.5 2019-12-01 19:00:05.986648 2019-12-02 09:39:05.299977\n",
       "341     1802     2.5 2019-12-02 08:30:30.240028 2019-12-02 10:43:57.141198\n",
       "342     1802     2.5 2019-12-01 19:00:05.986648 2019-12-02 10:43:57.141198"
      ]
     },
     "execution_count": 164,
     "metadata": {},
     "output_type": "execute_result"
    }
   ],
   "source": [
    "df_ratings.tail(15)"
   ]
  },
  {
   "cell_type": "markdown",
   "metadata": {},
   "source": [
    "## Get mean of ratings by joke and day"
   ]
  },
  {
   "cell_type": "code",
   "execution_count": 165,
   "metadata": {},
   "outputs": [
    {
     "data": {
      "text/plain": [
       "<matplotlib.axes._subplots.AxesSubplot at 0x12252f5d0>"
      ]
     },
     "execution_count": 165,
     "metadata": {},
     "output_type": "execute_result"
    },
    {
     "data": {
      "image/png": "[encoded data removed]",
      "text/plain": [
       "<Figure size 432x288 with 1 Axes>"
      ]
     },
     "metadata": {
      "needs_background": "light"
     },
     "output_type": "display_data"
    }
   ],
   "source": [
    "df_ratings[\"day\"] = df_ratings[\"created_at\"].dt.strftime('%Y-%m-%d')\n",
    "mean_ratings = df_ratings.groupby([\"day\", \"joke_id\"])[\"rating\"].mean()\n",
    "mean_ratings.tail(20).plot.bar(x=\"day\", y=\"rating\")"
   ]
  },
  {
   "cell_type": "markdown",
   "metadata": {},
   "source": [
    "## Get Std Deviation of ratings by joke and day"
   ]
  },
  {
   "cell_type": "code",
   "execution_count": 166,
   "metadata": {},
   "outputs": [
    {
     "data": {
      "text/plain": [
       "<matplotlib.axes._subplots.AxesSubplot at 0x12244f190>"
      ]
     },
     "execution_count": 166,
     "metadata": {},
     "output_type": "execute_result"
    },
    {
     "data": {
      "image/png": "[encoded data removed]",
      "text/plain": [
       "<Figure size 432x288 with 1 Axes>"
      ]
     },
     "metadata": {
      "needs_background": "light"
     },
     "output_type": "display_data"
    }
   ],
   "source": [
    "std_ratings = df_ratings.groupby([\"day\", \"joke_id\"])[\"rating\"].std()\n",
    "std_ratings.tail(20).plot.bar(x=\"day\", y=\"rating\")"
   ]
  },
  {
   "cell_type": "code",
   "execution_count": 167,
   "metadata": {},
   "outputs": [],
   "source": [
    "df_count_ratings = df_ratings.rename(columns={\"rating\": \"count\"}).groupby([\"day\", \"joke_id\"])[\"count\"].count()\n",
    "mean_ratings = pd.concat([mean_ratings, df_count_ratings], axis=1)\n",
    "mean_ratings = mean_ratings[mean_ratings[\"count\"] > 5]\n",
    "\n",
    "std_ratings = pd.concat([std_ratings, df_count_ratings], axis=1)\n",
    "std_ratings = std_ratings[std_ratings[\"count\"] > 5]"
   ]
  },
  {
   "cell_type": "code",
   "execution_count": 168,
   "metadata": {},
   "outputs": [
    {
     "name": "stdout",
     "output_type": "stream",
     "text": [
      "{'rating': {('2019-11-28', 1800): 9.0}, 'count': {('2019-11-28', 1800): 10}}\n"
     ]
    }
   ],
   "source": [
    "# get worst and best joke from mean\n",
    "d_best = mean_ratings.sort_values(ascending=False, by='rating').head(1).to_dict()\n",
    "s_best_day, best_joke_id = list(d_best[\"rating\"].keys())[0]\n",
    "d_worst = mean_ratings.sort_values(ascending=False, by='rating').tail(1).to_dict()\n",
    "s_worst_day, worst_joke_id = list(d_worst[\"rating\"].keys())[0]\n",
    "\n",
    "df_best = db.execute_read(conn, f\"select * from jokes_to_send where id = {best_joke_id}\")\n",
    "df_worst = db.execute_read(conn, f\"select * from jokes_to_send where id = {worst_joke_id}\")\n",
    "\n",
    "# get most controversial joke\n",
    "d_cont = std_ratings.sort_values(ascending=False, by='rating').head(1).to_dict()\n",
    "s_cont_day, cont_joke_id = list(d_cont[\"rating\"].keys())[0]\n",
    "df_cont = db.execute_read(conn, f\"select * from jokes_to_send where id = {cont_joke_id}\")"
   ]
  },
  {
   "cell_type": "markdown",
   "metadata": {},
   "source": [
    "## Best joke of all time"
   ]
  },
  {
   "cell_type": "code",
   "execution_count": 169,
   "metadata": {},
   "outputs": [
    {
     "name": "stdout",
     "output_type": "stream",
     "text": [
      "Joke:\n",
      "— ¿Qué es un pez en un cine?\n",
      "\n",
      "— Un mero espectador\n",
      "Author: Jokenasi\n"
     ]
    }
   ],
   "source": [
    "print(f\"Joke:\\n{df_best['joke'][0]}\\nAuthor: {df_best['author'][0]}\")"
   ]
  },
  {
   "cell_type": "markdown",
   "metadata": {},
   "source": [
    "## Worst joke of all time"
   ]
  },
  {
   "cell_type": "code",
   "execution_count": 170,
   "metadata": {},
   "outputs": [
    {
     "name": "stdout",
     "output_type": "stream",
     "text": [
      "Joke:\n",
      "Estos son Zidane i Nhug, nuestros perros de caza... \n",
      ".... de caza nueztra.\n",
      "Author: None\n"
     ]
    }
   ],
   "source": [
    "print(f\"Joke:\\n{df_worst['joke'][0]}\\nAuthor: {df_worst['author'][0]}\")"
   ]
  },
  {
   "cell_type": "markdown",
   "metadata": {},
   "source": [
    "## Most controversial of all time"
   ]
  },
  {
   "cell_type": "code",
   "execution_count": 171,
   "metadata": {},
   "outputs": [
    {
     "name": "stdout",
     "output_type": "stream",
     "text": [
      "Joke:\n",
      "¿En qué se parecen un gato, un perro y un hombre ahogado?\n",
      "En que el gato dice miau, el perro dice guau y el hombre dice: miauguau\n",
      "Author: The Manlleus\n"
     ]
    }
   ],
   "source": [
    "print(f\"Joke:\\n{df_cont['joke'][0]}\\nAuthor: {df_cont['author'][0]}\")"
   ]
  }
 ],
 "metadata": {
  "kernelspec": {
   "display_name": "Python 3",
   "language": "python",
   "name": "python3"
  },
  "language_info": {
   "codemirror_mode": {
    "name": "ipython",
    "version": 3
   },
   "file_extension": ".py",
   "mimetype": "text/x-python",
   "name": "python",
   "nbconvert_exporter": "python",
   "pygments_lexer": "ipython3",
   "version": "3.7.4"
  }
 },
 "nbformat": 4,
 "nbformat_minor": 2
}
