{
 "cells": [
  {
   "cell_type": "code",
   "execution_count": 29,
   "metadata": {},
   "outputs": [],
   "source": [
    "# change dir because notebook is in a child directory of the root directory (and does not find my modules)\n",
    "import os \n",
    "os.chdir(r'/Users/joan/code/python/jokes-app')"
   ]
  },
  {
   "cell_type": "code",
   "execution_count": 2,
   "metadata": {},
   "outputs": [],
   "source": [
    "import pandas as pd"
   ]
  },
  {
   "cell_type": "code",
   "execution_count": 3,
   "metadata": {},
   "outputs": [],
   "source": [
    "import src.api.src.db.core as db\n",
    "from src.api.src.db.secret import HOST_OVH, POSTGRES_USER, POSTGRES_PASSWORD_OVH, SCHEMA_NAME"
   ]
  },
  {
   "cell_type": "code",
   "execution_count": 4,
   "metadata": {},
   "outputs": [],
   "source": [
    "conn = db.connect(host=HOST_OVH, user=POSTGRES_USER, password=POSTGRES_PASSWORD_OVH, schema_name=SCHEMA_NAME)"
   ]
  },
  {
   "cell_type": "code",
   "execution_count": 5,
   "metadata": {},
   "outputs": [],
   "source": [
    "df = db.execute_read(conn, \"select * from users_mail\")"
   ]
  },
  {
   "cell_type": "code",
   "execution_count": 6,
   "metadata": {},
   "outputs": [],
   "source": [
    "df_created = df.groupby([df[\"created_at\"].dt.year, df[\"created_at\"].dt.month, df[\"created_at\"].dt.day]).count()"
   ]
  },
  {
   "cell_type": "code",
   "execution_count": 8,
   "metadata": {},
   "outputs": [
    {
     "data": {
      "text/plain": [
       "<matplotlib.axes._subplots.AxesSubplot at 0x118893b90>"
      ]
     },
     "execution_count": 8,
     "metadata": {},
     "output_type": "execute_result"
    },
    {
     "data": {
      "image/png": "[encoded data removed]",
      "text/plain": [
       "<Figure size 432x288 with 1 Axes>"
      ]
     },
     "metadata": {
      "needs_background": "light"
     },
     "output_type": "display_data"
    }
   ],
   "source": [
    "df.plot(x=\"created_at\", y=\"id\")"
   ]
  },
  {
   "cell_type": "code",
   "execution_count": 13,
   "metadata": {},
   "outputs": [],
   "source": [
    "df_ratings = db.execute_read(conn, \"\"\"select * from ratings where \"source\" = 'mail'\"\"\")"
   ]
  },
  {
   "cell_type": "code",
   "execution_count": 26,
   "metadata": {},
   "outputs": [
    {
     "data": {
      "text/html": [
       "<div>\n",
       "<style scoped>\n",
       "    .dataframe tbody tr th:only-of-type {\n",
       "        vertical-align: middle;\n",
       "    }\n",
       "\n",
       "    .dataframe tbody tr th {\n",
       "        vertical-align: top;\n",
       "    }\n",
       "\n",
       "    .dataframe thead th {\n",
       "        text-align: right;\n",
       "    }\n",
       "</style>\n",
       "<table border=\"1\" class=\"dataframe\">\n",
       "  <thead>\n",
       "    <tr style=\"text-align: right;\">\n",
       "      <th></th>\n",
       "      <th>id</th>\n",
       "      <th>user_id</th>\n",
       "      <th>joke_id</th>\n",
       "      <th>rating</th>\n",
       "      <th>created_at</th>\n",
       "      <th>source</th>\n",
       "      <th>day</th>\n",
       "    </tr>\n",
       "  </thead>\n",
       "  <tbody>\n",
       "    <tr>\n",
       "      <td>7</td>\n",
       "      <td>174</td>\n",
       "      <td>348ce440-e9f4-11e9-bee9-784f43816789</td>\n",
       "      <td>164</td>\n",
       "      <td>7.5</td>\n",
       "      <td>2019-10-21 05:33:45.010631</td>\n",
       "      <td>mail</td>\n",
       "      <td>2019-10-21</td>\n",
       "    </tr>\n",
       "    <tr>\n",
       "      <td>8</td>\n",
       "      <td>175</td>\n",
       "      <td>cef6b0a6-ef4e-11e9-823c-0242ac150002</td>\n",
       "      <td>164</td>\n",
       "      <td>0.0</td>\n",
       "      <td>2019-10-21 05:51:06.842539</td>\n",
       "      <td>mail</td>\n",
       "      <td>2019-10-21</td>\n",
       "    </tr>\n",
       "    <tr>\n",
       "      <td>9</td>\n",
       "      <td>176</td>\n",
       "      <td>cef6b0a6-ef4e-11e9-823c-0242ac150002</td>\n",
       "      <td>25</td>\n",
       "      <td>0.0</td>\n",
       "      <td>2019-10-22 05:48:16.174837</td>\n",
       "      <td>mail</td>\n",
       "      <td>2019-10-22</td>\n",
       "    </tr>\n",
       "    <tr>\n",
       "      <td>10</td>\n",
       "      <td>177</td>\n",
       "      <td>348ce440-e9f4-11e9-bee9-784f43816789</td>\n",
       "      <td>25</td>\n",
       "      <td>10.0</td>\n",
       "      <td>2019-10-22 05:52:16.872670</td>\n",
       "      <td>mail</td>\n",
       "      <td>2019-10-22</td>\n",
       "    </tr>\n",
       "    <tr>\n",
       "      <td>11</td>\n",
       "      <td>178</td>\n",
       "      <td>348ce440-e9f4-11e9-bee9-784f43816789</td>\n",
       "      <td>221</td>\n",
       "      <td>7.5</td>\n",
       "      <td>2019-10-23 14:11:35.883494</td>\n",
       "      <td>mail</td>\n",
       "      <td>2019-10-23</td>\n",
       "    </tr>\n",
       "    <tr>\n",
       "      <td>12</td>\n",
       "      <td>180</td>\n",
       "      <td>adde0932-ef4e-11e9-823c-0242ac150002</td>\n",
       "      <td>221</td>\n",
       "      <td>2.5</td>\n",
       "      <td>2019-10-23 14:13:26.556646</td>\n",
       "      <td>mail</td>\n",
       "      <td>2019-10-23</td>\n",
       "    </tr>\n",
       "    <tr>\n",
       "      <td>13</td>\n",
       "      <td>182</td>\n",
       "      <td>cef6b0a6-ef4e-11e9-823c-0242ac150002</td>\n",
       "      <td>221</td>\n",
       "      <td>2.5</td>\n",
       "      <td>2019-10-24 05:58:49.763231</td>\n",
       "      <td>mail</td>\n",
       "      <td>2019-10-24</td>\n",
       "    </tr>\n",
       "    <tr>\n",
       "      <td>14</td>\n",
       "      <td>183</td>\n",
       "      <td>348ce440-e9f4-11e9-bee9-784f43816789</td>\n",
       "      <td>184</td>\n",
       "      <td>7.5</td>\n",
       "      <td>2019-10-24 06:43:05.099364</td>\n",
       "      <td>mail</td>\n",
       "      <td>2019-10-24</td>\n",
       "    </tr>\n",
       "    <tr>\n",
       "      <td>15</td>\n",
       "      <td>185</td>\n",
       "      <td>c1cca0a2-f624-11e9-ab26-0242ac1a0002</td>\n",
       "      <td>184</td>\n",
       "      <td>5.0</td>\n",
       "      <td>2019-10-24 07:12:38.975073</td>\n",
       "      <td>mail</td>\n",
       "      <td>2019-10-24</td>\n",
       "    </tr>\n",
       "    <tr>\n",
       "      <td>16</td>\n",
       "      <td>186</td>\n",
       "      <td>90ed9e40-f59e-11e9-ab26-0242ac1a0002</td>\n",
       "      <td>184</td>\n",
       "      <td>7.5</td>\n",
       "      <td>2019-10-24 07:50:39.012828</td>\n",
       "      <td>mail</td>\n",
       "      <td>2019-10-24</td>\n",
       "    </tr>\n",
       "  </tbody>\n",
       "</table>\n",
       "</div>"
      ],
      "text/plain": [
       "     id                               user_id  joke_id  rating  \\\n",
       "7   174  348ce440-e9f4-11e9-bee9-784f43816789      164     7.5   \n",
       "8   175  cef6b0a6-ef4e-11e9-823c-0242ac150002      164     0.0   \n",
       "9   176  cef6b0a6-ef4e-11e9-823c-0242ac150002       25     0.0   \n",
       "10  177  348ce440-e9f4-11e9-bee9-784f43816789       25    10.0   \n",
       "11  178  348ce440-e9f4-11e9-bee9-784f43816789      221     7.5   \n",
       "12  180  adde0932-ef4e-11e9-823c-0242ac150002      221     2.5   \n",
       "13  182  cef6b0a6-ef4e-11e9-823c-0242ac150002      221     2.5   \n",
       "14  183  348ce440-e9f4-11e9-bee9-784f43816789      184     7.5   \n",
       "15  185  c1cca0a2-f624-11e9-ab26-0242ac1a0002      184     5.0   \n",
       "16  186  90ed9e40-f59e-11e9-ab26-0242ac1a0002      184     7.5   \n",
       "\n",
       "                   created_at source         day  \n",
       "7  2019-10-21 05:33:45.010631   mail  2019-10-21  \n",
       "8  2019-10-21 05:51:06.842539   mail  2019-10-21  \n",
       "9  2019-10-22 05:48:16.174837   mail  2019-10-22  \n",
       "10 2019-10-22 05:52:16.872670   mail  2019-10-22  \n",
       "11 2019-10-23 14:11:35.883494   mail  2019-10-23  \n",
       "12 2019-10-23 14:13:26.556646   mail  2019-10-23  \n",
       "13 2019-10-24 05:58:49.763231   mail  2019-10-24  \n",
       "14 2019-10-24 06:43:05.099364   mail  2019-10-24  \n",
       "15 2019-10-24 07:12:38.975073   mail  2019-10-24  \n",
       "16 2019-10-24 07:50:39.012828   mail  2019-10-24  "
      ]
     },
     "execution_count": 26,
     "metadata": {},
     "output_type": "execute_result"
    }
   ],
   "source": [
    "df_ratings.tail(10)"
   ]
  },
  {
   "cell_type": "code",
   "execution_count": 27,
   "metadata": {},
   "outputs": [
    {
     "data": {
      "text/plain": [
       "<matplotlib.axes._subplots.AxesSubplot at 0x11dbb4650>"
      ]
     },
     "execution_count": 27,
     "metadata": {},
     "output_type": "execute_result"
    },
    {
     "data": {
      "image/png": "[encoded data removed]",
      "text/plain": [
       "<Figure size 432x288 with 1 Axes>"
      ]
     },
     "metadata": {
      "needs_background": "light"
     },
     "output_type": "display_data"
    }
   ],
   "source": [
    "df_ratings[\"day\"] = df_ratings[\"created_at\"].dt.strftime('%Y-%m-%d')\n",
    "df_ratings.groupby([\"day\", \"joke_id\"])[\"rating\"].mean().plot.bar(x=\"day\", y=\"rating\")"
   ]
  },
  {
   "cell_type": "code",
   "execution_count": 28,
   "metadata": {},
   "outputs": [
    {
     "data": {
      "text/plain": [
       "<matplotlib.axes._subplots.AxesSubplot at 0x11dccf590>"
      ]
     },
     "execution_count": 28,
     "metadata": {},
     "output_type": "execute_result"
    },
    {
     "data": {
      "image/png": "[encoded data removed]",
      "text/plain": [
       "<Figure size 432x288 with 1 Axes>"
      ]
     },
     "metadata": {
      "needs_background": "light"
     },
     "output_type": "display_data"
    }
   ],
   "source": [
    "df_ratings.groupby([\"day\", \"joke_id\"])[\"rating\"].std().plot.bar(x=\"day\", y=\"rating\")"
   ]
  },
  {
   "cell_type": "code",
   "execution_count": null,
   "metadata": {},
   "outputs": [],
   "source": []
  }
 ],
 "metadata": {
  "kernelspec": {
   "display_name": "Python 3",
   "language": "python",
   "name": "python3"
  },
  "language_info": {
   "codemirror_mode": {
    "name": "ipython",
    "version": 3
   },
   "file_extension": ".py",
   "mimetype": "text/x-python",
   "name": "python",
   "nbconvert_exporter": "python",
   "pygments_lexer": "ipython3",
   "version": "3.7.4"
  }
 },
 "nbformat": 4,
 "nbformat_minor": 2
}
