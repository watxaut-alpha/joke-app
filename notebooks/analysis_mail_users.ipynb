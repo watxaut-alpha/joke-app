{
 "cells": [
  {
   "cell_type": "code",
   "execution_count": 1,
   "metadata": {},
   "outputs": [],
   "source": [
    "# change dir because notebook is in a child directory of the root directory (and does not find my modules)\n",
    "import os \n",
    "try:\n",
    "    os.chdir(r'/Users/joan/code/python/jokes-app')\n",
    "except FileNotFoundError:\n",
    "    os.chdir(r'/home/repos/joke-app')"
   ]
  },
  {
   "cell_type": "code",
   "execution_count": 2,
   "metadata": {},
   "outputs": [],
   "source": [
    "import pandas as pd\n",
    "import matplotlib.pyplot as plt"
   ]
  },
  {
   "cell_type": "code",
   "execution_count": 3,
   "metadata": {},
   "outputs": [],
   "source": [
    "import src.api.src.db.core as db\n",
    "try:\n",
    "    from src.api.src.db.secret import (\n",
    "        HOST_OVH as HOST, \n",
    "        POSTGRES_USER, \n",
    "        POSTGRES_PASSWORD_OVH as POSTGRES_PASSWORD, \n",
    "        SCHEMA_NAME\n",
    "    )\n",
    "except ImportError:\n",
    "    from src.api.src.db.secret import HOST, POSTGRES_USER, POSTGRES_PASSWORD, SCHEMA_NAME"
   ]
  },
  {
   "cell_type": "markdown",
   "metadata": {},
   "source": [
    "### Get connection to Postgres DB"
   ]
  },
  {
   "cell_type": "code",
   "execution_count": 4,
   "metadata": {},
   "outputs": [],
   "source": [
    "conn = db.connect(host=HOST, user=POSTGRES_USER, password=POSTGRES_PASSWORD, schema_name=SCHEMA_NAME)"
   ]
  },
  {
   "cell_type": "markdown",
   "metadata": {},
   "source": [
    "### Get Number of subscribed users and unsubscribed users"
   ]
  },
  {
   "cell_type": "code",
   "execution_count": 5,
   "metadata": {},
   "outputs": [],
   "source": [
    "df = db.execute_read(conn, \"select * from users_mail\")"
   ]
  },
  {
   "cell_type": "code",
   "execution_count": 6,
   "metadata": {},
   "outputs": [],
   "source": [
    "n_subbed = df[\"deleted_at\"].isna().sum()\n",
    "n_unsubbed = len(df) - n_subbed"
   ]
  },
  {
   "cell_type": "code",
   "execution_count": 7,
   "metadata": {},
   "outputs": [
    {
     "data": {
      "image/png": "[encoded data removed]",
      "text/plain": [
       "<Figure size 432x288 with 1 Axes>"
      ]
     },
     "metadata": {
      "needs_background": "light"
     },
     "output_type": "display_data"
    }
   ],
   "source": [
    "fig = plt.figure()\n",
    "ax = fig.add_axes([0,0,1,1])\n",
    "l_bars = ['Subscribed', 'Unsubscribed']\n",
    "ax.bar(l_bars, [n_subbed, n_unsubbed])\n",
    "plt.show()"
   ]
  },
  {
   "cell_type": "markdown",
   "metadata": {},
   "source": [
    "### Top 10 Joke reviewers"
   ]
  },
  {
   "cell_type": "code",
   "execution_count": 8,
   "metadata": {},
   "outputs": [],
   "source": [
    "df_mean_user = db.execute_read(conn, \"\"\"\n",
    "select \n",
    "\tum.email, avg(r.rating), count(r)\n",
    "from \n",
    "\tratings as r\n",
    "left join users_mail as um\n",
    "on (r.user_id = um.id_hash)\n",
    "where \"source\" = 'mail' and um.email is not null\n",
    "group by um.email\n",
    "order by count(r.rating) desc\n",
    "\"\"\")"
   ]
  },
  {
   "cell_type": "code",
   "execution_count": 23,
   "metadata": {},
   "outputs": [
    {
     "data": {
      "text/html": [
       "<div>\n",
       "<style scoped>\n",
       "    .dataframe tbody tr th:only-of-type {\n",
       "        vertical-align: middle;\n",
       "    }\n",
       "\n",
       "    .dataframe tbody tr th {\n",
       "        vertical-align: top;\n",
       "    }\n",
       "\n",
       "    .dataframe thead th {\n",
       "        text-align: right;\n",
       "    }\n",
       "</style>\n",
       "<table border=\"1\" class=\"dataframe\">\n",
       "  <thead>\n",
       "    <tr style=\"text-align: right;\">\n",
       "      <th></th>\n",
       "      <th>email</th>\n",
       "      <th>avg</th>\n",
       "      <th>count</th>\n",
       "    </tr>\n",
       "  </thead>\n",
       "  <tbody>\n",
       "    <tr>\n",
       "      <th>0</th>\n",
       "      <td>watxaut@gmail.com</td>\n",
       "      <td>6.785714</td>\n",
       "      <td>21</td>\n",
       "    </tr>\n",
       "    <tr>\n",
       "      <th>1</th>\n",
       "      <td>irene.chausse@mosaicfactor.com</td>\n",
       "      <td>5.166667</td>\n",
       "      <td>15</td>\n",
       "    </tr>\n",
       "    <tr>\n",
       "      <th>2</th>\n",
       "      <td>antoni.martinezlopez@ficosa.com</td>\n",
       "      <td>3.214286</td>\n",
       "      <td>14</td>\n",
       "    </tr>\n",
       "    <tr>\n",
       "      <th>3</th>\n",
       "      <td>jaime.conde@ficosa.com</td>\n",
       "      <td>2.000000</td>\n",
       "      <td>10</td>\n",
       "    </tr>\n",
       "    <tr>\n",
       "      <th>4</th>\n",
       "      <td>18mariaff@gmail.com</td>\n",
       "      <td>6.000000</td>\n",
       "      <td>10</td>\n",
       "    </tr>\n",
       "    <tr>\n",
       "      <th>5</th>\n",
       "      <td>adria.hr@gmail.com</td>\n",
       "      <td>2.916667</td>\n",
       "      <td>6</td>\n",
       "    </tr>\n",
       "    <tr>\n",
       "      <th>6</th>\n",
       "      <td>guillem.mcid@gmail.com</td>\n",
       "      <td>6.666667</td>\n",
       "      <td>6</td>\n",
       "    </tr>\n",
       "    <tr>\n",
       "      <th>7</th>\n",
       "      <td>Extern.javier.gris@seat.es</td>\n",
       "      <td>5.833333</td>\n",
       "      <td>6</td>\n",
       "    </tr>\n",
       "    <tr>\n",
       "      <th>8</th>\n",
       "      <td>alex.colomer.puig@gmail.com</td>\n",
       "      <td>4.166667</td>\n",
       "      <td>6</td>\n",
       "    </tr>\n",
       "    <tr>\n",
       "      <th>9</th>\n",
       "      <td>Javier.heras@volkswagen-groupservices.com</td>\n",
       "      <td>5.000000</td>\n",
       "      <td>6</td>\n",
       "    </tr>\n",
       "    <tr>\n",
       "      <th>10</th>\n",
       "      <td>neuscuadernpuig@gmail.com</td>\n",
       "      <td>9.166667</td>\n",
       "      <td>3</td>\n",
       "    </tr>\n",
       "    <tr>\n",
       "      <th>11</th>\n",
       "      <td>marccampmanygarcia@gmail.com</td>\n",
       "      <td>1.666667</td>\n",
       "      <td>3</td>\n",
       "    </tr>\n",
       "    <tr>\n",
       "      <th>12</th>\n",
       "      <td>leireberrocal6@gmail.com</td>\n",
       "      <td>6.250000</td>\n",
       "      <td>2</td>\n",
       "    </tr>\n",
       "    <tr>\n",
       "      <th>13</th>\n",
       "      <td>Miquel.regidor93@gmail.com</td>\n",
       "      <td>5.000000</td>\n",
       "      <td>2</td>\n",
       "    </tr>\n",
       "    <tr>\n",
       "      <th>14</th>\n",
       "      <td>bcocamarin@gmail.com</td>\n",
       "      <td>6.250000</td>\n",
       "      <td>2</td>\n",
       "    </tr>\n",
       "  </tbody>\n",
       "</table>\n",
       "</div>"
      ],
      "text/plain": [
       "                                        email       avg  count\n",
       "0                           watxaut@gmail.com  6.785714     21\n",
       "1              irene.chausse@mosaicfactor.com  5.166667     15\n",
       "2             antoni.martinezlopez@ficosa.com  3.214286     14\n",
       "3                      jaime.conde@ficosa.com  2.000000     10\n",
       "4                         18mariaff@gmail.com  6.000000     10\n",
       "5                          adria.hr@gmail.com  2.916667      6\n",
       "6                      guillem.mcid@gmail.com  6.666667      6\n",
       "7                  Extern.javier.gris@seat.es  5.833333      6\n",
       "8                 alex.colomer.puig@gmail.com  4.166667      6\n",
       "9   Javier.heras@volkswagen-groupservices.com  5.000000      6\n",
       "10                  neuscuadernpuig@gmail.com  9.166667      3\n",
       "11               marccampmanygarcia@gmail.com  1.666667      3\n",
       "12                   leireberrocal6@gmail.com  6.250000      2\n",
       "13                 Miquel.regidor93@gmail.com  5.000000      2\n",
       "14                       bcocamarin@gmail.com  6.250000      2"
      ]
     },
     "execution_count": 23,
     "metadata": {},
     "output_type": "execute_result"
    }
   ],
   "source": [
    "df_mean_user.head(20)"
   ]
  },
  {
   "cell_type": "code",
   "execution_count": 34,
   "metadata": {},
   "outputs": [
    {
     "name": "stdout",
     "output_type": "stream",
     "text": [
      "Most Cheerleader: 'neuscuadernpuig@gmail.com'\n",
      "Most Hater: 'marccampmanygarcia@gmail.com'\n"
     ]
    }
   ],
   "source": [
    "most_not_hater = df_mean_user[\"email\"].iloc[df_mean_user[\"avg\"].idxmax()]\n",
    "most_hater = df_mean_user[\"email\"].iloc[df_mean_user[\"avg\"].idxmin()]\n",
    "print(\"Most Cheerleader: '{}'\\nMost Hater: '{}'\".format(most_not_hater, most_hater))"
   ]
  },
  {
   "cell_type": "markdown",
   "metadata": {},
   "source": [
    "### AVG joke rating per user"
   ]
  },
  {
   "cell_type": "code",
   "execution_count": 11,
   "metadata": {},
   "outputs": [
    {
     "data": {
      "text/plain": [
       "<matplotlib.axes._subplots.AxesSubplot at 0x11ad73510>"
      ]
     },
     "execution_count": 11,
     "metadata": {},
     "output_type": "execute_result"
    },
    {
     "data": {
      "image/png": "[encoded data removed]",
      "text/plain": [
       "<Figure size 432x288 with 1 Axes>"
      ]
     },
     "metadata": {
      "needs_background": "light"
     },
     "output_type": "display_data"
    }
   ],
   "source": [
    "df_mean_user.head(20).plot.bar(x=\"email\", y=\"avg\")"
   ]
  },
  {
   "cell_type": "markdown",
   "metadata": {},
   "source": [
    "### Rating Statistics"
   ]
  },
  {
   "cell_type": "code",
   "execution_count": 17,
   "metadata": {},
   "outputs": [],
   "source": [
    "sql = \"\"\"\n",
    "select \n",
    "\tsj.joke_id, r.rating, sj.created_at, r.created_at as voted_at\n",
    "from\n",
    "\tsent_jokes as sj\n",
    "left join \n",
    "\tratings as r\n",
    "on \n",
    "\t(r.joke_id = sj.joke_id)\n",
    "where \n",
    "\tr.\"source\" = 'mail'\n",
    "\"\"\"\n",
    "df_ratings = db.execute_read(conn, sql)"
   ]
  },
  {
   "cell_type": "markdown",
   "metadata": {},
   "source": [
    "#### Get last 10 ratings"
   ]
  },
  {
   "cell_type": "code",
   "execution_count": 18,
   "metadata": {},
   "outputs": [
    {
     "data": {
      "text/html": [
       "<div>\n",
       "<style scoped>\n",
       "    .dataframe tbody tr th:only-of-type {\n",
       "        vertical-align: middle;\n",
       "    }\n",
       "\n",
       "    .dataframe tbody tr th {\n",
       "        vertical-align: top;\n",
       "    }\n",
       "\n",
       "    .dataframe thead th {\n",
       "        text-align: right;\n",
       "    }\n",
       "</style>\n",
       "<table border=\"1\" class=\"dataframe\">\n",
       "  <thead>\n",
       "    <tr style=\"text-align: right;\">\n",
       "      <th></th>\n",
       "      <th>joke_id</th>\n",
       "      <th>rating</th>\n",
       "      <th>created_at</th>\n",
       "      <th>voted_at</th>\n",
       "    </tr>\n",
       "  </thead>\n",
       "  <tbody>\n",
       "    <tr>\n",
       "      <th>97</th>\n",
       "      <td>1002</td>\n",
       "      <td>0.0</td>\n",
       "      <td>2019-11-12 08:30:24.086916</td>\n",
       "      <td>2019-11-12 07:30:21.323465</td>\n",
       "    </tr>\n",
       "    <tr>\n",
       "      <th>98</th>\n",
       "      <td>1002</td>\n",
       "      <td>5.0</td>\n",
       "      <td>2019-11-12 08:30:24.086916</td>\n",
       "      <td>2019-11-12 07:31:18.314594</td>\n",
       "    </tr>\n",
       "    <tr>\n",
       "      <th>99</th>\n",
       "      <td>1002</td>\n",
       "      <td>7.5</td>\n",
       "      <td>2019-11-12 08:30:24.086916</td>\n",
       "      <td>2019-11-12 07:30:21.820252</td>\n",
       "    </tr>\n",
       "    <tr>\n",
       "      <th>100</th>\n",
       "      <td>556</td>\n",
       "      <td>5.0</td>\n",
       "      <td>2019-11-13 08:30:25.447518</td>\n",
       "      <td>2019-11-13 07:35:24.109028</td>\n",
       "    </tr>\n",
       "    <tr>\n",
       "      <th>101</th>\n",
       "      <td>556</td>\n",
       "      <td>7.5</td>\n",
       "      <td>2019-11-13 08:30:25.447518</td>\n",
       "      <td>2019-11-13 11:14:03.994035</td>\n",
       "    </tr>\n",
       "    <tr>\n",
       "      <th>102</th>\n",
       "      <td>556</td>\n",
       "      <td>0.0</td>\n",
       "      <td>2019-11-13 08:30:25.447518</td>\n",
       "      <td>2019-11-13 10:27:57.274391</td>\n",
       "    </tr>\n",
       "    <tr>\n",
       "      <th>103</th>\n",
       "      <td>556</td>\n",
       "      <td>0.0</td>\n",
       "      <td>2019-11-13 08:30:25.447518</td>\n",
       "      <td>2019-11-13 10:16:06.327664</td>\n",
       "    </tr>\n",
       "    <tr>\n",
       "      <th>104</th>\n",
       "      <td>556</td>\n",
       "      <td>0.0</td>\n",
       "      <td>2019-11-13 08:30:25.447518</td>\n",
       "      <td>2019-11-13 08:21:55.818447</td>\n",
       "    </tr>\n",
       "    <tr>\n",
       "      <th>105</th>\n",
       "      <td>556</td>\n",
       "      <td>5.0</td>\n",
       "      <td>2019-11-13 08:30:25.447518</td>\n",
       "      <td>2019-11-13 08:13:50.577036</td>\n",
       "    </tr>\n",
       "    <tr>\n",
       "      <th>106</th>\n",
       "      <td>556</td>\n",
       "      <td>0.0</td>\n",
       "      <td>2019-11-13 08:30:25.447518</td>\n",
       "      <td>2019-11-13 08:09:44.835753</td>\n",
       "    </tr>\n",
       "    <tr>\n",
       "      <th>107</th>\n",
       "      <td>556</td>\n",
       "      <td>2.5</td>\n",
       "      <td>2019-11-13 08:30:25.447518</td>\n",
       "      <td>2019-11-13 07:30:24.715724</td>\n",
       "    </tr>\n",
       "    <tr>\n",
       "      <th>108</th>\n",
       "      <td>556</td>\n",
       "      <td>7.5</td>\n",
       "      <td>2019-11-13 08:30:25.447518</td>\n",
       "      <td>2019-11-13 07:51:33.345198</td>\n",
       "    </tr>\n",
       "    <tr>\n",
       "      <th>109</th>\n",
       "      <td>556</td>\n",
       "      <td>0.0</td>\n",
       "      <td>2019-11-13 08:30:25.447518</td>\n",
       "      <td>2019-11-13 07:36:30.705794</td>\n",
       "    </tr>\n",
       "    <tr>\n",
       "      <th>110</th>\n",
       "      <td>556</td>\n",
       "      <td>2.5</td>\n",
       "      <td>2019-11-13 08:30:25.447518</td>\n",
       "      <td>2019-11-13 07:30:26.229753</td>\n",
       "    </tr>\n",
       "    <tr>\n",
       "      <th>111</th>\n",
       "      <td>556</td>\n",
       "      <td>10.0</td>\n",
       "      <td>2019-11-13 08:30:25.447518</td>\n",
       "      <td>2019-11-13 07:32:48.204457</td>\n",
       "    </tr>\n",
       "  </tbody>\n",
       "</table>\n",
       "</div>"
      ],
      "text/plain": [
       "     joke_id  rating                 created_at                   voted_at\n",
       "97      1002     0.0 2019-11-12 08:30:24.086916 2019-11-12 07:30:21.323465\n",
       "98      1002     5.0 2019-11-12 08:30:24.086916 2019-11-12 07:31:18.314594\n",
       "99      1002     7.5 2019-11-12 08:30:24.086916 2019-11-12 07:30:21.820252\n",
       "100      556     5.0 2019-11-13 08:30:25.447518 2019-11-13 07:35:24.109028\n",
       "101      556     7.5 2019-11-13 08:30:25.447518 2019-11-13 11:14:03.994035\n",
       "102      556     0.0 2019-11-13 08:30:25.447518 2019-11-13 10:27:57.274391\n",
       "103      556     0.0 2019-11-13 08:30:25.447518 2019-11-13 10:16:06.327664\n",
       "104      556     0.0 2019-11-13 08:30:25.447518 2019-11-13 08:21:55.818447\n",
       "105      556     5.0 2019-11-13 08:30:25.447518 2019-11-13 08:13:50.577036\n",
       "106      556     0.0 2019-11-13 08:30:25.447518 2019-11-13 08:09:44.835753\n",
       "107      556     2.5 2019-11-13 08:30:25.447518 2019-11-13 07:30:24.715724\n",
       "108      556     7.5 2019-11-13 08:30:25.447518 2019-11-13 07:51:33.345198\n",
       "109      556     0.0 2019-11-13 08:30:25.447518 2019-11-13 07:36:30.705794\n",
       "110      556     2.5 2019-11-13 08:30:25.447518 2019-11-13 07:30:26.229753\n",
       "111      556    10.0 2019-11-13 08:30:25.447518 2019-11-13 07:32:48.204457"
      ]
     },
     "execution_count": 18,
     "metadata": {},
     "output_type": "execute_result"
    }
   ],
   "source": [
    "df_ratings.tail(15)"
   ]
  },
  {
   "cell_type": "markdown",
   "metadata": {},
   "source": [
    "### Get mean of ratings by joke and day"
   ]
  },
  {
   "cell_type": "code",
   "execution_count": 19,
   "metadata": {},
   "outputs": [
    {
     "data": {
      "text/plain": [
       "<matplotlib.axes._subplots.AxesSubplot at 0x11d101d50>"
      ]
     },
     "execution_count": 19,
     "metadata": {},
     "output_type": "execute_result"
    },
    {
     "data": {
      "image/png": "[encoded data removed]",
      "text/plain": [
       "<Figure size 432x288 with 1 Axes>"
      ]
     },
     "metadata": {
      "needs_background": "light"
     },
     "output_type": "display_data"
    }
   ],
   "source": [
    "df_ratings[\"day\"] = df_ratings[\"created_at\"].dt.strftime('%Y-%m-%d')\n",
    "df_ratings.groupby([\"day\", \"joke_id\"])[\"rating\"].mean().plot.bar(x=\"day\", y=\"rating\")"
   ]
  },
  {
   "cell_type": "markdown",
   "metadata": {},
   "source": [
    "### Get Std Deviation of ratings by joke and day"
   ]
  },
  {
   "cell_type": "code",
   "execution_count": 20,
   "metadata": {},
   "outputs": [
    {
     "data": {
      "text/plain": [
       "<matplotlib.axes._subplots.AxesSubplot at 0x11d2b4b10>"
      ]
     },
     "execution_count": 20,
     "metadata": {},
     "output_type": "execute_result"
    },
    {
     "data": {
      "image/png": "[encoded data removed]",
      "text/plain": [
       "<Figure size 432x288 with 1 Axes>"
      ]
     },
     "metadata": {
      "needs_background": "light"
     },
     "output_type": "display_data"
    }
   ],
   "source": [
    "df_ratings.groupby([\"day\", \"joke_id\"])[\"rating\"].std().plot.bar(x=\"day\", y=\"rating\")"
   ]
  }
 ],
 "metadata": {
  "kernelspec": {
   "display_name": "Python 3",
   "language": "python",
   "name": "python3"
  },
  "language_info": {
   "codemirror_mode": {
    "name": "ipython",
    "version": 3
   },
   "file_extension": ".py",
   "mimetype": "text/x-python",
   "name": "python",
   "nbconvert_exporter": "python",
   "pygments_lexer": "ipython3",
   "version": "3.7.4"
  }
 },
 "nbformat": 4,
 "nbformat_minor": 2
}
