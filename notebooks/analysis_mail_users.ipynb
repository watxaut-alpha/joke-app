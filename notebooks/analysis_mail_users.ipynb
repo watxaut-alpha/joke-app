{
 "cells": [
  {
   "cell_type": "code",
   "execution_count": 1,
   "metadata": {},
   "outputs": [],
   "source": [
    "# change dir because notebook is in a child directory of the root directory (and does not find my modules)\n",
    "import os \n",
    "try:\n",
    "    os.chdir(r'/Users/joan/code/python/jokes-app/src/api')\n",
    "except FileNotFoundError:\n",
    "    os.chdir(r'/home/repos/joke-app/src/api')"
   ]
  },
  {
   "cell_type": "code",
   "execution_count": 2,
   "metadata": {},
   "outputs": [],
   "source": [
    "import dotenv\n",
    "dotenv.load_dotenv(dotenv_path=\"/Users/joan/code/python/jokes-app/config/env-api.env\")\n",
    "from src.config import HOST as DB_HOST, POSTGRES_USER, POSTGRES_PASSWORD, SCHEMA_NAME"
   ]
  },
  {
   "cell_type": "code",
   "execution_count": 3,
   "metadata": {},
   "outputs": [],
   "source": [
    "import pandas as pd\n",
    "import matplotlib.pyplot as plt"
   ]
  },
  {
   "cell_type": "code",
   "execution_count": 4,
   "metadata": {},
   "outputs": [],
   "source": [
    "import src.db.core as db"
   ]
  },
  {
   "cell_type": "markdown",
   "metadata": {},
   "source": [
    "### Get connection to Postgres DB"
   ]
  },
  {
   "cell_type": "code",
   "execution_count": 5,
   "metadata": {},
   "outputs": [],
   "source": [
    "conn = db.connect(host=DB_HOST, user=POSTGRES_USER, password=POSTGRES_PASSWORD, schema_name=SCHEMA_NAME)"
   ]
  },
  {
   "cell_type": "markdown",
   "metadata": {},
   "source": [
    "# USERS"
   ]
  },
  {
   "cell_type": "markdown",
   "metadata": {},
   "source": [
    "### Get Number of subscribed users and unsubscribed users"
   ]
  },
  {
   "cell_type": "code",
   "execution_count": 6,
   "metadata": {},
   "outputs": [],
   "source": [
    "df = db.execute_read(conn, \"select * from users_mail\")"
   ]
  },
  {
   "cell_type": "code",
   "execution_count": 7,
   "metadata": {},
   "outputs": [],
   "source": [
    "n_subbed = df[\"deleted_at\"].isna().sum()\n",
    "n_unsubbed = len(df) - n_subbed"
   ]
  },
  {
   "cell_type": "code",
   "execution_count": 8,
   "metadata": {},
   "outputs": [
    {
     "data": {
      "image/png": "[encoded data removed]",
      "text/plain": [
       "<Figure size 432x288 with 1 Axes>"
      ]
     },
     "metadata": {
      "needs_background": "light"
     },
     "output_type": "display_data"
    }
   ],
   "source": [
    "fig = plt.figure()\n",
    "ax = fig.add_axes([0,0,1,1])\n",
    "l_bars = ['Subscribed', 'Unsubscribed']\n",
    "ax.bar(l_bars, [n_subbed, n_unsubbed])\n",
    "plt.show()"
   ]
  },
  {
   "cell_type": "markdown",
   "metadata": {},
   "source": [
    "### Top 10 Joke reviewers"
   ]
  },
  {
   "cell_type": "code",
   "execution_count": 9,
   "metadata": {},
   "outputs": [],
   "source": [
    "df_mean_user = db.execute_read(conn, \"\"\"\n",
    "select \n",
    "\tum.email, avg(r.rating), count(r)\n",
    "from \n",
    "\tratings as r\n",
    "left join users_mail as um\n",
    "on (r.user_id = um.id_hash)\n",
    "where \"source\" = 'mail' and um.email is not null\n",
    "group by um.email\n",
    "order by count(r.rating) desc\n",
    "\"\"\")"
   ]
  },
  {
   "cell_type": "code",
   "execution_count": 10,
   "metadata": {
    "scrolled": false
   },
   "outputs": [
    {
     "data": {
      "text/html": [
       "<div>\n",
       "<style scoped>\n",
       "    .dataframe tbody tr th:only-of-type {\n",
       "        vertical-align: middle;\n",
       "    }\n",
       "\n",
       "    .dataframe tbody tr th {\n",
       "        vertical-align: top;\n",
       "    }\n",
       "\n",
       "    .dataframe thead th {\n",
       "        text-align: right;\n",
       "    }\n",
       "</style>\n",
       "<table border=\"1\" class=\"dataframe\">\n",
       "  <thead>\n",
       "    <tr style=\"text-align: right;\">\n",
       "      <th></th>\n",
       "      <th>email</th>\n",
       "      <th>avg</th>\n",
       "      <th>count</th>\n",
       "    </tr>\n",
       "  </thead>\n",
       "  <tbody>\n",
       "    <tr>\n",
       "      <td>0</td>\n",
       "      <td>watxaut@gmail.com</td>\n",
       "      <td>7.065217</td>\n",
       "      <td>46</td>\n",
       "    </tr>\n",
       "  </tbody>\n",
       "</table>\n",
       "</div>"
      ],
      "text/plain": [
       "               email       avg  count\n",
       "0  watxaut@gmail.com  7.065217     46"
      ]
     },
     "execution_count": 10,
     "metadata": {},
     "output_type": "execute_result"
    }
   ],
   "source": [
    "df_mean_user.head(20)"
   ]
  },
  {
   "cell_type": "markdown",
   "metadata": {},
   "source": [
    "## TOP 5 Most Haters (min 5 reviews)"
   ]
  },
  {
   "cell_type": "code",
   "execution_count": 11,
   "metadata": {},
   "outputs": [
    {
     "data": {
      "text/html": [
       "<div>\n",
       "<style scoped>\n",
       "    .dataframe tbody tr th:only-of-type {\n",
       "        vertical-align: middle;\n",
       "    }\n",
       "\n",
       "    .dataframe tbody tr th {\n",
       "        vertical-align: top;\n",
       "    }\n",
       "\n",
       "    .dataframe thead th {\n",
       "        text-align: right;\n",
       "    }\n",
       "</style>\n",
       "<table border=\"1\" class=\"dataframe\">\n",
       "  <thead>\n",
       "    <tr style=\"text-align: right;\">\n",
       "      <th></th>\n",
       "      <th>email</th>\n",
       "      <th>avg</th>\n",
       "      <th>count</th>\n",
       "    </tr>\n",
       "  </thead>\n",
       "  <tbody>\n",
       "    <tr>\n",
       "      <td>0</td>\n",
       "      <td>watxaut@gmail.com</td>\n",
       "      <td>7.065217</td>\n",
       "      <td>46</td>\n",
       "    </tr>\n",
       "  </tbody>\n",
       "</table>\n",
       "</div>"
      ],
      "text/plain": [
       "               email       avg  count\n",
       "0  watxaut@gmail.com  7.065217     46"
      ]
     },
     "execution_count": 11,
     "metadata": {},
     "output_type": "execute_result"
    }
   ],
   "source": [
    "df_mean_user_min_count = df_mean_user[df_mean_user[\"count\"] >= 5]\n",
    "df_mean_user_hater = df_mean_user_min_count.sort_values(by=['avg', 'count'])\n",
    "df_mean_user_hater.head(5)"
   ]
  },
  {
   "cell_type": "markdown",
   "metadata": {},
   "source": [
    "## TOP 5 Supporters (min 5 reviews)"
   ]
  },
  {
   "cell_type": "code",
   "execution_count": 12,
   "metadata": {},
   "outputs": [
    {
     "data": {
      "text/html": [
       "<div>\n",
       "<style scoped>\n",
       "    .dataframe tbody tr th:only-of-type {\n",
       "        vertical-align: middle;\n",
       "    }\n",
       "\n",
       "    .dataframe tbody tr th {\n",
       "        vertical-align: top;\n",
       "    }\n",
       "\n",
       "    .dataframe thead th {\n",
       "        text-align: right;\n",
       "    }\n",
       "</style>\n",
       "<table border=\"1\" class=\"dataframe\">\n",
       "  <thead>\n",
       "    <tr style=\"text-align: right;\">\n",
       "      <th></th>\n",
       "      <th>email</th>\n",
       "      <th>avg</th>\n",
       "      <th>count</th>\n",
       "    </tr>\n",
       "  </thead>\n",
       "  <tbody>\n",
       "    <tr>\n",
       "      <td>0</td>\n",
       "      <td>watxaut@gmail.com</td>\n",
       "      <td>7.065217</td>\n",
       "      <td>46</td>\n",
       "    </tr>\n",
       "  </tbody>\n",
       "</table>\n",
       "</div>"
      ],
      "text/plain": [
       "               email       avg  count\n",
       "0  watxaut@gmail.com  7.065217     46"
      ]
     },
     "execution_count": 12,
     "metadata": {},
     "output_type": "execute_result"
    }
   ],
   "source": [
    "df_mean_user_supporter = df_mean_user_min_count.sort_values(by=['avg', 'count'], ascending=False)\n",
    "df_mean_user_supporter.head()"
   ]
  },
  {
   "cell_type": "markdown",
   "metadata": {},
   "source": [
    "## TOP JOKE SENDERS"
   ]
  },
  {
   "cell_type": "code",
   "execution_count": 14,
   "metadata": {},
   "outputs": [
    {
     "data": {
      "text/html": [
       "<div>\n",
       "<style scoped>\n",
       "    .dataframe tbody tr th:only-of-type {\n",
       "        vertical-align: middle;\n",
       "    }\n",
       "\n",
       "    .dataframe tbody tr th {\n",
       "        vertical-align: top;\n",
       "    }\n",
       "\n",
       "    .dataframe thead th {\n",
       "        text-align: right;\n",
       "    }\n",
       "</style>\n",
       "<table border=\"1\" class=\"dataframe\">\n",
       "  <thead>\n",
       "    <tr style=\"text-align: right;\">\n",
       "      <th></th>\n",
       "      <th>split_part</th>\n",
       "      <th>chistes_sent</th>\n",
       "    </tr>\n",
       "  </thead>\n",
       "  <tbody>\n",
       "  </tbody>\n",
       "</table>\n",
       "</div>"
      ],
      "text/plain": [
       "Empty DataFrame\n",
       "Columns: [split_part, chistes_sent]\n",
       "Index: []"
      ]
     },
     "execution_count": 14,
     "metadata": {},
     "output_type": "execute_result"
    }
   ],
   "source": [
    "sql = \"\"\"\n",
    "select \n",
    "    split_part(author_email, '@', 1), count(*) as chistes_sent \n",
    "from \n",
    "    public.jokes_to_send \n",
    "where \n",
    "    author is not null and\n",
    "    author_email is not null \n",
    "group by author_email \n",
    "order by chistes_sent desc\n",
    "\"\"\"\n",
    "df_marc_senders = db.execute_read(conn, sql)\n",
    "df_marc_senders.head(5)"
   ]
  },
  {
   "cell_type": "markdown",
   "metadata": {},
   "source": [
    "# USERS"
   ]
  },
  {
   "cell_type": "markdown",
   "metadata": {},
   "source": [
    "## AVG joke rating per user"
   ]
  },
  {
   "cell_type": "code",
   "execution_count": 15,
   "metadata": {},
   "outputs": [
    {
     "data": {
      "text/plain": [
       "<matplotlib.axes._subplots.AxesSubplot at 0x116d5f850>"
      ]
     },
     "execution_count": 15,
     "metadata": {},
     "output_type": "execute_result"
    },
    {
     "data": {
      "image/png": "[encoded data removed]",
      "text/plain": [
       "<Figure size 1008x432 with 1 Axes>"
      ]
     },
     "metadata": {
      "needs_background": "light"
     },
     "output_type": "display_data"
    }
   ],
   "source": [
    "df_mean_user.sort_values(by=['avg'], ascending=False).plot.bar(x=\"email\", y=\"avg\", figsize=(14, 6))"
   ]
  },
  {
   "cell_type": "markdown",
   "metadata": {},
   "source": [
    "### Rating Statistics"
   ]
  },
  {
   "cell_type": "code",
   "execution_count": 16,
   "metadata": {},
   "outputs": [],
   "source": [
    "sql = \"\"\"\n",
    "select \n",
    "\tsj.joke_id, r.rating, date(sj.created_at) as day, r.created_at as voted_at\n",
    "from\n",
    "\tsent_jokes as sj\n",
    "left join \n",
    "\tratings as r\n",
    "on \n",
    "\t(r.joke_id = sj.joke_id)\n",
    "where \n",
    "\tr.\"source\" = 'mail' and sj.sent_from = 'mail'\n",
    "order by sj.created_at asc\n",
    "\"\"\"\n",
    "df_ratings = db.execute_read(conn, sql)\n",
    "df_sent_mails = db.execute_read(conn, \"select joke_id, date(created_at) as day from sent_jokes where sent_from = 'mail'\")"
   ]
  },
  {
   "cell_type": "markdown",
   "metadata": {},
   "source": [
    "#### Get last 10 ratings"
   ]
  },
  {
   "cell_type": "code",
   "execution_count": 17,
   "metadata": {},
   "outputs": [
    {
     "data": {
      "text/html": [
       "<div>\n",
       "<style scoped>\n",
       "    .dataframe tbody tr th:only-of-type {\n",
       "        vertical-align: middle;\n",
       "    }\n",
       "\n",
       "    .dataframe tbody tr th {\n",
       "        vertical-align: top;\n",
       "    }\n",
       "\n",
       "    .dataframe thead th {\n",
       "        text-align: right;\n",
       "    }\n",
       "</style>\n",
       "<table border=\"1\" class=\"dataframe\">\n",
       "  <thead>\n",
       "    <tr style=\"text-align: right;\">\n",
       "      <th></th>\n",
       "      <th>joke_id</th>\n",
       "      <th>rating</th>\n",
       "      <th>day</th>\n",
       "      <th>voted_at</th>\n",
       "    </tr>\n",
       "  </thead>\n",
       "  <tbody>\n",
       "    <tr>\n",
       "      <td>447</td>\n",
       "      <td>194</td>\n",
       "      <td>6.0</td>\n",
       "      <td>2019-12-17</td>\n",
       "      <td>2019-12-17 08:11:36.640183</td>\n",
       "    </tr>\n",
       "    <tr>\n",
       "      <td>448</td>\n",
       "      <td>194</td>\n",
       "      <td>9.0</td>\n",
       "      <td>2019-12-17</td>\n",
       "      <td>2019-12-17 08:24:56.963834</td>\n",
       "    </tr>\n",
       "    <tr>\n",
       "      <td>449</td>\n",
       "      <td>194</td>\n",
       "      <td>6.0</td>\n",
       "      <td>2019-12-17</td>\n",
       "      <td>2019-12-17 10:24:29.763244</td>\n",
       "    </tr>\n",
       "    <tr>\n",
       "      <td>450</td>\n",
       "      <td>194</td>\n",
       "      <td>9.0</td>\n",
       "      <td>2019-12-17</td>\n",
       "      <td>2019-12-17 07:30:29.383083</td>\n",
       "    </tr>\n",
       "    <tr>\n",
       "      <td>451</td>\n",
       "      <td>194</td>\n",
       "      <td>2.0</td>\n",
       "      <td>2019-12-17</td>\n",
       "      <td>2019-12-17 15:42:12.142571</td>\n",
       "    </tr>\n",
       "    <tr>\n",
       "      <td>452</td>\n",
       "      <td>194</td>\n",
       "      <td>5.0</td>\n",
       "      <td>2019-12-17</td>\n",
       "      <td>2019-12-17 07:37:29.004778</td>\n",
       "    </tr>\n",
       "    <tr>\n",
       "      <td>453</td>\n",
       "      <td>194</td>\n",
       "      <td>7.0</td>\n",
       "      <td>2019-12-17</td>\n",
       "      <td>2019-12-17 08:32:29.724290</td>\n",
       "    </tr>\n",
       "    <tr>\n",
       "      <td>454</td>\n",
       "      <td>194</td>\n",
       "      <td>8.0</td>\n",
       "      <td>2019-12-17</td>\n",
       "      <td>2019-12-17 09:27:50.977865</td>\n",
       "    </tr>\n",
       "    <tr>\n",
       "      <td>455</td>\n",
       "      <td>194</td>\n",
       "      <td>10.0</td>\n",
       "      <td>2019-12-17</td>\n",
       "      <td>2019-12-17 09:27:51.716669</td>\n",
       "    </tr>\n",
       "    <tr>\n",
       "      <td>456</td>\n",
       "      <td>194</td>\n",
       "      <td>6.0</td>\n",
       "      <td>2019-12-17</td>\n",
       "      <td>2019-12-17 08:32:32.516783</td>\n",
       "    </tr>\n",
       "    <tr>\n",
       "      <td>457</td>\n",
       "      <td>194</td>\n",
       "      <td>6.0</td>\n",
       "      <td>2019-12-17</td>\n",
       "      <td>2019-12-17 07:38:02.816051</td>\n",
       "    </tr>\n",
       "    <tr>\n",
       "      <td>458</td>\n",
       "      <td>194</td>\n",
       "      <td>4.0</td>\n",
       "      <td>2019-12-17</td>\n",
       "      <td>2019-12-17 07:43:25.805604</td>\n",
       "    </tr>\n",
       "    <tr>\n",
       "      <td>459</td>\n",
       "      <td>194</td>\n",
       "      <td>10.0</td>\n",
       "      <td>2019-12-17</td>\n",
       "      <td>2019-12-17 07:45:12.446764</td>\n",
       "    </tr>\n",
       "    <tr>\n",
       "      <td>460</td>\n",
       "      <td>194</td>\n",
       "      <td>9.0</td>\n",
       "      <td>2019-12-17</td>\n",
       "      <td>2019-12-17 07:58:48.762943</td>\n",
       "    </tr>\n",
       "    <tr>\n",
       "      <td>461</td>\n",
       "      <td>1818</td>\n",
       "      <td>5.0</td>\n",
       "      <td>2020-01-21</td>\n",
       "      <td>2020-01-21 11:10:11.755991</td>\n",
       "    </tr>\n",
       "  </tbody>\n",
       "</table>\n",
       "</div>"
      ],
      "text/plain": [
       "     joke_id  rating         day                   voted_at\n",
       "447      194     6.0  2019-12-17 2019-12-17 08:11:36.640183\n",
       "448      194     9.0  2019-12-17 2019-12-17 08:24:56.963834\n",
       "449      194     6.0  2019-12-17 2019-12-17 10:24:29.763244\n",
       "450      194     9.0  2019-12-17 2019-12-17 07:30:29.383083\n",
       "451      194     2.0  2019-12-17 2019-12-17 15:42:12.142571\n",
       "452      194     5.0  2019-12-17 2019-12-17 07:37:29.004778\n",
       "453      194     7.0  2019-12-17 2019-12-17 08:32:29.724290\n",
       "454      194     8.0  2019-12-17 2019-12-17 09:27:50.977865\n",
       "455      194    10.0  2019-12-17 2019-12-17 09:27:51.716669\n",
       "456      194     6.0  2019-12-17 2019-12-17 08:32:32.516783\n",
       "457      194     6.0  2019-12-17 2019-12-17 07:38:02.816051\n",
       "458      194     4.0  2019-12-17 2019-12-17 07:43:25.805604\n",
       "459      194    10.0  2019-12-17 2019-12-17 07:45:12.446764\n",
       "460      194     9.0  2019-12-17 2019-12-17 07:58:48.762943\n",
       "461     1818     5.0  2020-01-21 2020-01-21 11:10:11.755991"
      ]
     },
     "execution_count": 17,
     "metadata": {},
     "output_type": "execute_result"
    }
   ],
   "source": [
    "df_ratings.tail(15)"
   ]
  },
  {
   "cell_type": "markdown",
   "metadata": {},
   "source": [
    "## Get mean of ratings by joke and day"
   ]
  },
  {
   "cell_type": "code",
   "execution_count": 18,
   "metadata": {},
   "outputs": [
    {
     "data": {
      "text/plain": [
       "<matplotlib.axes._subplots.AxesSubplot at 0x119f9ad10>"
      ]
     },
     "execution_count": 18,
     "metadata": {},
     "output_type": "execute_result"
    },
    {
     "data": {
      "image/png": "[encoded data removed]",
      "text/plain": [
       "<Figure size 1008x432 with 1 Axes>"
      ]
     },
     "metadata": {
      "needs_background": "light"
     },
     "output_type": "display_data"
    }
   ],
   "source": [
    "mean_ratings = df_ratings.groupby([\"day\"])[\"rating\"].mean()\n",
    "mean_ratings.tail(40).plot.bar(x=\"day\", y=\"rating\", figsize=(14, 6))"
   ]
  },
  {
   "cell_type": "markdown",
   "metadata": {},
   "source": [
    "## Get Std Deviation of ratings by joke and day"
   ]
  },
  {
   "cell_type": "code",
   "execution_count": 19,
   "metadata": {},
   "outputs": [
    {
     "data": {
      "text/plain": [
       "<matplotlib.axes._subplots.AxesSubplot at 0x11a5c0690>"
      ]
     },
     "execution_count": 19,
     "metadata": {},
     "output_type": "execute_result"
    },
    {
     "data": {
      "image/png": "[encoded data removed]",
      "text/plain": [
       "<Figure size 1008x432 with 1 Axes>"
      ]
     },
     "metadata": {
      "needs_background": "light"
     },
     "output_type": "display_data"
    }
   ],
   "source": [
    "std_ratings = df_ratings.groupby([\"day\"])[\"rating\"].std()\n",
    "std_ratings.tail(40).plot.bar(x=\"day\", y=\"rating\", figsize=(14, 6))"
   ]
  },
  {
   "cell_type": "code",
   "execution_count": 20,
   "metadata": {},
   "outputs": [],
   "source": [
    "df_count_ratings = df_ratings.rename(columns={\"rating\": \"count\"}).groupby([\"day\"])[\"count\"].count()\n",
    "mean_ratings = pd.concat([mean_ratings, df_count_ratings], axis=1)\n",
    "mean_ratings = mean_ratings[mean_ratings[\"count\"] > 5]\n",
    "\n",
    "std_ratings = pd.concat([std_ratings, df_count_ratings], axis=1)\n",
    "std_ratings = std_ratings[std_ratings[\"count\"] > 5]"
   ]
  },
  {
   "cell_type": "code",
   "execution_count": 21,
   "metadata": {},
   "outputs": [],
   "source": [
    "# add again joke id to table\n",
    "mean_ratings = mean_ratings.merge(df_sent_mails, on='day')\n",
    "std_ratings = std_ratings.merge(df_sent_mails, on='day')"
   ]
  },
  {
   "cell_type": "code",
   "execution_count": 22,
   "metadata": {},
   "outputs": [],
   "source": [
    "# get worst and best joke from mean - date\n",
    "d_best = mean_ratings.sort_values(ascending=False, by='rating').head(1).to_dict(orient=\"index\")\n",
    "best_joke_id = list(d_best.values())[0][\"joke_id\"]\n",
    "d_worst = mean_ratings.sort_values(ascending=False, by='rating').tail(1).to_dict(orient=\"index\")\n",
    "worst_joke_id = list(d_worst.values())[0][\"joke_id\"]\n",
    "\n",
    "# get most controversial joke date\n",
    "d_cont = std_ratings.sort_values(ascending=False, by='rating').head(1).to_dict(orient=\"index\")\n",
    "cont_joke_id = list(d_cont.values())[0][\"joke_id\"]\n",
    "\n",
    "df_best = db.execute_read(conn, f\"select * from jokes_to_send where id = {best_joke_id}\")\n",
    "df_worst = db.execute_read(conn, f\"select * from jokes_to_send where id = {worst_joke_id}\")\n",
    "df_cont = db.execute_read(conn, f\"select * from jokes_to_send where id = {cont_joke_id}\")"
   ]
  },
  {
   "cell_type": "markdown",
   "metadata": {},
   "source": [
    "## Best joke of all time"
   ]
  },
  {
   "cell_type": "code",
   "execution_count": 23,
   "metadata": {},
   "outputs": [
    {
     "name": "stdout",
     "output_type": "stream",
     "text": [
      "Joke:\n",
      "— ¿Qué es un pez en un cine?\n",
      "\n",
      "— Un mero espectador\n",
      "Author: Jokenasi\n"
     ]
    }
   ],
   "source": [
    "print(f\"Joke:\\n{df_best['joke'][0]}\\nAuthor: {df_best['author'][0]}\")"
   ]
  },
  {
   "cell_type": "markdown",
   "metadata": {},
   "source": [
    "## Worst joke of all time"
   ]
  },
  {
   "cell_type": "code",
   "execution_count": 24,
   "metadata": {},
   "outputs": [
    {
     "name": "stdout",
     "output_type": "stream",
     "text": [
      "Joke:\n",
      "Estos son Zidane i Nhug, nuestros perros de caza... \n",
      ".... de caza nueztra.\n",
      "Author: None\n"
     ]
    }
   ],
   "source": [
    "print(f\"Joke:\\n{df_worst['joke'][0]}\\nAuthor: {df_worst['author'][0]}\")"
   ]
  },
  {
   "cell_type": "markdown",
   "metadata": {},
   "source": [
    "## Most controversial of all time"
   ]
  },
  {
   "cell_type": "code",
   "execution_count": 25,
   "metadata": {},
   "outputs": [
    {
     "name": "stdout",
     "output_type": "stream",
     "text": [
      "Joke:\n",
      "¿En qué se parecen un gato, un perro y un hombre ahogado?\n",
      "En que el gato dice miau, el perro dice guau y el hombre dice: miauguau\n",
      "Author: The Manlleus\n"
     ]
    }
   ],
   "source": [
    "print(f\"Joke:\\n{df_cont['joke'][0]}\\nAuthor: {df_cont['author'][0]}\")"
   ]
  }
 ],
 "metadata": {
  "kernelspec": {
   "display_name": "Python 3",
   "language": "python",
   "name": "python3"
  },
  "language_info": {
   "codemirror_mode": {
    "name": "ipython",
    "version": 3
   },
   "file_extension": ".py",
   "mimetype": "text/x-python",
   "name": "python",
   "nbconvert_exporter": "python",
   "pygments_lexer": "ipython3",
   "version": "3.7.4"
  }
 },
 "nbformat": 4,
 "nbformat_minor": 2
}
